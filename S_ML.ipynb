{
  "nbformat": 4,
  "nbformat_minor": 0,
  "metadata": {
    "colab": {
      "provenance": []
    },
    "kernelspec": {
      "name": "python3",
      "display_name": "Python 3"
    },
    "language_info": {
      "name": "python"
    }
  },
  "cells": [
    {
      "cell_type": "code",
      "source": [
        "import os\n",
        "import string\n",
        "import numpy as np\n",
        "import pandas as pd\n",
        "import nltk\n",
        "from nltk.corpus import stopwords\n",
        "nltk.download('stopwords')\n",
        "nltk.download('punkt')"
      ],
      "metadata": {
        "id": "-UQXIQjIf4KS",
        "colab": {
          "base_uri": "https://localhost:8080/"
        },
        "outputId": "15261363-0408-455f-bf11-95050257827e"
      },
      "execution_count": 1,
      "outputs": [
        {
          "output_type": "stream",
          "name": "stderr",
          "text": [
            "[nltk_data] Downloading package stopwords to /root/nltk_data...\n",
            "[nltk_data]   Unzipping corpora/stopwords.zip.\n",
            "[nltk_data] Downloading package punkt to /root/nltk_data...\n",
            "[nltk_data]   Unzipping tokenizers/punkt.zip.\n"
          ]
        },
        {
          "output_type": "execute_result",
          "data": {
            "text/plain": [
              "True"
            ]
          },
          "metadata": {},
          "execution_count": 1
        }
      ]
    },
    {
      "cell_type": "code",
      "source": [
        "# df - data frame\n",
        "df = pd.read_csv('/content/drive/MyDrive/train-balanced-sarcasm.csv')\n",
        "# dropping empty comment entries\n",
        "df.dropna(subset=['comment'], inplace=True)\n",
        "\n",
        "print('Type:')\n",
        "print('Labels array ',type(df.label))\n",
        "print('Comments array ',type(df.comment))\n",
        "print('one comment line ', type(df.comment[0]))\n",
        "print('Shape:')\n",
        "print('Labels array ',df.label.shape)\n",
        "print('Comments array ',df.comment.shape)\n",
        "print('Two first entries:')\n",
        "print (df.label[0], df.comment[0])\n",
        "print (df.label[1], df.comment[1])"
      ],
      "metadata": {
        "id": "JTbsJXGef8GY",
        "colab": {
          "base_uri": "https://localhost:8080/"
        },
        "outputId": "b264197a-4bbb-40f5-8b43-ed517bc9e68c"
      },
      "execution_count": 2,
      "outputs": [
        {
          "output_type": "stream",
          "name": "stdout",
          "text": [
            "Type:\n",
            "Labels array  <class 'pandas.core.series.Series'>\n",
            "Comments array  <class 'pandas.core.series.Series'>\n",
            "one comment line  <class 'str'>\n",
            "Shape:\n",
            "Labels array  (1010771,)\n",
            "Comments array  (1010771,)\n",
            "Two first entries:\n",
            "0 NC and NH.\n",
            "0 You do know west teams play against west teams more than east teams right?\n"
          ]
        }
      ]
    },
    {
      "cell_type": "code",
      "source": [
        "from sklearn.feature_extraction.text import TfidfVectorizer\n",
        "# create the transform\n",
        "tf_idf_vectorizer = TfidfVectorizer()\n",
        "# tokenize and build vocab\n",
        "T = tf_idf_vectorizer.fit(df.comment)\n",
        "print(len(T.vocabulary_))"
      ],
      "metadata": {
        "id": "uZ8G_I62zy5A",
        "colab": {
          "base_uri": "https://localhost:8080/"
        },
        "outputId": "af8d2fff-ee40-4967-ffd6-37ddf917362b"
      },
      "execution_count": 3,
      "outputs": [
        {
          "output_type": "stream",
          "name": "stdout",
          "text": [
            "167435\n"
          ]
        }
      ]
    },
    {
      "cell_type": "code",
      "source": [
        "# preprocess with nltk\n",
        "def my_tokenizer(corpus):\n",
        "    corpus_tokenized = []\n",
        "    tokenizer = nltk.tokenize.RegexpTokenizer(r'\\w+')\n",
        "    sbs = nltk.stem.SnowballStemmer('english', ignore_stopwords=False)\n",
        "    for comment in corpus:\n",
        "        words = tokenizer.tokenize(comment)\n",
        "        # Remove stop words\n",
        "        stop_words = set(stopwords.words('english'))\n",
        "        words = [word for word in words if not word in stop_words]\n",
        "\n",
        "        cmnt_t = []\n",
        "        for token in words:\n",
        "            cmnt_t.append(sbs.stem(token))\n",
        "            # make a string to be compatible with TfidfVectorizer\n",
        "            c = ' '.join(cmnt_t)\n",
        "        # Lemmitize\n",
        "        #words = [lemmatizer.lemmatize(word) for word in words]\n",
        "\n",
        "        corpus_tokenized.append(c)\n",
        "    return corpus_tokenized"
      ],
      "metadata": {
        "id": "RKcpiqdyz3vG"
      },
      "execution_count": 4,
      "outputs": []
    },
    {
      "cell_type": "code",
      "source": [
        "df2 = my_tokenizer(df.comment)"
      ],
      "metadata": {
        "id": "T-X8q7eXz6-q"
      },
      "execution_count": 5,
      "outputs": []
    },
    {
      "cell_type": "code",
      "source": [
        "for i in range(10):\n",
        "    print(df.comment[i])\n",
        "    print(df2[i], '\\n')"
      ],
      "metadata": {
        "id": "uRPdDHvsz-Xw",
        "colab": {
          "base_uri": "https://localhost:8080/"
        },
        "outputId": "15399d9f-2c0f-40ae-ccdd-f8bc0057a8ab"
      },
      "execution_count": 6,
      "outputs": [
        {
          "output_type": "stream",
          "name": "stdout",
          "text": [
            "NC and NH.\n",
            "nc nh \n",
            "\n",
            "You do know west teams play against west teams more than east teams right?\n",
            "you know west team play west team east team right \n",
            "\n",
            "They were underdogs earlier today, but since Gronk's announcement this afternoon, the Vegas line has moved to patriots -1\n",
            "they underdog earlier today sinc gronk announc afternoon vega line move patriot 1 \n",
            "\n",
            "This meme isn't funny none of the \"new york nigga\" ones are.\n",
            "this meme funni none new york nigga one \n",
            "\n",
            "I could use one of those tools.\n",
            "i could use one tool \n",
            "\n",
            "I don't pay attention to her, but as long as she's legal I wouldn't kick her out of bed (before she took a load)\n",
            "i pay attent long legal i kick bed took load \n",
            "\n",
            "Trick or treating in general is just weird...\n",
            "trick treat general weird \n",
            "\n",
            "Blade Mastery+Masamune or GTFO!\n",
            "blade masteri masamun gtfo \n",
            "\n",
            "You don't have to, you have a good build, buy games or save it\n",
            "you good build buy game save \n",
            "\n",
            "I would love to see him at lolla.\n",
            "i would love see lolla \n",
            "\n"
          ]
        }
      ]
    },
    {
      "cell_type": "code",
      "source": [
        "print(df2[0:5], '\\n')\n",
        "# convert to pandas Series type type to be compatible with TfidfVectorizer\n",
        "df3 = pd.Series((v for v in df2))\n",
        "print(type(df3), '\\n')\n",
        "print(type(df3[0]))\n",
        "print(df3[0:5])"
      ],
      "metadata": {
        "id": "M5BdXkKd0Buk",
        "colab": {
          "base_uri": "https://localhost:8080/"
        },
        "outputId": "0f2a2be3-ff98-41c0-f737-86fbfec9d8e6"
      },
      "execution_count": 7,
      "outputs": [
        {
          "output_type": "stream",
          "name": "stdout",
          "text": [
            "['nc nh', 'you know west team play west team east team right', 'they underdog earlier today sinc gronk announc afternoon vega line move patriot 1', 'this meme funni none new york nigga one', 'i could use one tool'] \n",
            "\n",
            "<class 'pandas.core.series.Series'> \n",
            "\n",
            "<class 'str'>\n",
            "0                                                nc nh\n",
            "1    you know west team play west team east team right\n",
            "2    they underdog earlier today sinc gronk announc...\n",
            "3              this meme funni none new york nigga one\n",
            "4                                 i could use one tool\n",
            "dtype: object\n"
          ]
        }
      ]
    },
    {
      "cell_type": "code",
      "source": [
        "tf_idf_vectorizer2 = TfidfVectorizer()\n",
        "T2 = tf_idf_vectorizer2.fit(df3)\n",
        "print(len(T2.vocabulary_))"
      ],
      "metadata": {
        "id": "JDwbLuYd0E8X",
        "colab": {
          "base_uri": "https://localhost:8080/"
        },
        "outputId": "cb3f5920-2dc2-4c17-8a69-1e6c481f264b"
      },
      "execution_count": 8,
      "outputs": [
        {
          "output_type": "stream",
          "name": "stdout",
          "text": [
            "131021\n"
          ]
        }
      ]
    },
    {
      "cell_type": "code",
      "source": [
        "from sklearn.model_selection import train_test_split\n",
        "# divide into train and test sets\n",
        "X_train, X_test, y_train, y_test = train_test_split(df.comment, df.label, train_size=0.33)"
      ],
      "metadata": {
        "id": "MUhzc6wI0Jga"
      },
      "execution_count": 14,
      "outputs": []
    },
    {
      "cell_type": "code",
      "source": [
        "# Vetorize the training data set\n",
        "X_train = tf_idf_vectorizer2.transform(X_train)\n",
        "print(X_train.shape)\n",
        "print(X_train[0:3])"
      ],
      "metadata": {
        "id": "7pkMN0J60MbC",
        "colab": {
          "base_uri": "https://localhost:8080/"
        },
        "outputId": "cdc1a9aa-117b-4140-97c7-753b460150f5"
      },
      "execution_count": 15,
      "outputs": [
        {
          "output_type": "stream",
          "name": "stdout",
          "text": [
            "(333554, 131021)\n",
            "  (0, 129631)\t0.2179638408128885\n",
            "  (0, 127633)\t0.2176940297958691\n",
            "  (0, 126216)\t0.340269171134213\n",
            "  (0, 115642)\t0.6054221471630394\n",
            "  (0, 114778)\t0.23027373882520158\n",
            "  (0, 89745)\t0.41538117555406034\n",
            "  (0, 52025)\t0.25451453303219035\n",
            "  (0, 16128)\t0.3639187066745204\n",
            "  (1, 129631)\t0.2485205541586652\n",
            "  (1, 126030)\t0.42299915946419653\n",
            "  (1, 125869)\t0.29641210117101224\n",
            "  (1, 115097)\t0.4577178770751383\n",
            "  (1, 108080)\t0.40815794263843724\n",
            "  (1, 83738)\t0.3900319835889736\n",
            "  (1, 12075)\t0.3784515849844951\n",
            "  (2, 82407)\t0.27907926898133484\n",
            "  (2, 58272)\t0.6378236569378188\n",
            "  (2, 50467)\t0.47409634764980835\n",
            "  (2, 49257)\t0.267687390693617\n",
            "  (2, 44898)\t0.3305349841886758\n",
            "  (2, 34179)\t0.3310868202019796\n"
          ]
        }
      ]
    },
    {
      "cell_type": "code",
      "source": [
        "# Vetorize the test data set\n",
        "X_test = tf_idf_vectorizer.transform(X_test)\n",
        "print(X_test.shape)\n",
        "print(X_test[0:3])"
      ],
      "metadata": {
        "id": "zzmeR_EQ0QME",
        "colab": {
          "base_uri": "https://localhost:8080/"
        },
        "outputId": "04816ee4-112f-4edc-f3c3-c8d81883dcd1"
      },
      "execution_count": 16,
      "outputs": [
        {
          "output_type": "stream",
          "name": "stdout",
          "text": [
            "(677217, 167435)\n",
            "  (0, 165906)\t0.17238718000603842\n",
            "  (0, 147395)\t0.17698587923931622\n",
            "  (0, 133956)\t0.2956907710512197\n",
            "  (0, 125662)\t0.29339455666742065\n",
            "  (0, 121730)\t0.27158394943761904\n",
            "  (0, 104293)\t0.23295342534407645\n",
            "  (0, 82551)\t0.40644621289482447\n",
            "  (0, 69609)\t0.3386406561910228\n",
            "  (0, 68753)\t0.23721919317496565\n",
            "  (0, 54254)\t0.4102038860537111\n",
            "  (0, 50491)\t0.3646970373264114\n",
            "  (1, 127762)\t0.630640793257612\n",
            "  (1, 111122)\t0.7760748610020879\n",
            "  (2, 158112)\t0.6201985605337953\n",
            "  (2, 102844)\t0.3599458906783572\n",
            "  (2, 13754)\t0.6969883078614535\n"
          ]
        }
      ]
    },
    {
      "cell_type": "code",
      "source": [
        "from sklearn.manifold import TSNE\n",
        "import matplotlib.pyplot as plt\n",
        "import seaborn as sns"
      ],
      "metadata": {
        "id": "p8NLl5eZWE6c"
      },
      "execution_count": 17,
      "outputs": []
    },
    {
      "cell_type": "code",
      "source": [
        "plt.figure(figsize=(5,5))\n",
        "ax = sns.countplot(x='label',  data= df)\n",
        "ax.set(title = \"Distribution of Classes\", xlabel=\"Sarcasm Status\", ylabel = \"Total Count\")\n",
        "total = float(len(df ))\n",
        "for p in ax.patches:\n",
        "    height = p.get_height()\n",
        "    ax.text(p.get_x()+p.get_width()/2.,\n",
        "            height + 3,\n",
        "            '{:1.1f}%'.format((height/total)*100),\n",
        "            ha=\"center\")\n",
        "plt.show()"
      ],
      "metadata": {
        "colab": {
          "base_uri": "https://localhost:8080/",
          "height": 487
        },
        "id": "p2LyuecGgtdz",
        "outputId": "54ae6972-f220-494c-d1c7-82c0feb8df58"
      },
      "execution_count": 19,
      "outputs": [
        {
          "output_type": "display_data",
          "data": {
            "text/plain": [
              "<Figure size 500x500 with 1 Axes>"
            ],
            "image/png": "[encoded data removed]"
          },
          "metadata": {}
        }
      ]
    },
    {
      "cell_type": "code",
      "source": [
        "from sklearn.metrics import confusion_matrix\n",
        "from sklearn.metrics import classification_report\n",
        "from sklearn.model_selection import train_test_split\n",
        "from sklearn.linear_model import LogisticRegression\n",
        "from sklearn.tree import DecisionTreeClassifier\n",
        "from sklearn.ensemble import RandomForestClassifier\n",
        "from sklearn.linear_model import SGDClassifier\n",
        "from sklearn.naive_bayes import MultinomialNB\n",
        "from sklearn.ensemble import VotingClassifier\n",
        "from sklearn.ensemble import BaggingClassifier\n",
        "from sklearn.ensemble import AdaBoostClassifier, RandomForestClassifier, ExtraTreesClassifier\n",
        "from sklearn.svm import SVC\n",
        "from sklearn.metrics import accuracy_score,precision_score,recall_score,f1_score,roc_auc_score\n",
        "from sklearn.metrics import average_precision_score,roc_auc_score, roc_curve, precision_recall_curve\n",
        "from sklearn.preprocessing import LabelEncoder\n",
        "from sklearn.feature_extraction.text import TfidfVectorizer"
      ],
      "metadata": {
        "id": "N_lkFTIS_amp"
      },
      "execution_count": 20,
      "outputs": []
    },
    {
      "cell_type": "code",
      "source": [
        "def print_metrices(pred,true):\n",
        "    print(confusion_matrix(true,pred))\n",
        "    print(classification_report(true,pred,))\n",
        "    print(\"Accuracy : \",accuracy_score(pred,true))\n",
        "    print(\"Precison : \",precision_score(pred,true, average = 'weighted'))\n",
        "    print(\"Recall : \",recall_score(pred,true,  average = 'weighted'))\n",
        "    print(\"F1 : \",f1_score(pred,true,  average = 'weighted'))"
      ],
      "metadata": {
        "id": "Tv4UsnLY_cj7"
      },
      "execution_count": 21,
      "outputs": []
    },
    {
      "cell_type": "code",
      "source": [
        "#X_train, X_test, y_train, y_test = train_test_split(df.comment, df.label, train_size=0.33)\n",
        "X_train,X_test,y_train,y_test = train_test_split(df.comment,df.label,test_size = 0.3,random_state = 42)"
      ],
      "metadata": {
        "id": "_VevjewZ_h5x"
      },
      "execution_count": 22,
      "outputs": []
    },
    {
      "cell_type": "code",
      "source": [
        "tfidf = TfidfVectorizer(ngram_range = (1,3))\n",
        "X_tfidf_train = tfidf.fit_transform(X_train.tolist())\n",
        "X_tfidf_test = tfidf.transform(X_test.tolist())"
      ],
      "metadata": {
        "id": "lFS3vSj7_57h"
      },
      "execution_count": 23,
      "outputs": []
    },
    {
      "cell_type": "code",
      "source": [
        "X_train.head()"
      ],
      "metadata": {
        "colab": {
          "base_uri": "https://localhost:8080/"
        },
        "id": "mzGpg-YkAGYZ",
        "outputId": "356a534b-7d0f-44a4-dbe0-826d69b7ae0a"
      },
      "execution_count": 24,
      "outputs": [
        {
          "output_type": "execute_result",
          "data": {
            "text/plain": [
              "694224                                        Who needs it.\n",
              "68297     Because it's not sleepaway camp where you can ...\n",
              "249383    You mean the team that plays Ohio State and Ho...\n",
              "361388    Yeah, because this entire several paragraph ra...\n",
              "278505    Well he is in college now so he should demand ...\n",
              "Name: comment, dtype: object"
            ]
          },
          "metadata": {},
          "execution_count": 24
        }
      ]
    },
    {
      "cell_type": "code",
      "source": [
        "lr = LogisticRegression(class_weight = 'balanced')\n",
        "lr.fit(X_tfidf_train,y_train)"
      ],
      "metadata": {
        "colab": {
          "base_uri": "https://localhost:8080/",
          "height": 233
        },
        "id": "nsk10PkoAKZE",
        "outputId": "9b7f07a0-bb8c-4345-f69b-a2fa2b3d8af3"
      },
      "execution_count": 25,
      "outputs": [
        {
          "output_type": "stream",
          "name": "stderr",
          "text": [
            "/usr/local/lib/python3.10/dist-packages/sklearn/linear_model/_logistic.py:458: ConvergenceWarning: lbfgs failed to converge (status=1):\n",
            "STOP: TOTAL NO. of ITERATIONS REACHED LIMIT.\n",
            "\n",
            "Increase the number of iterations (max_iter) or scale the data as shown in:\n",
            "    https://scikit-learn.org/stable/modules/preprocessing.html\n",
            "Please also refer to the documentation for alternative solver options:\n",
            "    https://scikit-learn.org/stable/modules/linear_model.html#logistic-regression\n",
            "  n_iter_i = _check_optimize_result(\n"
          ]
        },
        {
          "output_type": "execute_result",
          "data": {
            "text/plain": [
              "LogisticRegression(class_weight='balanced')"
            ],
            "text/html": [
              "<style>#sk-container-id-1 {color: black;background-color: white;}#sk-container-id-1 pre{padding: 0;}#sk-container-id-1 div.sk-toggleable {background-color: white;}#sk-container-id-1 label.sk-toggleable__label {cursor: pointer;display: block;width: 100%;margin-bottom: 0;padding: 0.3em;box-sizing: border-box;text-align: center;}#sk-container-id-1 label.sk-toggleable__label-arrow:before {content: \"▸\";float: left;margin-right: 0.25em;color: #696969;}#sk-container-id-1 label.sk-toggleable__label-arrow:hover:before {color: black;}#sk-container-id-1 div.sk-estimator:hover label.sk-toggleable__label-arrow:before {color: black;}#sk-container-id-1 div.sk-toggleable__content {max-height: 0;max-width: 0;overflow: hidden;text-align: left;background-color: #f0f8ff;}#sk-container-id-1 div.sk-toggleable__content pre {margin: 0.2em;color: black;border-radius: 0.25em;background-color: #f0f8ff;}#sk-container-id-1 input.sk-toggleable__control:checked~div.sk-toggleable__content {max-height: 200px;max-width: 100%;overflow: auto;}#sk-container-id-1 input.sk-toggleable__control:checked~label.sk-toggleable__label-arrow:before {content: \"▾\";}#sk-container-id-1 div.sk-estimator input.sk-toggleable__control:checked~label.sk-toggleable__label {background-color: #d4ebff;}#sk-container-id-1 div.sk-label input.sk-toggleable__control:checked~label.sk-toggleable__label {background-color: #d4ebff;}#sk-container-id-1 input.sk-hidden--visually {border: 0;clip: rect(1px 1px 1px 1px);clip: rect(1px, 1px, 1px, 1px);height: 1px;margin: -1px;overflow: hidden;padding: 0;position: absolute;width: 1px;}#sk-container-id-1 div.sk-estimator {font-family: monospace;background-color: #f0f8ff;border: 1px dotted black;border-radius: 0.25em;box-sizing: border-box;margin-bottom: 0.5em;}#sk-container-id-1 div.sk-estimator:hover {background-color: #d4ebff;}#sk-container-id-1 div.sk-parallel-item::after {content: \"\";width: 100%;border-bottom: 1px solid gray;flex-grow: 1;}#sk-container-id-1 div.sk-label:hover label.sk-toggleable__label {background-color: #d4ebff;}#sk-container-id-1 div.sk-serial::before {content: \"\";position: absolute;border-left: 1px solid gray;box-sizing: border-box;top: 0;bottom: 0;left: 50%;z-index: 0;}#sk-container-id-1 div.sk-serial {display: flex;flex-direction: column;align-items: center;background-color: white;padding-right: 0.2em;padding-left: 0.2em;position: relative;}#sk-container-id-1 div.sk-item {position: relative;z-index: 1;}#sk-container-id-1 div.sk-parallel {display: flex;align-items: stretch;justify-content: center;background-color: white;position: relative;}#sk-container-id-1 div.sk-item::before, #sk-container-id-1 div.sk-parallel-item::before {content: \"\";position: absolute;border-left: 1px solid gray;box-sizing: border-box;top: 0;bottom: 0;left: 50%;z-index: -1;}#sk-container-id-1 div.sk-parallel-item {display: flex;flex-direction: column;z-index: 1;position: relative;background-color: white;}#sk-container-id-1 div.sk-parallel-item:first-child::after {align-self: flex-end;width: 50%;}#sk-container-id-1 div.sk-parallel-item:last-child::after {align-self: flex-start;width: 50%;}#sk-container-id-1 div.sk-parallel-item:only-child::after {width: 0;}#sk-container-id-1 div.sk-dashed-wrapped {border: 1px dashed gray;margin: 0 0.4em 0.5em 0.4em;box-sizing: border-box;padding-bottom: 0.4em;background-color: white;}#sk-container-id-1 div.sk-label label {font-family: monospace;font-weight: bold;display: inline-block;line-height: 1.2em;}#sk-container-id-1 div.sk-label-container {text-align: center;}#sk-container-id-1 div.sk-container {/* jupyter's `normalize.less` sets `[hidden] { display: none; }` but bootstrap.min.css set `[hidden] { display: none !important; }` so we also need the `!important` here to be able to override the default hidden behavior on the sphinx rendered scikit-learn.org. See: https://github.com/scikit-learn/scikit-learn/issues/21755 */display: inline-block !important;position: relative;}#sk-container-id-1 div.sk-text-repr-fallback {display: none;}</style><div id=\"sk-container-id-1\" class=\"sk-top-container\"><div class=\"sk-text-repr-fallback\"><pre>LogisticRegression(class_weight=&#x27;balanced&#x27;)</pre><b>In a Jupyter environment, please rerun this cell to show the HTML representation or trust the notebook. <br />On GitHub, the HTML representation is unable to render, please try loading this page with nbviewer.org.</b></div><div class=\"sk-container\" hidden><div class=\"sk-item\"><div class=\"sk-estimator sk-toggleable\"><input class=\"sk-toggleable__control sk-hidden--visually\" id=\"sk-estimator-id-1\" type=\"checkbox\" checked><label for=\"sk-estimator-id-1\" class=\"sk-toggleable__label sk-toggleable__label-arrow\">LogisticRegression</label><div class=\"sk-toggleable__content\"><pre>LogisticRegression(class_weight=&#x27;balanced&#x27;)</pre></div></div></div></div></div>"
            ]
          },
          "metadata": {},
          "execution_count": 25
        }
      ]
    },
    {
      "cell_type": "code",
      "source": [
        "y_pred_lr = lr.predict(X_tfidf_test)\n",
        "print_metrices(y_pred_lr,y_test)"
      ],
      "metadata": {
        "colab": {
          "base_uri": "https://localhost:8080/"
        },
        "id": "JReboZjgAnJ4",
        "outputId": "4ad830b1-0180-4665-8e93-dba598d754f0"
      },
      "execution_count": 26,
      "outputs": [
        {
          "output_type": "stream",
          "name": "stdout",
          "text": [
            "[[110452  41046]\n",
            " [ 43177 108557]]\n",
            "              precision    recall  f1-score   support\n",
            "\n",
            "           0       0.72      0.73      0.72    151498\n",
            "           1       0.73      0.72      0.72    151734\n",
            "\n",
            "    accuracy                           0.72    303232\n",
            "   macro avg       0.72      0.72      0.72    303232\n",
            "weighted avg       0.72      0.72      0.72    303232\n",
            "\n",
            "Accuracy :  0.722248971084846\n",
            "Precison :  0.7223447077935667\n",
            "Recall :  0.722248971084846\n",
            "F1 :  0.7222611698323202\n"
          ]
        }
      ]
    },
    {
      "cell_type": "code",
      "source": [
        "clf_nb = MultinomialNB()\n",
        "clf_nb.fit(X_tfidf_train,y_train)\n",
        "y_pred_nb = clf_nb.predict(X_tfidf_test)\n",
        "print_metrices(y_pred_nb,y_test)"
      ],
      "metadata": {
        "colab": {
          "base_uri": "https://localhost:8080/"
        },
        "id": "HOjQ0WvCAufb",
        "outputId": "e064f0be-b971-41c9-8342-de13daa21083"
      },
      "execution_count": 27,
      "outputs": [
        {
          "output_type": "stream",
          "name": "stdout",
          "text": [
            "[[104987  46511]\n",
            " [ 40202 111532]]\n",
            "              precision    recall  f1-score   support\n",
            "\n",
            "           0       0.72      0.69      0.71    151498\n",
            "           1       0.71      0.74      0.72    151734\n",
            "\n",
            "    accuracy                           0.71    303232\n",
            "   macro avg       0.71      0.71      0.71    303232\n",
            "weighted avg       0.71      0.71      0.71    303232\n",
            "\n",
            "Accuracy :  0.7140374366821444\n",
            "Precison :  0.7149124652160971\n",
            "Recall :  0.7140374366821444\n",
            "F1 :  0.7141659155416942\n"
          ]
        }
      ]
    },
    {
      "cell_type": "code",
      "source": [
        "from sklearn.metrics import confusion_matrix, ConfusionMatrixDisplay"
      ],
      "metadata": {
        "id": "dQ5lOlAunCmV"
      },
      "execution_count": 33,
      "outputs": []
    },
    {
      "cell_type": "code",
      "source": [
        "# Print confusion matrix and classification report\n",
        "cm = confusion_matrix(y_test, y_pred_lr)\n",
        "# Display confusion matrix using seaborn\n",
        "plt.figure(figsize=(10, 7))\n",
        "sns.heatmap(cm, annot=True, fmt='d', cmap='Blues', xticklabels=['Not Sarcastic', 'Sarcastic'], yticklabels=['Not Sarcastic', 'Sarcastic'])\n",
        "plt.xlabel('Predicted Label')\n",
        "plt.ylabel('True Label')\n",
        "plt.title('Confusion Matrix - Logistic Regression')\n",
        "plt.show()"
      ],
      "metadata": {
        "colab": {
          "base_uri": "https://localhost:8080/",
          "height": 641
        },
        "id": "OeBdk94tnZcG",
        "outputId": "dbb6374f-6380-4f00-9f43-08cff7046f84"
      },
      "execution_count": 41,
      "outputs": [
        {
          "output_type": "display_data",
          "data": {
            "text/plain": [
              "<Figure size 1000x700 with 2 Axes>"
            ],
            "image/png": "[encoded data removed]"
          },
          "metadata": {}
        }
      ]
    },
    {
      "cell_type": "code",
      "source": [
        "# Print confusion matrix and classification report\n",
        "cm = confusion_matrix(y_test, y_pred_nb)\n",
        "# Display confusion matrix using seaborn\n",
        "plt.figure(figsize=(10, 7))\n",
        "sns.heatmap(cm, annot=True, fmt='d', cmap='Blues', xticklabels=['Not Sarcastic', 'Sarcastic'], yticklabels=['Not Sarcastic', 'Sarcastic'])\n",
        "plt.xlabel('Predicted Label')\n",
        "plt.ylabel('True Label')\n",
        "plt.title('Confusion Matrix - Naive Bayes')\n",
        "plt.show()"
      ],
      "metadata": {
        "colab": {
          "base_uri": "https://localhost:8080/",
          "height": 641
        },
        "id": "nRAi9tApoHsC",
        "outputId": "98e38ebe-317e-497f-974a-467aeb5be762"
      },
      "execution_count": 40,
      "outputs": [
        {
          "output_type": "display_data",
          "data": {
            "text/plain": [
              "<Figure size 1000x700 with 2 Axes>"
            ],
            "image/png": "[encoded data removed]"
          },
          "metadata": {}
        }
      ]
    },
    {
      "cell_type": "code",
      "source": [
        "# Convert X_train to a NumPy array\n",
        "X_train_array = X_train.to_numpy()\n",
        "\n",
        "# Reshape the array\n",
        "X_train_array = X_train_array.reshape(-1, 1)\n",
        "\n",
        "print(X_train_array.shape)"
      ],
      "metadata": {
        "colab": {
          "base_uri": "https://localhost:8080/"
        },
        "id": "-kl0flXjEA6I",
        "outputId": "6595f01d-6a39-4286-ff95-d6a222f8c72f"
      },
      "execution_count": 28,
      "outputs": [
        {
          "output_type": "stream",
          "name": "stdout",
          "text": [
            "(707539, 1)\n"
          ]
        }
      ]
    },
    {
      "cell_type": "code",
      "source": [
        "acc_table = {\n",
        "    'Logistic Regression' : accuracy_score(y_pred_lr,y_test),\n",
        "    'Naive Bayes' : accuracy_score(y_pred_nb,y_test),\n",
        "    }"
      ],
      "metadata": {
        "id": "aK-DeFg_BlYu"
      },
      "execution_count": 29,
      "outputs": []
    },
    {
      "cell_type": "code",
      "source": [
        "acc_df = pd.DataFrame(acc_table.items(),columns = ['Model','Accuracy'])"
      ],
      "metadata": {
        "id": "nxF5vuU_B6SC"
      },
      "execution_count": 30,
      "outputs": []
    },
    {
      "cell_type": "code",
      "source": [
        "!pip install seaborn"
      ],
      "metadata": {
        "colab": {
          "base_uri": "https://localhost:8080/"
        },
        "id": "W2azR5QhCKM1",
        "outputId": "cb8cb947-137a-45c8-af2e-b89be22ff803"
      },
      "execution_count": 31,
      "outputs": [
        {
          "output_type": "stream",
          "name": "stdout",
          "text": [
            "Requirement already satisfied: seaborn in /usr/local/lib/python3.10/dist-packages (0.13.1)\n",
            "Requirement already satisfied: numpy!=1.24.0,>=1.20 in /usr/local/lib/python3.10/dist-packages (from seaborn) (1.25.2)\n",
            "Requirement already satisfied: pandas>=1.2 in /usr/local/lib/python3.10/dist-packages (from seaborn) (2.0.3)\n",
            "Requirement already satisfied: matplotlib!=3.6.1,>=3.4 in /usr/local/lib/python3.10/dist-packages (from seaborn) (3.7.1)\n",
            "Requirement already satisfied: contourpy>=1.0.1 in /usr/local/lib/python3.10/dist-packages (from matplotlib!=3.6.1,>=3.4->seaborn) (1.2.1)\n",
            "Requirement already satisfied: cycler>=0.10 in /usr/local/lib/python3.10/dist-packages (from matplotlib!=3.6.1,>=3.4->seaborn) (0.12.1)\n",
            "Requirement already satisfied: fonttools>=4.22.0 in /usr/local/lib/python3.10/dist-packages (from matplotlib!=3.6.1,>=3.4->seaborn) (4.51.0)\n",
            "Requirement already satisfied: kiwisolver>=1.0.1 in /usr/local/lib/python3.10/dist-packages (from matplotlib!=3.6.1,>=3.4->seaborn) (1.4.5)\n",
            "Requirement already satisfied: packaging>=20.0 in /usr/local/lib/python3.10/dist-packages (from matplotlib!=3.6.1,>=3.4->seaborn) (24.0)\n",
            "Requirement already satisfied: pillow>=6.2.0 in /usr/local/lib/python3.10/dist-packages (from matplotlib!=3.6.1,>=3.4->seaborn) (9.4.0)\n",
            "Requirement already satisfied: pyparsing>=2.3.1 in /usr/local/lib/python3.10/dist-packages (from matplotlib!=3.6.1,>=3.4->seaborn) (3.1.2)\n",
            "Requirement already satisfied: python-dateutil>=2.7 in /usr/local/lib/python3.10/dist-packages (from matplotlib!=3.6.1,>=3.4->seaborn) (2.8.2)\n",
            "Requirement already satisfied: pytz>=2020.1 in /usr/local/lib/python3.10/dist-packages (from pandas>=1.2->seaborn) (2023.4)\n",
            "Requirement already satisfied: tzdata>=2022.1 in /usr/local/lib/python3.10/dist-packages (from pandas>=1.2->seaborn) (2024.1)\n",
            "Requirement already satisfied: six>=1.5 in /usr/local/lib/python3.10/dist-packages (from python-dateutil>=2.7->matplotlib!=3.6.1,>=3.4->seaborn) (1.16.0)\n"
          ]
        }
      ]
    },
    {
      "cell_type": "code",
      "source": [
        "# fig, ax = plt.subplots()\n",
        "import seaborn as sns\n",
        "plt.figure(figsize = (5,5))\n",
        "sns.barplot(x=acc_df['Model'], y=acc_df['Accuracy'], data=acc_df)"
      ],
      "metadata": {
        "colab": {
          "base_uri": "https://localhost:8080/",
          "height": 482
        },
        "id": "Bzxz9QVECByH",
        "outputId": "fa30eed6-3a2f-479c-ebeb-9f3ba701c628"
      },
      "execution_count": 32,
      "outputs": [
        {
          "output_type": "execute_result",
          "data": {
            "text/plain": [
              "<Axes: xlabel='Model', ylabel='Accuracy'>"
            ]
          },
          "metadata": {},
          "execution_count": 32
        },
        {
          "output_type": "display_data",
          "data": {
            "text/plain": [
              "<Figure size 500x500 with 1 Axes>"
            ],
            "image/png": "[encoded data removed]"
          },
          "metadata": {}
        }
      ]
    }
  ]
}