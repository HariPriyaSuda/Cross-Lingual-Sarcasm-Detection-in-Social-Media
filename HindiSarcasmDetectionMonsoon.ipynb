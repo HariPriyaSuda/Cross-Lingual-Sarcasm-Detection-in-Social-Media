{
 "cells": [
  {
   "cell_type": "code",
   "execution_count": 1,
   "metadata": {
    "colab": {
     "base_uri": "https://localhost:8080/"
    },
    "id": "_EjvqD-CO6LA",
    "outputId": "bd7eca2b-b507-4968-9dac-e9d001fcd694"
   },
   "outputs": [
    {
     "name": "stdout",
     "output_type": "stream",
     "text": [
      "Requirement already satisfied: ktrain in c:\\python310\\lib\\site-packages (0.41.3)\n",
      "Requirement already satisfied: scikit-learn in c:\\python310\\lib\\site-packages (from ktrain) (1.4.1.post1)\n",
      "Requirement already satisfied: matplotlib>=3.0.0 in c:\\python310\\lib\\site-packages (from ktrain) (3.8.3)\n",
      "Requirement already satisfied: pandas>=1.0.1 in c:\\python310\\lib\\site-packages (from ktrain) (2.2.0)\n",
      "Requirement already satisfied: fastprogress>=0.1.21 in c:\\python310\\lib\\site-packages (from ktrain) (1.0.3)\n",
      "Requirement already satisfied: requests in c:\\python310\\lib\\site-packages (from ktrain) (2.28.1)\n",
      "Requirement already satisfied: joblib in c:\\python310\\lib\\site-packages (from ktrain) (1.3.2)\n",
      "Requirement already satisfied: packaging in c:\\python310\\lib\\site-packages (from ktrain) (23.2)\n",
      "Requirement already satisfied: langdetect in c:\\python310\\lib\\site-packages (from ktrain) (1.0.9)\n",
      "Requirement already satisfied: jieba in c:\\python310\\lib\\site-packages (from ktrain) (0.42.1)\n",
      "Requirement already satisfied: charset-normalizer in c:\\python310\\lib\\site-packages (from ktrain) (2.1.1)\n",
      "Requirement already satisfied: chardet in c:\\python310\\lib\\site-packages (from ktrain) (5.2.0)\n",
      "Requirement already satisfied: syntok>1.3.3 in c:\\python310\\lib\\site-packages (from ktrain) (1.4.4)\n",
      "Requirement already satisfied: tika in c:\\python310\\lib\\site-packages (from ktrain) (2.6.0)\n",
      "Requirement already satisfied: transformers in c:\\python310\\lib\\site-packages (from ktrain) (4.41.0)\n",
      "Requirement already satisfied: sentencepiece in c:\\python310\\lib\\site-packages (from ktrain) (0.2.0)\n",
      "Requirement already satisfied: keras-bert>=0.86.0 in c:\\python310\\lib\\site-packages (from ktrain) (0.89.0)\n",
      "Requirement already satisfied: whoosh in c:\\python310\\lib\\site-packages (from ktrain) (2.7.4)\n",
      "Requirement already satisfied: numpy in c:\\python310\\lib\\site-packages (from keras-bert>=0.86.0->ktrain) (1.26.2)\n",
      "Requirement already satisfied: keras-transformer==0.40.0 in c:\\python310\\lib\\site-packages (from keras-bert>=0.86.0->ktrain) (0.40.0)\n",
      "Requirement already satisfied: keras-pos-embd==0.13.0 in c:\\python310\\lib\\site-packages (from keras-transformer==0.40.0->keras-bert>=0.86.0->ktrain) (0.13.0)\n",
      "Requirement already satisfied: keras-multi-head==0.29.0 in c:\\python310\\lib\\site-packages (from keras-transformer==0.40.0->keras-bert>=0.86.0->ktrain) (0.29.0)\n",
      "Requirement already satisfied: keras-layer-normalization==0.16.0 in c:\\python310\\lib\\site-packages (from keras-transformer==0.40.0->keras-bert>=0.86.0->ktrain) (0.16.0)\n",
      "Requirement already satisfied: keras-position-wise-feed-forward==0.8.0 in c:\\python310\\lib\\site-packages (from keras-transformer==0.40.0->keras-bert>=0.86.0->ktrain) (0.8.0)\n",
      "Requirement already satisfied: keras-embed-sim==0.10.0 in c:\\python310\\lib\\site-packages (from keras-transformer==0.40.0->keras-bert>=0.86.0->ktrain) (0.10.0)\n",
      "Requirement already satisfied: keras-self-attention==0.51.0 in c:\\python310\\lib\\site-packages (from keras-multi-head==0.29.0->keras-transformer==0.40.0->keras-bert>=0.86.0->ktrain) (0.51.0)\n",
      "Requirement already satisfied: contourpy>=1.0.1 in c:\\python310\\lib\\site-packages (from matplotlib>=3.0.0->ktrain) (1.2.0)\n",
      "Requirement already satisfied: cycler>=0.10 in c:\\python310\\lib\\site-packages (from matplotlib>=3.0.0->ktrain) (0.12.1)\n",
      "Requirement already satisfied: fonttools>=4.22.0 in c:\\python310\\lib\\site-packages (from matplotlib>=3.0.0->ktrain) (4.49.0)\n",
      "Requirement already satisfied: kiwisolver>=1.3.1 in c:\\python310\\lib\\site-packages (from matplotlib>=3.0.0->ktrain) (1.4.5)\n",
      "Requirement already satisfied: pillow>=8 in c:\\python310\\lib\\site-packages (from matplotlib>=3.0.0->ktrain) (9.3.0)\n",
      "Requirement already satisfied: pyparsing>=2.3.1 in c:\\python310\\lib\\site-packages (from matplotlib>=3.0.0->ktrain) (3.1.1)\n",
      "Requirement already satisfied: python-dateutil>=2.7 in c:\\python310\\lib\\site-packages (from matplotlib>=3.0.0->ktrain) (2.8.2)\n",
      "Requirement already satisfied: pytz>=2020.1 in c:\\python310\\lib\\site-packages (from pandas>=1.0.1->ktrain) (2024.1)\n",
      "Requirement already satisfied: tzdata>=2022.7 in c:\\python310\\lib\\site-packages (from pandas>=1.0.1->ktrain) (2024.1)\n",
      "Requirement already satisfied: regex>2016 in c:\\python310\\lib\\site-packages (from syntok>1.3.3->ktrain) (2024.5.15)\n",
      "Requirement already satisfied: six in c:\\python310\\lib\\site-packages (from langdetect->ktrain) (1.16.0)\n",
      "Requirement already satisfied: idna<4,>=2.5 in c:\\python310\\lib\\site-packages (from requests->ktrain) (3.4)\n",
      "Requirement already satisfied: urllib3<1.27,>=1.21.1 in c:\\python310\\lib\\site-packages (from requests->ktrain) (1.26.12)\n",
      "Requirement already satisfied: certifi>=2017.4.17 in c:\\python310\\lib\\site-packages (from requests->ktrain) (2022.9.24)\n",
      "Requirement already satisfied: scipy>=1.6.0 in c:\\python310\\lib\\site-packages (from scikit-learn->ktrain) (1.12.0)\n",
      "Requirement already satisfied: threadpoolctl>=2.0.0 in c:\\python310\\lib\\site-packages (from scikit-learn->ktrain) (3.3.0)\n",
      "Requirement already satisfied: setuptools in c:\\python310\\lib\\site-packages (from tika->ktrain) (58.1.0)\n",
      "Requirement already satisfied: filelock in c:\\python310\\lib\\site-packages (from transformers->ktrain) (3.13.1)\n",
      "Requirement already satisfied: huggingface-hub<1.0,>=0.23.0 in c:\\python310\\lib\\site-packages (from transformers->ktrain) (0.23.0)\n",
      "Requirement already satisfied: pyyaml>=5.1 in c:\\python310\\lib\\site-packages (from transformers->ktrain) (6.0.1)\n",
      "Requirement already satisfied: tokenizers<0.20,>=0.19 in c:\\python310\\lib\\site-packages (from transformers->ktrain) (0.19.1)\n",
      "Requirement already satisfied: safetensors>=0.4.1 in c:\\python310\\lib\\site-packages (from transformers->ktrain) (0.4.3)\n",
      "Requirement already satisfied: tqdm>=4.27 in c:\\python310\\lib\\site-packages (from transformers->ktrain) (4.66.4)\n",
      "Requirement already satisfied: fsspec>=2023.5.0 in c:\\python310\\lib\\site-packages (from huggingface-hub<1.0,>=0.23.0->transformers->ktrain) (2024.2.0)\n",
      "Requirement already satisfied: typing-extensions>=3.7.4.3 in c:\\python310\\lib\\site-packages (from huggingface-hub<1.0,>=0.23.0->transformers->ktrain) (4.9.0)\n",
      "Requirement already satisfied: colorama in c:\\python310\\lib\\site-packages (from tqdm>=4.27->transformers->ktrain) (0.4.6)\n"
     ]
    }
   ],
   "source": [
    "! pip install --upgrade  ktrain\n",
    "     "
   ]
  },
  {
   "cell_type": "code",
   "execution_count": 2,
   "metadata": {
    "colab": {
     "base_uri": "https://localhost:8080/"
    },
    "id": "qf3YK6g1PJoV",
    "outputId": "02e0849b-c4b2-4407-d03c-802212801dc5"
   },
   "outputs": [
    {
     "name": "stdout",
     "output_type": "stream",
     "text": [
      "Requirement already satisfied: pandas in c:\\python310\\lib\\site-packages (2.2.0)\n",
      "Requirement already satisfied: numpy<2,>=1.22.4 in c:\\python310\\lib\\site-packages (from pandas) (1.26.2)\n",
      "Requirement already satisfied: python-dateutil>=2.8.2 in c:\\python310\\lib\\site-packages (from pandas) (2.8.2)\n",
      "Requirement already satisfied: pytz>=2020.1 in c:\\python310\\lib\\site-packages (from pandas) (2024.1)\n",
      "Requirement already satisfied: tzdata>=2022.7 in c:\\python310\\lib\\site-packages (from pandas) (2024.1)\n",
      "Requirement already satisfied: six>=1.5 in c:\\python310\\lib\\site-packages (from python-dateutil>=2.8.2->pandas) (1.16.0)\n",
      "Requirement already satisfied: numpy in c:\\python310\\lib\\site-packages (1.26.2)\n",
      "Requirement already satisfied: tensorflow in c:\\python310\\lib\\site-packages (2.15.0)\n",
      "Requirement already satisfied: tensorflow-intel==2.15.0 in c:\\python310\\lib\\site-packages (from tensorflow) (2.15.0)\n",
      "Requirement already satisfied: absl-py>=1.0.0 in c:\\python310\\lib\\site-packages (from tensorflow-intel==2.15.0->tensorflow) (2.1.0)\n",
      "Requirement already satisfied: astunparse>=1.6.0 in c:\\python310\\lib\\site-packages (from tensorflow-intel==2.15.0->tensorflow) (1.6.3)\n",
      "Requirement already satisfied: flatbuffers>=23.5.26 in c:\\python310\\lib\\site-packages (from tensorflow-intel==2.15.0->tensorflow) (23.5.26)\n",
      "Requirement already satisfied: gast!=0.5.0,!=0.5.1,!=0.5.2,>=0.2.1 in c:\\python310\\lib\\site-packages (from tensorflow-intel==2.15.0->tensorflow) (0.5.4)\n",
      "Requirement already satisfied: google-pasta>=0.1.1 in c:\\python310\\lib\\site-packages (from tensorflow-intel==2.15.0->tensorflow) (0.2.0)\n",
      "Requirement already satisfied: h5py>=2.9.0 in c:\\python310\\lib\\site-packages (from tensorflow-intel==2.15.0->tensorflow) (3.10.0)\n",
      "Requirement already satisfied: libclang>=13.0.0 in c:\\python310\\lib\\site-packages (from tensorflow-intel==2.15.0->tensorflow) (16.0.6)\n",
      "Requirement already satisfied: ml-dtypes~=0.2.0 in c:\\python310\\lib\\site-packages (from tensorflow-intel==2.15.0->tensorflow) (0.2.0)\n",
      "Requirement already satisfied: numpy<2.0.0,>=1.23.5 in c:\\python310\\lib\\site-packages (from tensorflow-intel==2.15.0->tensorflow) (1.26.2)\n",
      "Requirement already satisfied: opt-einsum>=2.3.2 in c:\\python310\\lib\\site-packages (from tensorflow-intel==2.15.0->tensorflow) (3.3.0)\n",
      "Requirement already satisfied: packaging in c:\\python310\\lib\\site-packages (from tensorflow-intel==2.15.0->tensorflow) (23.2)\n",
      "Requirement already satisfied: protobuf!=4.21.0,!=4.21.1,!=4.21.2,!=4.21.3,!=4.21.4,!=4.21.5,<5.0.0dev,>=3.20.3 in c:\\python310\\lib\\site-packages (from tensorflow-intel==2.15.0->tensorflow) (4.25.3)\n",
      "Requirement already satisfied: setuptools in c:\\python310\\lib\\site-packages (from tensorflow-intel==2.15.0->tensorflow) (58.1.0)\n",
      "Requirement already satisfied: six>=1.12.0 in c:\\python310\\lib\\site-packages (from tensorflow-intel==2.15.0->tensorflow) (1.16.0)\n",
      "Requirement already satisfied: termcolor>=1.1.0 in c:\\python310\\lib\\site-packages (from tensorflow-intel==2.15.0->tensorflow) (2.4.0)\n",
      "Requirement already satisfied: typing-extensions>=3.6.6 in c:\\python310\\lib\\site-packages (from tensorflow-intel==2.15.0->tensorflow) (4.9.0)\n",
      "Requirement already satisfied: wrapt<1.15,>=1.11.0 in c:\\python310\\lib\\site-packages (from tensorflow-intel==2.15.0->tensorflow) (1.14.1)\n",
      "Requirement already satisfied: tensorflow-io-gcs-filesystem>=0.23.1 in c:\\python310\\lib\\site-packages (from tensorflow-intel==2.15.0->tensorflow) (0.31.0)\n",
      "Requirement already satisfied: grpcio<2.0,>=1.24.3 in c:\\python310\\lib\\site-packages (from tensorflow-intel==2.15.0->tensorflow) (1.60.1)\n",
      "Requirement already satisfied: tensorboard<2.16,>=2.15 in c:\\python310\\lib\\site-packages (from tensorflow-intel==2.15.0->tensorflow) (2.15.2)\n",
      "Requirement already satisfied: tensorflow-estimator<2.16,>=2.15.0 in c:\\python310\\lib\\site-packages (from tensorflow-intel==2.15.0->tensorflow) (2.15.0)\n",
      "Requirement already satisfied: keras<2.16,>=2.15.0 in c:\\python310\\lib\\site-packages (from tensorflow-intel==2.15.0->tensorflow) (2.15.0)\n",
      "Requirement already satisfied: wheel<1.0,>=0.23.0 in c:\\python310\\lib\\site-packages (from astunparse>=1.6.0->tensorflow-intel==2.15.0->tensorflow) (0.42.0)\n",
      "Requirement already satisfied: google-auth<3,>=1.6.3 in c:\\python310\\lib\\site-packages (from tensorboard<2.16,>=2.15->tensorflow-intel==2.15.0->tensorflow) (2.28.0)\n",
      "Requirement already satisfied: google-auth-oauthlib<2,>=0.5 in c:\\python310\\lib\\site-packages (from tensorboard<2.16,>=2.15->tensorflow-intel==2.15.0->tensorflow) (1.2.0)\n",
      "Requirement already satisfied: markdown>=2.6.8 in c:\\python310\\lib\\site-packages (from tensorboard<2.16,>=2.15->tensorflow-intel==2.15.0->tensorflow) (3.5.2)\n",
      "Requirement already satisfied: requests<3,>=2.21.0 in c:\\python310\\lib\\site-packages (from tensorboard<2.16,>=2.15->tensorflow-intel==2.15.0->tensorflow) (2.28.1)\n",
      "Requirement already satisfied: tensorboard-data-server<0.8.0,>=0.7.0 in c:\\python310\\lib\\site-packages (from tensorboard<2.16,>=2.15->tensorflow-intel==2.15.0->tensorflow) (0.7.2)\n",
      "Requirement already satisfied: werkzeug>=1.0.1 in c:\\python310\\lib\\site-packages (from tensorboard<2.16,>=2.15->tensorflow-intel==2.15.0->tensorflow) (2.2.2)\n",
      "Requirement already satisfied: cachetools<6.0,>=2.0.0 in c:\\python310\\lib\\site-packages (from google-auth<3,>=1.6.3->tensorboard<2.16,>=2.15->tensorflow-intel==2.15.0->tensorflow) (5.3.2)\n",
      "Requirement already satisfied: pyasn1-modules>=0.2.1 in c:\\python310\\lib\\site-packages (from google-auth<3,>=1.6.3->tensorboard<2.16,>=2.15->tensorflow-intel==2.15.0->tensorflow) (0.3.0)\n",
      "Requirement already satisfied: rsa<5,>=3.1.4 in c:\\python310\\lib\\site-packages (from google-auth<3,>=1.6.3->tensorboard<2.16,>=2.15->tensorflow-intel==2.15.0->tensorflow) (4.9)\n",
      "Requirement already satisfied: requests-oauthlib>=0.7.0 in c:\\python310\\lib\\site-packages (from google-auth-oauthlib<2,>=0.5->tensorboard<2.16,>=2.15->tensorflow-intel==2.15.0->tensorflow) (1.3.1)\n",
      "Requirement already satisfied: charset-normalizer<3,>=2 in c:\\python310\\lib\\site-packages (from requests<3,>=2.21.0->tensorboard<2.16,>=2.15->tensorflow-intel==2.15.0->tensorflow) (2.1.1)\n",
      "Requirement already satisfied: idna<4,>=2.5 in c:\\python310\\lib\\site-packages (from requests<3,>=2.21.0->tensorboard<2.16,>=2.15->tensorflow-intel==2.15.0->tensorflow) (3.4)\n",
      "Requirement already satisfied: urllib3<1.27,>=1.21.1 in c:\\python310\\lib\\site-packages (from requests<3,>=2.21.0->tensorboard<2.16,>=2.15->tensorflow-intel==2.15.0->tensorflow) (1.26.12)\n",
      "Requirement already satisfied: certifi>=2017.4.17 in c:\\python310\\lib\\site-packages (from requests<3,>=2.21.0->tensorboard<2.16,>=2.15->tensorflow-intel==2.15.0->tensorflow) (2022.9.24)\n",
      "Requirement already satisfied: MarkupSafe>=2.1.1 in c:\\python310\\lib\\site-packages (from werkzeug>=1.0.1->tensorboard<2.16,>=2.15->tensorflow-intel==2.15.0->tensorflow) (2.1.1)\n",
      "Requirement already satisfied: pyasn1<0.6.0,>=0.4.6 in c:\\python310\\lib\\site-packages (from pyasn1-modules>=0.2.1->google-auth<3,>=1.6.3->tensorboard<2.16,>=2.15->tensorflow-intel==2.15.0->tensorflow) (0.5.1)\n",
      "Requirement already satisfied: oauthlib>=3.0.0 in c:\\python310\\lib\\site-packages (from requests-oauthlib>=0.7.0->google-auth-oauthlib<2,>=0.5->tensorboard<2.16,>=2.15->tensorflow-intel==2.15.0->tensorflow) (3.2.2)\n"
     ]
    }
   ],
   "source": [
    "!pip install pandas\n",
    "!pip install numpy\n",
    "!pip install tensorflow"
   ]
  },
  {
   "cell_type": "code",
   "execution_count": 3,
   "metadata": {
    "id": "32U2PI3PPstx"
   },
   "outputs": [
    {
     "name": "stderr",
     "output_type": "stream",
     "text": [
      "C:\\Users\\dell\\AppData\\Local\\Temp\\ipykernel_46256\\2688358416.py:1: DeprecationWarning: \n",
      "Pyarrow will become a required dependency of pandas in the next major release of pandas (pandas 3.0),\n",
      "(to allow more performant data types, such as the Arrow string type, and better interoperability with other libraries)\n",
      "but was not found to be installed on your system.\n",
      "If this would cause problems for you,\n",
      "please provide us feedback at https://github.com/pandas-dev/pandas/issues/54466\n",
      "        \n",
      "  import pandas as pd\n"
     ]
    }
   ],
   "source": [
    "import pandas as pd \n",
    "import numpy as np \n",
    "import os "
   ]
  },
  {
   "cell_type": "code",
   "execution_count": 5,
   "metadata": {
    "id": "oWndgFk-Qt1Q"
   },
   "outputs": [],
   "source": [
    "df_sarcastic=pd.read_csv('D:/Downloads1/archive/Sarcasm_Hindi_Tweets-SARCASTIC.csv'\n",
    ")"
   ]
  },
  {
   "cell_type": "code",
   "execution_count": 6,
   "metadata": {
    "id": "XNO-v0N5Q0UK"
   },
   "outputs": [],
   "source": [
    "df_sarcastic['Label']=\"Sarcastic\""
   ]
  },
  {
   "cell_type": "code",
   "execution_count": 7,
   "metadata": {
    "id": "vJ07uS6TQ3A2"
   },
   "outputs": [],
   "source": [
    "df_sarcastic=df_sarcastic[[\"text\",\"Label\"]]"
   ]
  },
  {
   "cell_type": "code",
   "execution_count": 8,
   "metadata": {
    "colab": {
     "base_uri": "https://localhost:8080/",
     "height": 423
    },
    "id": "EfsM2QLtQ4YD",
    "outputId": "dda07134-9ec7-4cb5-b886-a0f117ae9de4"
   },
   "outputs": [
    {
     "data": {
      "text/html": [
       "<div>\n",
       "<style scoped>\n",
       "    .dataframe tbody tr th:only-of-type {\n",
       "        vertical-align: middle;\n",
       "    }\n",
       "\n",
       "    .dataframe tbody tr th {\n",
       "        vertical-align: top;\n",
       "    }\n",
       "\n",
       "    .dataframe thead th {\n",
       "        text-align: right;\n",
       "    }\n",
       "</style>\n",
       "<table border=\"1\" class=\"dataframe\">\n",
       "  <thead>\n",
       "    <tr style=\"text-align: right;\">\n",
       "      <th></th>\n",
       "      <th>text</th>\n",
       "      <th>Label</th>\n",
       "    </tr>\n",
       "  </thead>\n",
       "  <tbody>\n",
       "    <tr>\n",
       "      <th>0</th>\n",
       "      <td>हमारे गांव में एक मास्टर जी रहते थे, वो मोहल्ल...</td>\n",
       "      <td>Sarcastic</td>\n",
       "    </tr>\n",
       "    <tr>\n",
       "      <th>1</th>\n",
       "      <td>हमारे गांव में एक मास्टर जी रहते थे, वो मोहल्ल...</td>\n",
       "      <td>Sarcastic</td>\n",
       "    </tr>\n",
       "    <tr>\n",
       "      <th>2</th>\n",
       "      <td>हमारे गांव में एक मास्टर जी रहते थे, वो मोहल्ल...</td>\n",
       "      <td>Sarcastic</td>\n",
       "    </tr>\n",
       "    <tr>\n",
       "      <th>3</th>\n",
       "      <td>हमारे गांव में एक मास्टर जी रहते थे, वो मोहल्ल...</td>\n",
       "      <td>Sarcastic</td>\n",
       "    </tr>\n",
       "    <tr>\n",
       "      <th>4</th>\n",
       "      <td>हमारे गांव में एक मास्टर जी रहते थे, वो मोहल्ल...</td>\n",
       "      <td>Sarcastic</td>\n",
       "    </tr>\n",
       "    <tr>\n",
       "      <th>...</th>\n",
       "      <td>...</td>\n",
       "      <td>...</td>\n",
       "    </tr>\n",
       "    <tr>\n",
       "      <th>6046</th>\n",
       "      <td>Sone Ki Chain Important Nhi Hoti\\nBalki\\nChain...</td>\n",
       "      <td>Sarcastic</td>\n",
       "    </tr>\n",
       "    <tr>\n",
       "      <th>6047</th>\n",
       "      <td>@IACAbhi @myvivek1989 kya baat kr rhe ho..\\n\\n...</td>\n",
       "      <td>Sarcastic</td>\n",
       "    </tr>\n",
       "    <tr>\n",
       "      <th>6048</th>\n",
       "      <td>Corona se Bachne Ke Liye Ghar par rahe\\n.\\n.\\n...</td>\n",
       "      <td>Sarcastic</td>\n",
       "    </tr>\n",
       "    <tr>\n",
       "      <th>6049</th>\n",
       "      <td>Me : kisi ne bataya tum kitni khubsurat ho?\\n\\...</td>\n",
       "      <td>Sarcastic</td>\n",
       "    </tr>\n",
       "    <tr>\n",
       "      <th>6050</th>\n",
       "      <td>@MadhuTi1994 @Dr_Uditraj ये बन्दर का डांस देखे...</td>\n",
       "      <td>Sarcastic</td>\n",
       "    </tr>\n",
       "  </tbody>\n",
       "</table>\n",
       "<p>6051 rows × 2 columns</p>\n",
       "</div>"
      ],
      "text/plain": [
       "                                                   text      Label\n",
       "0     हमारे गांव में एक मास्टर जी रहते थे, वो मोहल्ल...  Sarcastic\n",
       "1     हमारे गांव में एक मास्टर जी रहते थे, वो मोहल्ल...  Sarcastic\n",
       "2     हमारे गांव में एक मास्टर जी रहते थे, वो मोहल्ल...  Sarcastic\n",
       "3     हमारे गांव में एक मास्टर जी रहते थे, वो मोहल्ल...  Sarcastic\n",
       "4     हमारे गांव में एक मास्टर जी रहते थे, वो मोहल्ल...  Sarcastic\n",
       "...                                                 ...        ...\n",
       "6046  Sone Ki Chain Important Nhi Hoti\\nBalki\\nChain...  Sarcastic\n",
       "6047  @IACAbhi @myvivek1989 kya baat kr rhe ho..\\n\\n...  Sarcastic\n",
       "6048  Corona se Bachne Ke Liye Ghar par rahe\\n.\\n.\\n...  Sarcastic\n",
       "6049  Me : kisi ne bataya tum kitni khubsurat ho?\\n\\...  Sarcastic\n",
       "6050  @MadhuTi1994 @Dr_Uditraj ये बन्दर का डांस देखे...  Sarcastic\n",
       "\n",
       "[6051 rows x 2 columns]"
      ]
     },
     "execution_count": 8,
     "metadata": {},
     "output_type": "execute_result"
    }
   ],
   "source": [
    "df_sarcastic"
   ]
  },
  {
   "cell_type": "code",
   "execution_count": 10,
   "metadata": {
    "id": "f0AnahajQ7Gy"
   },
   "outputs": [],
   "source": [
    "df_nonsarcastic=pd.read_csv('D:/Downloads1/archive/Sarcasm_Hindi_Tweets-NON-SARCASTIC.csv')"
   ]
  },
  {
   "cell_type": "code",
   "execution_count": 11,
   "metadata": {
    "id": "-g7LL_ihQ9JK"
   },
   "outputs": [],
   "source": [
    "df_nonsarcastic['Label']=\"Non-Sarcastic\""
   ]
  },
  {
   "cell_type": "code",
   "execution_count": 12,
   "metadata": {
    "id": "qdUZHf0YRCvP"
   },
   "outputs": [],
   "source": [
    "df_nonsarcastic=df_nonsarcastic[[\"text\",\"Label\"]]"
   ]
  },
  {
   "cell_type": "code",
   "execution_count": 13,
   "metadata": {
    "colab": {
     "base_uri": "https://localhost:8080/",
     "height": 423
    },
    "id": "tIISdj4wREdR",
    "outputId": "d8beef8e-89fa-4836-d002-8cd5f1d13aad"
   },
   "outputs": [
    {
     "data": {
      "text/html": [
       "<div>\n",
       "<style scoped>\n",
       "    .dataframe tbody tr th:only-of-type {\n",
       "        vertical-align: middle;\n",
       "    }\n",
       "\n",
       "    .dataframe tbody tr th {\n",
       "        vertical-align: top;\n",
       "    }\n",
       "\n",
       "    .dataframe thead th {\n",
       "        text-align: right;\n",
       "    }\n",
       "</style>\n",
       "<table border=\"1\" class=\"dataframe\">\n",
       "  <thead>\n",
       "    <tr style=\"text-align: right;\">\n",
       "      <th></th>\n",
       "      <th>text</th>\n",
       "      <th>Label</th>\n",
       "    </tr>\n",
       "  </thead>\n",
       "  <tbody>\n",
       "    <tr>\n",
       "      <th>0</th>\n",
       "      <td>🍃🌼🍃🌼🍃🌼🍃🌼🍃🌼🍃\\n\\nकभी न बुझती है \\nवो प्यास है #ज...</td>\n",
       "      <td>Non-Sarcastic</td>\n",
       "    </tr>\n",
       "    <tr>\n",
       "      <th>1</th>\n",
       "      <td>डिप्रेशन के शुरुआती आठ लक्षण, उदाहरण और इलाज\\n...</td>\n",
       "      <td>Non-Sarcastic</td>\n",
       "    </tr>\n",
       "    <tr>\n",
       "      <th>2</th>\n",
       "      <td>@FaiziJee98 Aaj apki saalgirah hy nahi 🙊😛 or j...</td>\n",
       "      <td>Non-Sarcastic</td>\n",
       "    </tr>\n",
       "    <tr>\n",
       "      <th>3</th>\n",
       "      <td>🍃🌼🍃🌼🍃🌼🍃🌼🍃🌼🍃\\n\\nकभी न बुझती है \\nवो प्यास है #ज...</td>\n",
       "      <td>Non-Sarcastic</td>\n",
       "    </tr>\n",
       "    <tr>\n",
       "      <th>4</th>\n",
       "      <td>#Happy rathyatra https://t.co/flLVnffvOJ</td>\n",
       "      <td>Non-Sarcastic</td>\n",
       "    </tr>\n",
       "    <tr>\n",
       "      <th>...</th>\n",
       "      <td>...</td>\n",
       "      <td>...</td>\n",
       "    </tr>\n",
       "    <tr>\n",
       "      <th>10123</th>\n",
       "      <td>स्वर्गीय श्री सुशांत सिंह राजपूत ने हमें छिछोर...</td>\n",
       "      <td>Non-Sarcastic</td>\n",
       "    </tr>\n",
       "    <tr>\n",
       "      <th>10124</th>\n",
       "      <td>बॉलीवुड एक्टर #सुशांत_सिंह_राजपूत ने #फांसी लग...</td>\n",
       "      <td>Non-Sarcastic</td>\n",
       "    </tr>\n",
       "    <tr>\n",
       "      <th>10125</th>\n",
       "      <td>#SushantSinghRajput #Suicide  क्यों?? चमक धमक ...</td>\n",
       "      <td>Non-Sarcastic</td>\n",
       "    </tr>\n",
       "    <tr>\n",
       "      <th>10126</th>\n",
       "      <td>हर हाल में #खुश रहना सीख लो🙃\\n        उस दिल क...</td>\n",
       "      <td>Non-Sarcastic</td>\n",
       "    </tr>\n",
       "    <tr>\n",
       "      <th>10127</th>\n",
       "      <td>इतना कुछ पाने के बाद भी अगर इंसान जिदंगी से हा...</td>\n",
       "      <td>Non-Sarcastic</td>\n",
       "    </tr>\n",
       "  </tbody>\n",
       "</table>\n",
       "<p>10128 rows × 2 columns</p>\n",
       "</div>"
      ],
      "text/plain": [
       "                                                    text          Label\n",
       "0      🍃🌼🍃🌼🍃🌼🍃🌼🍃🌼🍃\\n\\nकभी न बुझती है \\nवो प्यास है #ज...  Non-Sarcastic\n",
       "1      डिप्रेशन के शुरुआती आठ लक्षण, उदाहरण और इलाज\\n...  Non-Sarcastic\n",
       "2      @FaiziJee98 Aaj apki saalgirah hy nahi 🙊😛 or j...  Non-Sarcastic\n",
       "3      🍃🌼🍃🌼🍃🌼🍃🌼🍃🌼🍃\\n\\nकभी न बुझती है \\nवो प्यास है #ज...  Non-Sarcastic\n",
       "4               #Happy rathyatra https://t.co/flLVnffvOJ  Non-Sarcastic\n",
       "...                                                  ...            ...\n",
       "10123  स्वर्गीय श्री सुशांत सिंह राजपूत ने हमें छिछोर...  Non-Sarcastic\n",
       "10124  बॉलीवुड एक्टर #सुशांत_सिंह_राजपूत ने #फांसी लग...  Non-Sarcastic\n",
       "10125  #SushantSinghRajput #Suicide  क्यों?? चमक धमक ...  Non-Sarcastic\n",
       "10126  हर हाल में #खुश रहना सीख लो🙃\\n        उस दिल क...  Non-Sarcastic\n",
       "10127  इतना कुछ पाने के बाद भी अगर इंसान जिदंगी से हा...  Non-Sarcastic\n",
       "\n",
       "[10128 rows x 2 columns]"
      ]
     },
     "execution_count": 13,
     "metadata": {},
     "output_type": "execute_result"
    }
   ],
   "source": [
    "df_nonsarcastic"
   ]
  },
  {
   "cell_type": "code",
   "execution_count": 14,
   "metadata": {
    "id": "mleA3YzFRFrX"
   },
   "outputs": [],
   "source": [
    "import re\n",
    "english_pattern = re.compile(r'[a-zA-Z]+')\n",
    "hindi_range = r'\\u0900-\\u097F'\n",
    "\n",
    "# Clean Hindi tweets\n",
    "def clean_hindi(tweet):\n",
    "    cleaned_tweet = \"\"\n",
    "    for word in tweet.split():\n",
    "        if english_pattern.match(word):\n",
    "            cleaned_tweet += word + \" \"\n",
    "        else:\n",
    "            cleaned_word = re.sub(r'[^'+hindi_range+'\\s]', '', word)\n",
    "            cleaned_tweet += cleaned_word + \" \"\n",
    "    return cleaned_tweet"
   ]
  },
  {
   "cell_type": "code",
   "execution_count": 15,
   "metadata": {
    "id": "fMuCYGU2RJbk"
   },
   "outputs": [],
   "source": [
    "df_sarcastic['text'] = df_sarcastic['text'].apply(clean_hindi)\n",
    "df_nonsarcastic['text'] = df_nonsarcastic['text'].apply(clean_hindi)"
   ]
  },
  {
   "cell_type": "code",
   "execution_count": 16,
   "metadata": {
    "id": "lvWlSX_7RLnh"
   },
   "outputs": [],
   "source": [
    "# Remove URLs\n",
    "df_sarcastic['text'] = df_sarcastic['text'].apply(lambda x: re.sub(r'http\\S+|www\\S+', '', x))\n",
    "df_nonsarcastic['text'] = df_nonsarcastic['text'].apply(lambda x: re.sub(r'http\\S+|www\\S+', '', x))\n",
    "\n",
    "# Remove usernames or mentions\n",
    "df_sarcastic['text'] = df_sarcastic['text'].apply(lambda x: re.sub(r'@[^\\s]+', '', x))\n",
    "df_nonsarcastic['text'] = df_nonsarcastic['text'].apply(lambda x: re.sub(r'http\\S+|www\\S+', '', x))\n",
    "\n",
    "# Remove hashtags\n",
    "df_sarcastic['text'] = df_sarcastic['text'].apply(lambda x: re.sub(r'#\\w+', '', x))\n",
    "df_nonsarcastic['text'] = df_nonsarcastic['text'].apply(lambda x: re.sub(r'http\\S+|www\\S+', '', x))"
   ]
  },
  {
   "cell_type": "code",
   "execution_count": 17,
   "metadata": {
    "id": "S5NxVJR0RN6V"
   },
   "outputs": [],
   "source": [
    "df_sarcastic['text'] = df_sarcastic['text'].str.lower()\n",
    "df_nonsarcastic['text'] = df_nonsarcastic['text'].str.lower()"
   ]
  },
  {
   "cell_type": "code",
   "execution_count": 18,
   "metadata": {
    "id": "pCuegPNyRPVn"
   },
   "outputs": [],
   "source": [
    "df_sarcastic['text'] = df_sarcastic['text'].apply(lambda x: re.sub(r'\\d+', '', x))\n",
    "df_nonsarcastic['text'] = df_nonsarcastic['text'].apply(lambda x: re.sub(r'\\d+', '', x))"
   ]
  },
  {
   "cell_type": "code",
   "execution_count": 19,
   "metadata": {
    "id": "6YvSvGiuRQqp"
   },
   "outputs": [],
   "source": [
    "import regex\n",
    "\n",
    "def remove_emojis(text):\n",
    "    # Remove emojis using regular expression\n",
    "    cleaned_text = regex.sub(r'\\p{So}', '', text)\n",
    "    return cleaned_text"
   ]
  },
  {
   "cell_type": "code",
   "execution_count": 20,
   "metadata": {
    "id": "KD_vNORYRR65"
   },
   "outputs": [],
   "source": [
    "df_sarcastic['text'] = df_sarcastic['text'].apply(lambda x: remove_emojis(x))\n",
    "df_nonsarcastic['text'] = df_nonsarcastic['text'].apply(lambda x: remove_emojis(x))"
   ]
  },
  {
   "cell_type": "code",
   "execution_count": 21,
   "metadata": {
    "id": "BJTteuBkRTRa"
   },
   "outputs": [],
   "source": [
    "url_pattern = re.compile(r'http[s]?://(?:[a-zA-Z]|[0-9]|[$-_@.&+]|[!*\\\\(\\\\),]|(?:%[0-9a-fA-F][0-9a-fA-F]))+')\n",
    "email_pattern = re.compile(r'\\b[A-Za-z0-9._%+-]+@[A-Za-z0-9.-]+\\.[A-Z|a-z]{2,}\\b')"
   ]
  },
  {
   "cell_type": "code",
   "execution_count": 22,
   "metadata": {
    "id": "yph-5cUHRVKM"
   },
   "outputs": [],
   "source": [
    "df_sarcastic['text'] = df_sarcastic['text'].apply(lambda x: re.sub(url_pattern, '', x))\n",
    "df_sarcastic['cleaned_text'] = df_sarcastic['text'].apply(lambda x: re.sub(email_pattern, '', x))"
   ]
  },
  {
   "cell_type": "code",
   "execution_count": 23,
   "metadata": {
    "id": "vBwRzFLdRXU4"
   },
   "outputs": [],
   "source": [
    "df_nonsarcastic['text'] = df_nonsarcastic['text'].apply(lambda x: re.sub(url_pattern, '', x))\n",
    "df_nonsarcastic['cleaned_text'] = df_nonsarcastic['text'].apply(lambda x: re.sub(email_pattern, '', x))"
   ]
  },
  {
   "cell_type": "code",
   "execution_count": 24,
   "metadata": {
    "id": "dlLV63vvRYk1"
   },
   "outputs": [],
   "source": [
    "import string\n",
    "df_sarcastic['cleaned_text'] = df_sarcastic['cleaned_text'].apply(lambda x: ''.join(char for char in x if char not in string.punctuation))"
   ]
  },
  {
   "cell_type": "code",
   "execution_count": 25,
   "metadata": {
    "id": "V7OLM8EARawq"
   },
   "outputs": [],
   "source": [
    "df_nonsarcastic['cleaned_text'] = df_nonsarcastic['cleaned_text'].apply(lambda x: ''.join(char for char in x if char not in string.punctuation))"
   ]
  },
  {
   "cell_type": "code",
   "execution_count": 27,
   "metadata": {},
   "outputs": [
    {
     "name": "stdout",
     "output_type": "stream",
     "text": [
      "Collecting nltk\n",
      "  Downloading nltk-3.8.1-py3-none-any.whl.metadata (2.8 kB)\n",
      "Requirement already satisfied: click in c:\\python310\\lib\\site-packages (from nltk) (8.1.3)\n",
      "Requirement already satisfied: joblib in c:\\python310\\lib\\site-packages (from nltk) (1.3.2)\n",
      "Requirement already satisfied: regex>=2021.8.3 in c:\\python310\\lib\\site-packages (from nltk) (2024.5.15)\n",
      "Requirement already satisfied: tqdm in c:\\python310\\lib\\site-packages (from nltk) (4.66.4)\n",
      "Requirement already satisfied: colorama in c:\\python310\\lib\\site-packages (from click->nltk) (0.4.6)\n",
      "Downloading nltk-3.8.1-py3-none-any.whl (1.5 MB)\n",
      "   ---------------------------------------- 0.0/1.5 MB ? eta -:--:--\n",
      "   ---------------------------------------- 0.0/1.5 MB ? eta -:--:--\n",
      "   ---------------------------------------- 0.0/1.5 MB ? eta -:--:--\n",
      "    --------------------------------------- 0.0/1.5 MB 262.6 kB/s eta 0:00:06\n",
      "   -- ------------------------------------- 0.1/1.5 MB 655.4 kB/s eta 0:00:03\n",
      "   ------ --------------------------------- 0.3/1.5 MB 1.3 MB/s eta 0:00:01\n",
      "   ------------ --------------------------- 0.5/1.5 MB 2.0 MB/s eta 0:00:01\n",
      "   ----------------- ---------------------- 0.7/1.5 MB 2.3 MB/s eta 0:00:01\n",
      "   -------------------- ------------------- 0.8/1.5 MB 2.3 MB/s eta 0:00:01\n",
      "   ------------------------ --------------- 0.9/1.5 MB 2.4 MB/s eta 0:00:01\n",
      "   ---------------------------- ----------- 1.1/1.5 MB 2.5 MB/s eta 0:00:01\n",
      "   --------------------------------- ------ 1.3/1.5 MB 2.7 MB/s eta 0:00:01\n",
      "   -------------------------------------- - 1.5/1.5 MB 2.7 MB/s eta 0:00:01\n",
      "   ---------------------------------------- 1.5/1.5 MB 2.6 MB/s eta 0:00:00\n",
      "Installing collected packages: nltk\n",
      "Successfully installed nltk-3.8.1\n",
      "Note: you may need to restart the kernel to use updated packages.\n"
     ]
    }
   ],
   "source": [
    "pip install nltk\n"
   ]
  },
  {
   "cell_type": "code",
   "execution_count": 28,
   "metadata": {
    "id": "dS28oihFRcBh"
   },
   "outputs": [],
   "source": [
    "import nltk\n",
    "from nltk.corpus import stopwords"
   ]
  },
  {
   "cell_type": "code",
   "execution_count": 29,
   "metadata": {
    "colab": {
     "base_uri": "https://localhost:8080/"
    },
    "id": "DpOfwBHHRdkn",
    "outputId": "909b4816-543f-47e4-dade-088e008b3311"
   },
   "outputs": [
    {
     "name": "stderr",
     "output_type": "stream",
     "text": [
      "[nltk_data] Downloading package stopwords to\n",
      "[nltk_data]     C:\\Users\\dell\\AppData\\Roaming\\nltk_data...\n",
      "[nltk_data]   Unzipping corpora\\stopwords.zip.\n",
      "[nltk_data] Downloading package punkt to\n",
      "[nltk_data]     C:\\Users\\dell\\AppData\\Roaming\\nltk_data...\n",
      "[nltk_data]   Unzipping tokenizers\\punkt.zip.\n"
     ]
    }
   ],
   "source": [
    "nltk.download('stopwords')\n",
    "nltk.download('punkt')\n",
    "\n",
    "stopwords_english = set(stopwords.words('english'))"
   ]
  },
  {
   "cell_type": "code",
   "execution_count": 33,
   "metadata": {
    "id": "zzv8RrYzRf_4"
   },
   "outputs": [],
   "source": [
    "stopwords_hindi = [\n",
    "    \"अंदर\", \"अत\", \"अपना\", \"अपनी\", \"अपने\", \"अभी\", \"आदि\", \"आप\", \"इत्यादि\", \"इन\", \n",
    "    \"इनका\", \"इन्हीं\", \"इन्हें\", \"इन्होंने\", \"इस\", \"इसका\", \"इसकी\", \"इसके\", \"इसमें\", \n",
    "    \"इसी\", \"इसे\", \"उन\", \"उनका\", \"उनकी\", \"उनके\", \"उनको\", \"उन्हीं\", \"उन्हें\", \"उन्होंने\", \n",
    "    \"उस\", \"उसके\", \"उसी\", \"उसे\", \"एक\", \"एवं\", \"एस\", \"ऐसे\", \"और\", \"कर\", \n",
    "    \"करता\", \"करते\", \"करना\", \"करने\", \"करें\", \"कहते\", \"कहा\", \"का\", \"काफ़ी\", \"कि\", \n",
    "    \"कितना\", \"किन्हें\", \"किन्हों\", \"किया\", \"किर\", \"किस\", \"किसी\", \"किसे\", \"की\", \"कुछ\", \n",
    "    \"कुल\", \"के\", \"को\", \"कोई\", \"कौन\", \"कौनसा\", \"गया\", \"घर\", \"जब\", \"जहाँ\", \n",
    "    \"जा\", \"जितना\", \"जिधर\", \"जिन\", \"जिन्हें\", \"जिन्हों\", \"जिस\", \"जिसे\", \"जीतने\", \"जीतो\", \n",
    "    \"तक\", \"तब\", \"तरह\", \"तिन्हें\", \"तिन्हों\", \"तिस\", \"तिसे\", \"तो\", \"तोह\", \"था\", \n",
    "    \"थी\", \"थे\", \"दबारा\", \"दिया\", \"दुसरे\", \"देखा\", \"देखो\", \"दो\", \"द्वारा\", \"न\", \n",
    "    \"नहीं\", \"ना\", \"निचे\", \"निहायत\", \"नीचे\", \"ने\", \"पर\", \"पहले\", \"पुरा\", \"पूरा\", \n",
    "    \"पे\", \"फिर\", \"बनी\", \"बही\", \"बहुत\", \"बाद\", \"बाला\", \"बिलकुल\", \"भी\", \"भीतर\", \n",
    "    \"मगर\", \"मानो\", \"मे\", \"में\", \"यदि\", \"यह\", \"यहाँ\", \"यही\", \"या\", \"यिह\", \n",
    "    \"ये\", \"रखें\", \"रवासा\", \"रहा\", \"रहे\", \"ऱ्वासा\", \"लिए\", \"लिये\", \"लेकिन\", \"व\", \n",
    "    \"वगेरह\", \"वर्ग\", \"वह\", \"वहाँ\", \"वहीं\", \"वाले\", \"वुह\", \"वे\", \"वग़ैरह\", \"संग\", \n",
    "    \"सकता\", \"सकते\", \"सबसे\", \"सभी\", \"साथ\", \"साबुत\", \"साभ\", \"सारा\", \"से\", \"सो\", \n",
    "    \"ही\", \"हुआ\", \"हुई\", \"हुए\", \"है\", \"हैं\", \"हो\", \"होता\", \"होती\", \"होते\", \"होना\", \n",
    "    \"होने\"\n",
    "]"
   ]
  },
  {
   "cell_type": "code",
   "execution_count": 34,
   "metadata": {
    "id": "8U1oPmezRhq4"
   },
   "outputs": [],
   "source": [
    "\n",
    "df_sarcastic['cleaned_text'] = df_sarcastic['cleaned_text'].apply(lambda x: ' '.join(word for word in nltk.word_tokenize(x) if word.lower() not in stopwords_english and word.lower() not in stopwords_hindi))"
   ]
  },
  {
   "cell_type": "code",
   "execution_count": 35,
   "metadata": {
    "id": "_iLZ6LhrRjBg"
   },
   "outputs": [],
   "source": [
    "df_nonsarcastic['cleaned_text'] = df_nonsarcastic['cleaned_text'].apply(lambda x: ' '.join(word for word in nltk.word_tokenize(x) if word.lower() not in stopwords_english and word.lower() not in stopwords_hindi))"
   ]
  },
  {
   "cell_type": "code",
   "execution_count": 36,
   "metadata": {
    "id": "bn6tGlK8RkVo"
   },
   "outputs": [],
   "source": [
    "df_nonsarcastic=df_nonsarcastic.loc[:6050]"
   ]
  },
  {
   "cell_type": "code",
   "execution_count": 37,
   "metadata": {
    "id": "zA5DnKKhRmHf"
   },
   "outputs": [],
   "source": [
    "data = pd.concat([df_sarcastic, df_nonsarcastic], axis=0)"
   ]
  },
  {
   "cell_type": "code",
   "execution_count": 38,
   "metadata": {
    "id": "562yfdWxRnfK"
   },
   "outputs": [],
   "source": [
    "from sklearn.model_selection import train_test_split\n",
    "X_train, X_test, y_train, y_test = train_test_split(data['cleaned_text'], data['Label'], random_state=50)"
   ]
  },
  {
   "cell_type": "code",
   "execution_count": 39,
   "metadata": {
    "colab": {
     "base_uri": "https://localhost:8080/",
     "height": 81,
     "referenced_widgets": [
      "91e3d049c3cf4362a3d83d22b4f88c06",
      "efc674c6c14a4b41a7ea0da82e19080f",
      "6557f308b04b428c82f79da1beb74502",
      "28279c6bc9c94d14a3ac744f7961f77f",
      "c0104c532d4348849fd7a50afd47ba09",
      "6ee0fd2930ab44cf87bd5d580ed2fc8c",
      "93bb0a07444d46f59810afd1acd51fea",
      "3073518f5984462db4e50740c8a4c80b",
      "e88e19eae2684fc89e2a152777677fd9",
      "8c2eb2fea0d245bb985a80ca4ab22d6e",
      "7031ace5e83e4e419f2744ab26d108ec",
      "0a895db0ff154567888ae3418138c198",
      "b2ec0e7ae2c747d884f4c3ace871e7cd",
      "048f4de8bfe143c5929adf0020440393",
      "b7304f35ce0949b89fbe2e249cfda52c",
      "a555d26c618447a18c68d0ccdcd93474",
      "d3464f386dde4be28e65d92fd9cc1d37",
      "bee2507b29b44e8d9301f9fe564c1650",
      "d2524c2fd7de4b4b888cccb00215470b",
      "d1fd8f7db5c341cdbc1abd0014761194",
      "b53bccc3199e42db844d13f20725bd6e",
      "e117fb520fce4bb095f1be96b1eef1da"
     ]
    },
    "id": "nc1CfOVoRpE5",
    "outputId": "71ba9805-dbed-47cc-8340-fad36c2dfa41"
   },
   "outputs": [
    {
     "name": "stdout",
     "output_type": "stream",
     "text": [
      "WARNING:tensorflow:From c:\\Python310\\lib\\site-packages\\keras\\src\\losses.py:2976: The name tf.losses.sparse_softmax_cross_entropy is deprecated. Please use tf.compat.v1.losses.sparse_softmax_cross_entropy instead.\n",
      "\n"
     ]
    },
    {
     "name": "stderr",
     "output_type": "stream",
     "text": [
      "c:\\Python310\\lib\\site-packages\\tqdm\\auto.py:21: TqdmWarning: IProgress not found. Please update jupyter and ipywidgets. See https://ipywidgets.readthedocs.io/en/stable/user_install.html\n",
      "  from .autonotebook import tqdm as notebook_tqdm\n",
      "c:\\Python310\\lib\\site-packages\\huggingface_hub\\file_download.py:157: UserWarning: `huggingface_hub` cache-system uses symlinks by default to efficiently store duplicated files but your machine does not support them in C:\\Users\\dell\\.cache\\huggingface\\hub\\models--monsoon-nlp--hindi-bert. Caching files will still work but in a degraded version that might require more space on your disk. This warning can be disabled by setting the `HF_HUB_DISABLE_SYMLINKS_WARNING` environment variable. For more details, see https://huggingface.co/docs/huggingface_hub/how-to-cache#limitations.\n",
      "To support symlinks on Windows, you either need to activate Developer Mode or to run Python as an administrator. In order to see activate developer mode, see this article: https://docs.microsoft.com/en-us/windows/apps/get-started/enable-your-device-for-development\n",
      "  warnings.warn(message)\n"
     ]
    }
   ],
   "source": [
    "import tensorflow as tf \n",
    "\n",
    "import ktrain\n",
    "from ktrain import text\n",
    "t = text.Transformer(\"monsoon-nlp/hindi-bert\", maxlen=500, class_names=list(set(y_train.values)))"
   ]
  },
  {
   "cell_type": "code",
   "execution_count": 40,
   "metadata": {
    "colab": {
     "base_uri": "https://localhost:8080/",
     "height": 289,
     "referenced_widgets": [
      "b6e10005b4a641358e6218af8589211a",
      "6c171fea35944ed7aa165295a46c5d13",
      "914de2879a0946e7b0ed42522032b0c9",
      "1f5bd5447f624cf29112c51d96534f89",
      "0589def72f544e2eb69e714c4de3dc2f",
      "a2c380cf38314d4aa4d474a38682d145",
      "9dff313bef854917b43c642ddd0c7c48",
      "92531bef55474317a405646f673d62c1",
      "00e0dc193eb34944895131b37ca4864f",
      "8786d7e4e9094aa08fdf3cfcdc6dadf6",
      "3f8fa14c8ec54e40b12be97089935e32",
      "4800ef53050e4b3ca608ee4dbcd9a655",
      "4f7c0060763a4263b115b4b48c52152e",
      "aa00ab8e54ca4fbb87142f9d58a496ca",
      "edbdd4e3531b4421bbdb290a637dc42e",
      "0662a7bf86d5499883f45ad1c5d45500",
      "880e1acc4b2c4e248b4667020025e750",
      "7ba374bc90e74a6b94e9879188679d42",
      "4a8992e5bb3c4bc78e35e4e9a8f5e699",
      "e1a453582b27423e82f476b101eaffcc",
      "39dda062c1af41da8480db6044c7adec",
      "f8e515756d3b4fc3840bf776bba4437f",
      "7332f1c612a044fb969c1033aeced30c",
      "4bd8d9c8fff8474eb1a47eddf380d373",
      "99e65ec22772481da4c1468ef574a6af",
      "423e1dca19274226b6adebc5808f3390",
      "2c5baafaedbf45148e3bad0899d81e59",
      "0e3382a142e044a686a6fea13f179b5f",
      "eb8b8be6e3ce4228a2ef1634021c306b",
      "1b9c8e8d839f4eccbc565414651b9f91",
      "e6981020480b42f089c699aebdb956c1",
      "c586e9a58dd345479c94e379f37121df",
      "e67c517336144c8faa3f073056b821b7"
     ]
    },
    "id": "kPRokvT8RrPW",
    "outputId": "984d77b8-23eb-46b0-9e2a-9343f16458aa"
   },
   "outputs": [
    {
     "name": "stdout",
     "output_type": "stream",
     "text": [
      "preprocessing train...\n",
      "language: hi\n",
      "train sequence lengths:\n",
      "\tmean : 21\n",
      "\t95percentile : 32\n",
      "\t99percentile : 35\n"
     ]
    },
    {
     "name": "stderr",
     "output_type": "stream",
     "text": [
      "c:\\Python310\\lib\\site-packages\\ktrain\\utils.py:744: UserWarning: class_names argument was ignored, as they were extracted from string labels in dataset\n",
      "  warnings.warn(\n"
     ]
    },
    {
     "data": {
      "text/html": [
       "\n",
       "<style>\n",
       "    /* Turns off some styling */\n",
       "    progress {\n",
       "        /* gets rid of default border in Firefox and Opera. */\n",
       "        border: none;\n",
       "        /* Needs to be in here for Safari polyfill so background images work as expected. */\n",
       "        background-size: auto;\n",
       "    }\n",
       "    progress:not([value]), progress:not([value])::-webkit-progress-bar {\n",
       "        background: repeating-linear-gradient(45deg, #7e7e7e, #7e7e7e 10px, #5c5c5c 10px, #5c5c5c 20px);\n",
       "    }\n",
       "    .progress-bar-interrupted, .progress-bar-interrupted::-webkit-progress-bar {\n",
       "        background: #F44336;\n",
       "    }\n",
       "</style>\n"
      ],
      "text/plain": [
       "<IPython.core.display.HTML object>"
      ]
     },
     "metadata": {},
     "output_type": "display_data"
    },
    {
     "data": {
      "text/html": [],
      "text/plain": [
       "<IPython.core.display.HTML object>"
      ]
     },
     "metadata": {},
     "output_type": "display_data"
    },
    {
     "name": "stdout",
     "output_type": "stream",
     "text": [
      "Is Multi-Label? False\n"
     ]
    }
   ],
   "source": [
    "trn = t.preprocess_train(X_train.to_numpy(), y_train.to_numpy())"
   ]
  },
  {
   "cell_type": "code",
   "execution_count": 41,
   "metadata": {
    "colab": {
     "base_uri": "https://localhost:8080/",
     "height": 121
    },
    "id": "tpH8VEErRvbH",
    "outputId": "ddd514a8-6b9f-42c6-966c-8e4098ca1735"
   },
   "outputs": [
    {
     "name": "stdout",
     "output_type": "stream",
     "text": [
      "preprocessing test...\n",
      "language: hi\n",
      "test sequence lengths:\n",
      "\tmean : 21\n",
      "\t95percentile : 32\n",
      "\t99percentile : 35\n"
     ]
    },
    {
     "data": {
      "text/html": [
       "\n",
       "<style>\n",
       "    /* Turns off some styling */\n",
       "    progress {\n",
       "        /* gets rid of default border in Firefox and Opera. */\n",
       "        border: none;\n",
       "        /* Needs to be in here for Safari polyfill so background images work as expected. */\n",
       "        background-size: auto;\n",
       "    }\n",
       "    progress:not([value]), progress:not([value])::-webkit-progress-bar {\n",
       "        background: repeating-linear-gradient(45deg, #7e7e7e, #7e7e7e 10px, #5c5c5c 10px, #5c5c5c 20px);\n",
       "    }\n",
       "    .progress-bar-interrupted, .progress-bar-interrupted::-webkit-progress-bar {\n",
       "        background: #F44336;\n",
       "    }\n",
       "</style>\n"
      ],
      "text/plain": [
       "<IPython.core.display.HTML object>"
      ]
     },
     "metadata": {},
     "output_type": "display_data"
    },
    {
     "data": {
      "text/html": [],
      "text/plain": [
       "<IPython.core.display.HTML object>"
      ]
     },
     "metadata": {},
     "output_type": "display_data"
    }
   ],
   "source": [
    "evalr = t.preprocess_test(X_test.to_numpy(), y_test.to_numpy())"
   ]
  },
  {
   "cell_type": "code",
   "execution_count": 42,
   "metadata": {
    "id": "vC96l8hJRxMN"
   },
   "outputs": [],
   "source": [
    "\n",
    "model = t.get_classifier()"
   ]
  },
  {
   "cell_type": "code",
   "execution_count": 43,
   "metadata": {
    "id": "UGYqJYk1SSIM"
   },
   "outputs": [],
   "source": [
    "\n",
    "learner = ktrain.get_learner(model, train_data=trn, val_data=evalr, batch_size=6)"
   ]
  },
  {
   "cell_type": "code",
   "execution_count": 44,
   "metadata": {
    "colab": {
     "base_uri": "https://localhost:8080/",
     "height": 836
    },
    "id": "l-BZ-E3cSUtC",
    "outputId": "72f689c3-2058-46d6-c7ac-e6b4c8d2cd0b"
   },
   "outputs": [
    {
     "name": "stdout",
     "output_type": "stream",
     "text": [
      "simulating training for different learning rates... this may take a few moments...\n",
      "Epoch 1/10\n",
      " 568/1512 [==========>...................] - ETA: 1:04:35 - loss: 0.6913 - accuracy: 0.5449"
     ]
    }
   ],
   "source": [
    "\n",
    "learner.lr_find(show_plot=True, max_epochs=10)"
   ]
  },
  {
   "cell_type": "code",
   "execution_count": null,
   "metadata": {
    "colab": {
     "base_uri": "https://localhost:8080/"
    },
    "id": "g1zGjYaFSXLO",
    "outputId": "4ff975d1-85bb-478f-b8b9-148b5e050b3c"
   },
   "outputs": [
    {
     "name": "stdout",
     "output_type": "stream",
     "text": [
      "\n",
      "\n",
      "begin training using onecycle policy with max lr of 0.0001...\n",
      "Epoch 1/3\n",
      "1513/1513 [==============================] - 297s 184ms/step - loss: 0.2700 - accuracy: 0.8779 - val_loss: 0.1332 - val_accuracy: 0.9323\n",
      "Epoch 2/3\n",
      "1513/1513 [==============================] - 277s 183ms/step - loss: 0.1005 - accuracy: 0.9541 - val_loss: 0.0332 - val_accuracy: 0.9874\n",
      "Epoch 3/3\n",
      "1513/1513 [==============================] - 274s 181ms/step - loss: 0.0190 - accuracy: 0.9941 - val_loss: 0.0114 - val_accuracy: 0.9967\n"
     ]
    },
    {
     "data": {
      "text/plain": [
       "<keras.callbacks.History at 0x7f07d7e9b850>"
      ]
     },
     "execution_count": 39,
     "metadata": {},
     "output_type": "execute_result"
    }
   ],
   "source": [
    "model = t.get_classifier()\n",
    "learner = ktrain.get_learner(model, train_data=trn, val_data=evalr, batch_size=6)\n",
    "learner.fit_onecycle(1e-4, 3)"
   ]
  },
  {
   "cell_type": "code",
   "execution_count": null,
   "metadata": {
    "colab": {
     "base_uri": "https://localhost:8080/"
    },
    "id": "f8aV1radSZY2",
    "outputId": "86214e9e-7cc5-4118-ebce-a0c8751aff85"
   },
   "outputs": [
    {
     "name": "stdout",
     "output_type": "stream",
     "text": [
      "\n",
      "\n",
      "begin training using onecycle policy with max lr of 0.00012...\n",
      "Epoch 1/5\n",
      "1513/1513 [==============================] - 297s 184ms/step - loss: 0.2498 - accuracy: 0.9014 - val_loss: 0.0620 - val_accuracy: 0.9868\n",
      "Epoch 2/5\n",
      "1513/1513 [==============================] - 273s 180ms/step - loss: 0.0649 - accuracy: 0.9803 - val_loss: 0.0092 - val_accuracy: 0.9980\n",
      "Epoch 3/5\n",
      "1513/1513 [==============================] - 279s 184ms/step - loss: 0.0404 - accuracy: 0.9869 - val_loss: 0.0088 - val_accuracy: 0.9980\n",
      "Epoch 4/5\n",
      "1513/1513 [==============================] - 278s 184ms/step - loss: 0.0112 - accuracy: 0.9968 - val_loss: 2.1338e-04 - val_accuracy: 1.0000\n",
      "Epoch 5/5\n",
      "1513/1513 [==============================] - 278s 184ms/step - loss: 0.0029 - accuracy: 0.9990 - val_loss: 9.0797e-05 - val_accuracy: 1.0000\n"
     ]
    },
    {
     "data": {
      "text/plain": [
       "<keras.callbacks.History at 0x7f084bbfbe20>"
      ]
     },
     "execution_count": 40,
     "metadata": {},
     "output_type": "execute_result"
    }
   ],
   "source": [
    "model = t.get_classifier()\n",
    "learner = ktrain.get_learner(model, train_data=trn, val_data=evalr, batch_size=6)\n",
    "learner.fit_onecycle(1.2e-4, 5)"
   ]
  },
  {
   "cell_type": "code",
   "execution_count": 48,
   "metadata": {
    "id": "Y5NtXNGkj1s3"
   },
   "outputs": [],
   "source": [
    "learner.save_model(\"D:/Downloads1/archive/new_model.h5\")\n"
   ]
  },
  {
   "cell_type": "code",
   "execution_count": 49,
   "metadata": {
    "id": "-wGa-67oSdsB"
   },
   "outputs": [],
   "source": [
    "predictor = ktrain.get_predictor(learner.model, preproc=t)"
   ]
  },
  {
   "cell_type": "code",
   "execution_count": 50,
   "metadata": {
    "id": "QC0B-YKuieSb"
   },
   "outputs": [],
   "source": [
    "import random\n",
    "list_of_num=[]\n",
    "for i in range(15):\n",
    "  x = random.randint(1,100)\n",
    "  list_of_num.append(x)"
   ]
  },
  {
   "cell_type": "code",
   "execution_count": 51,
   "metadata": {
    "colab": {
     "base_uri": "https://localhost:8080/"
    },
    "id": "8wh1mcklioZO",
    "outputId": "9c0f285c-62eb-431d-8b1a-963ba08d586c"
   },
   "outputs": [
    {
     "data": {
      "text/plain": [
       "[45, 50, 97, 32, 33, 71, 59, 54, 9, 70, 94, 75, 24, 60, 10]"
      ]
     },
     "execution_count": 51,
     "metadata": {},
     "output_type": "execute_result"
    }
   ],
   "source": [
    "list_of_num"
   ]
  },
  {
   "cell_type": "code",
   "execution_count": 52,
   "metadata": {
    "colab": {
     "base_uri": "https://localhost:8080/"
    },
    "id": "hk1xk8AfipqH",
    "outputId": "9f8d8d0f-a1b1-434d-fa9d-e170907de6c5"
   },
   "outputs": [
    {
     "name": "stdout",
     "output_type": "stream",
     "text": [
      "Actual Text =  सुकून कमाना अब ग़ालिब नाम ओर शोहरत मोत मिल जाती क़िताबऐजिंदगी\n",
      "\n",
      "\n",
      "++++++++++++++++++++++++++++++++++++++++++++++++++\n",
      "Predicted Label =  Non-Sarcastic\n",
      "Actual Label =  Non-Sarcastic\n",
      "--------------------------------------------------\n",
      "Actual Text =  agar tumhe aisa lage ki tumse dur jaa rahe hai ” gaand pe laat marke bhgao ”\n",
      "\n",
      "\n",
      "++++++++++++++++++++++++++++++++++++++++++++++++++\n",
      "Predicted Label =  Sarcastic\n",
      "Actual Label =  Sarcastic\n",
      "--------------------------------------------------\n",
      "Actual Text =  अगर आपके छल उससे दुखी चाहिऐ क्यूंकि उससे आपको सबक मिलता रहने लायक छोङने लायक शुभरात्रि मनकीबात\n",
      "\n",
      "\n",
      "++++++++++++++++++++++++++++++++++++++++++++++++++\n",
      "Predicted Label =  Non-Sarcastic\n",
      "Actual Label =  Non-Sarcastic\n",
      "--------------------------------------------------\n",
      "Actual Text =  राजस्थान शेरनीराजस्थान विश्वविद्यालय आन बान शान वर्तमान छात्र संघ अध्यक्ष बहिन पूजावर्मा जन्मदिन हार्दिक बधाई शुभकामनाएं। पूजा वर्मा rajasthan university\n",
      "\n",
      "\n",
      "++++++++++++++++++++++++++++++++++++++++++++++++++\n",
      "Predicted Label =  Non-Sarcastic\n",
      "Actual Label =  Non-Sarcastic\n",
      "--------------------------------------------------\n",
      "Actual Text =  bhai usko bolte hain dictionary khol aur matlab dekh aur chal maanliya galat hai tu sahi bata de challenge\n",
      "\n",
      "\n",
      "++++++++++++++++++++++++++++++++++++++++++++++++++\n",
      "Predicted Label =  Sarcastic\n",
      "Actual Label =  Sarcastic\n",
      "--------------------------------------------------\n",
      "Actual Text =  क्या काँग्रेसियो खिलौने सर्विसिंग चाइना\n",
      "\n",
      "\n",
      "++++++++++++++++++++++++++++++++++++++++++++++++++\n",
      "Predicted Label =  Non-Sarcastic\n",
      "Actual Label =  Sarcastic\n",
      "--------------------------------------------------\n",
      "Actual Text =  चीन मुद्दे ओवैसी इतना गुस्से वो शी पिंग मिनट चीनी आर्मी पुलिस हटाने कह पूरे चीन खत्म देगा कटाक्ष\n",
      "\n",
      "\n",
      "++++++++++++++++++++++++++++++++++++++++++++++++++\n",
      "Predicted Label =  Non-Sarcastic\n",
      "Actual Label =  Sarcastic\n",
      "--------------------------------------------------\n",
      "Actual Text =  बरस बीत gd झुलसाता जेठ मास शरद चांदनी उदास सिसकी भरते सावन अंतर्घट रीत बरस बीत गयाअब भर्ती करा लो साहब\n",
      "\n",
      "\n",
      "++++++++++++++++++++++++++++++++++++++++++++++++++\n",
      "Predicted Label =  Non-Sarcastic\n",
      "Actual Label =  Non-Sarcastic\n",
      "--------------------------------------------------\n",
      "Actual Text =  मौजूद वक़्त शायद आने वाला वक़्त मौजूदा इतिहास नए रूप लिख ।\n",
      "\n",
      "\n",
      "++++++++++++++++++++++++++++++++++++++++++++++++++\n",
      "Predicted Label =  Non-Sarcastic\n",
      "Actual Label =  Non-Sarcastic\n",
      "--------------------------------------------------\n",
      "Actual Text =  जिंदगी पैसा रुपिया जिंदगी चूतियेदोस्त बहोत जरूरी जो कभी उदास रहने बस बोल दे अबे टेंशन मत ले बे होई ता चाय दुकान खोलल जाई। यकीन मानिए शब्द बचकाने लगे उदास शक्श संजिवनी है।\n",
      "\n",
      "\n",
      "++++++++++++++++++++++++++++++++++++++++++++++++++\n",
      "Predicted Label =  Non-Sarcastic\n",
      "Actual Label =  Non-Sarcastic\n",
      "--------------------------------------------------\n",
      "Actual Text =  पिता पिता रोटी कपड़ा मकान पिता पिता छोटे परिंदे बड़ा आसमान । बात हमेशा याद रखनी चाहिए जीवन पिता स्थान प्रभु कम है। पिता दिवस हार्दिक शुभकामनाएं\n",
      "\n",
      "\n",
      "++++++++++++++++++++++++++++++++++++++++++++++++++\n",
      "Predicted Label =  Non-Sarcastic\n",
      "Actual Label =  Non-Sarcastic\n",
      "--------------------------------------------------\n",
      "Actual Text =  अगर आज नेहरू जी शी जिनपिंग बीवी एडविना पटाकर सिगरेट पिलाकर वश लेते तिब्बत सीधे शंघाई कब्जा लेते इश्क़ जंग सब जायज़ नेहरू किताब द ठरकी नेहरू जय कांग्रेस आक थू कटाक्ष\n",
      "\n",
      "\n",
      "++++++++++++++++++++++++++++++++++++++++++++++++++\n",
      "Predicted Label =  Non-Sarcastic\n",
      "Actual Label =  Sarcastic\n",
      "--------------------------------------------------\n",
      "Actual Text =  दुख सिर्फ ज़ात mehdood रखे जो मुश्किल डालता वो दुख निजात दिलाता\n",
      "\n",
      "\n",
      "++++++++++++++++++++++++++++++++++++++++++++++++++\n",
      "Predicted Label =  Non-Sarcastic\n",
      "Actual Label =  Non-Sarcastic\n",
      "--------------------------------------------------\n",
      "Actual Text =  ye baarish ke baad macharo ka aana zaroori hai kya\n",
      "\n",
      "\n",
      "++++++++++++++++++++++++++++++++++++++++++++++++++\n",
      "Predicted Label =  Sarcastic\n",
      "Actual Label =  Sarcastic\n",
      "--------------------------------------------------\n",
      "Actual Text =  हमारे गांव मास्टर जी रहते वो मोहल्ले बच्चों स्कूल आने थे। मैं बड़ा पता चला स्कूल मास्टर बेटे बस भतीजे कैंटीन भांजे पढ़ाने सब रिश्तेदार आज मास्टर जी सरकार मंत्री कटाक्ष\n",
      "\n",
      "\n",
      "++++++++++++++++++++++++++++++++++++++++++++++++++\n",
      "Predicted Label =  Non-Sarcastic\n",
      "Actual Label =  Sarcastic\n",
      "--------------------------------------------------\n"
     ]
    }
   ],
   "source": [
    "for i in list_of_num:\n",
    "  print('Actual Text = ', X_test.iloc[i])\n",
    "  print('\\n')\n",
    "  print(\"+\"*50)\n",
    "  print(\"Predicted Label = \",predictor.predict(X_test.iloc[i]))\n",
    "  print('Actual Label = ',y_test.iloc[i])\n",
    "  print(\"-\"*50)"
   ]
  },
  {
   "cell_type": "code",
   "execution_count": 54,
   "metadata": {
    "colab": {
     "base_uri": "https://localhost:8080/"
    },
    "id": "HwWQwzEZi4DE",
    "outputId": "fb94486f-ef5e-4901-b7a8-d6f7c049c91d"
   },
   "outputs": [
    {
     "name": "stdout",
     "output_type": "stream",
     "text": [
      "95/95 [==============================] - 104s 1s/step\n"
     ]
    },
    {
     "ename": "TypeError",
     "evalue": "'CategoricalCrossentropy' object is not subscriptable",
     "output_type": "error",
     "traceback": [
      "\u001b[1;31m---------------------------------------------------------------------------\u001b[0m",
      "\u001b[1;31mTypeError\u001b[0m                                 Traceback (most recent call last)",
      "Cell \u001b[1;32mIn[54], line 1\u001b[0m\n\u001b[1;32m----> 1\u001b[0m \u001b[43mlearner\u001b[49m\u001b[38;5;241;43m.\u001b[39;49m\u001b[43mview_top_losses\u001b[49m\u001b[43m(\u001b[49m\u001b[43mn\u001b[49m\u001b[38;5;241;43m=\u001b[39;49m\u001b[38;5;241;43m4\u001b[39;49m\u001b[43m)\u001b[49m\n",
      "File \u001b[1;32mc:\\Python310\\lib\\site-packages\\ktrain\\text\\learner.py:136\u001b[0m, in \u001b[0;36mTransformerTextClassLearner.view_top_losses\u001b[1;34m(self, n, preproc, val_data)\u001b[0m\n\u001b[0;32m    133\u001b[0m val \u001b[38;5;241m=\u001b[39m \u001b[38;5;28mself\u001b[39m\u001b[38;5;241m.\u001b[39m_check_val(val_data)\n\u001b[0;32m    135\u001b[0m \u001b[38;5;66;03m# get top losses and associated data\u001b[39;00m\n\u001b[1;32m--> 136\u001b[0m tups \u001b[38;5;241m=\u001b[39m \u001b[38;5;28;43mself\u001b[39;49m\u001b[38;5;241;43m.\u001b[39;49m\u001b[43mtop_losses\u001b[49m\u001b[43m(\u001b[49m\u001b[43mn\u001b[49m\u001b[38;5;241;43m=\u001b[39;49m\u001b[43mn\u001b[49m\u001b[43m,\u001b[49m\u001b[43m \u001b[49m\u001b[43mval_data\u001b[49m\u001b[38;5;241;43m=\u001b[39;49m\u001b[43mval\u001b[49m\u001b[43m,\u001b[49m\u001b[43m \u001b[49m\u001b[43mpreproc\u001b[49m\u001b[38;5;241;43m=\u001b[39;49m\u001b[43mpreproc\u001b[49m\u001b[43m)\u001b[49m\n\u001b[0;32m    138\u001b[0m \u001b[38;5;66;03m# get multilabel status and class names\u001b[39;00m\n\u001b[0;32m    139\u001b[0m classes \u001b[38;5;241m=\u001b[39m preproc\u001b[38;5;241m.\u001b[39mget_classes() \u001b[38;5;28;01mif\u001b[39;00m preproc \u001b[38;5;129;01mis\u001b[39;00m \u001b[38;5;129;01mnot\u001b[39;00m \u001b[38;5;28;01mNone\u001b[39;00m \u001b[38;5;28;01melse\u001b[39;00m \u001b[38;5;28;01mNone\u001b[39;00m\n",
      "File \u001b[1;32mc:\\Python310\\lib\\site-packages\\ktrain\\core.py:297\u001b[0m, in \u001b[0;36mLearner.top_losses\u001b[1;34m(self, n, val_data, preproc)\u001b[0m\n\u001b[0;32m    288\u001b[0m     y_true \u001b[38;5;241m=\u001b[39m np\u001b[38;5;241m.\u001b[39mexpand_dims(y_true, \u001b[38;5;241m-\u001b[39m\u001b[38;5;241m1\u001b[39m)\n\u001b[0;32m    290\u001b[0m \u001b[38;5;66;03m# compute loss\u001b[39;00m\n\u001b[0;32m    291\u001b[0m \u001b[38;5;66;03m# this doesn't work in tf.keras 1.14\u001b[39;00m\n\u001b[0;32m    292\u001b[0m \u001b[38;5;66;03m# losses = self.model.loss_functions[0](tf.convert_to_tensor(y_true), tf.convert_to_tensor(y_pred))\u001b[39;00m\n\u001b[1;32m   (...)\u001b[0m\n\u001b[0;32m    295\u001b[0m \u001b[38;5;66;03m# else:\u001b[39;00m\n\u001b[0;32m    296\u001b[0m \u001b[38;5;66;03m# L = self.model.loss_functions[0]\u001b[39;00m\n\u001b[1;32m--> 297\u001b[0m L \u001b[38;5;241m=\u001b[39m \u001b[43mU\u001b[49m\u001b[38;5;241;43m.\u001b[39;49m\u001b[43mloss_fn_from_model\u001b[49m\u001b[43m(\u001b[49m\u001b[38;5;28;43mself\u001b[39;49m\u001b[38;5;241;43m.\u001b[39;49m\u001b[43mmodel\u001b[49m\u001b[43m)\u001b[49m\n\u001b[0;32m    298\u001b[0m losses \u001b[38;5;241m=\u001b[39m L(tf\u001b[38;5;241m.\u001b[39mconvert_to_tensor(y_true), tf\u001b[38;5;241m.\u001b[39mconvert_to_tensor(y_pred))\n\u001b[0;32m    299\u001b[0m \u001b[38;5;28;01mif\u001b[39;00m DISABLE_V2_BEHAVIOR:\n",
      "File \u001b[1;32mc:\\Python310\\lib\\site-packages\\ktrain\\utils.py:70\u001b[0m, in \u001b[0;36mloss_fn_from_model\u001b[1;34m(model)\u001b[0m\n\u001b[0;32m     67\u001b[0m     \u001b[38;5;28;01mreturn\u001b[39;00m model\u001b[38;5;241m.\u001b[39mloss_functions[\u001b[38;5;241m0\u001b[39m]\u001b[38;5;241m.\u001b[39mfn\n\u001b[0;32m     68\u001b[0m \u001b[38;5;28;01melse\u001b[39;00m:  \u001b[38;5;66;03m# TF 2.2.0\u001b[39;00m\n\u001b[0;32m     69\u001b[0m     \u001b[38;5;28;01mreturn\u001b[39;00m model\u001b[38;5;241m.\u001b[39mcompiled_loss\u001b[38;5;241m.\u001b[39m_get_loss_object(\n\u001b[1;32m---> 70\u001b[0m         \u001b[43mmodel\u001b[49m\u001b[38;5;241;43m.\u001b[39;49m\u001b[43mcompiled_loss\u001b[49m\u001b[38;5;241;43m.\u001b[39;49m\u001b[43m_losses\u001b[49m\u001b[43m[\u001b[49m\u001b[38;5;241;43m0\u001b[39;49m\u001b[43m]\u001b[49m\u001b[38;5;241m.\u001b[39mname\n\u001b[0;32m     71\u001b[0m     )\u001b[38;5;241m.\u001b[39mfn\n",
      "\u001b[1;31mTypeError\u001b[0m: 'CategoricalCrossentropy' object is not subscriptable"
     ]
    }
   ],
   "source": [
    "learner.view_top_losses(n=4)"
   ]
  },
  {
   "cell_type": "code",
   "execution_count": null,
   "metadata": {
    "colab": {
     "base_uri": "https://localhost:8080/"
    },
    "id": "nYnie3AFnu6v",
    "outputId": "8ba5d6de-5135-4e03-b04f-aab5130ce21a"
   },
   "outputs": [
    {
     "name": "stdout",
     "output_type": "stream",
     "text": [
      "95/95 [==============================] - 8s 79ms/step\n"
     ]
    },
    {
     "data": {
      "text/plain": [
       "[]"
      ]
     },
     "execution_count": 67,
     "metadata": {},
     "output_type": "execute_result"
    }
   ],
   "source": [
    "learner.top_losses(n=4)"
   ]
  },
  {
   "cell_type": "code",
   "execution_count": null,
   "metadata": {
    "colab": {
     "base_uri": "https://localhost:8080/",
     "height": 472
    },
    "id": "0Ee2zHmMmSoD",
    "outputId": "5eda302c-ca30-492a-a7fe-4f4c1e40617a"
   },
   "outputs": [
    {
     "data": {
      "image/png": "[encoded data removed]",
      "text/plain": [
       "<Figure size 640x480 with 1 Axes>"
      ]
     },
     "metadata": {},
     "output_type": "display_data"
    }
   ],
   "source": [
    "learner.plot()"
   ]
  },
  {
   "cell_type": "code",
   "execution_count": null,
   "metadata": {
    "colab": {
     "base_uri": "https://localhost:8080/"
    },
    "id": "VxfuUKvtnAf4",
    "outputId": "dae142af-82f8-491b-8bfd-08a9aadd7201"
   },
   "outputs": [
    {
     "name": "stdout",
     "output_type": "stream",
     "text": [
      "0 (trainable=True) : <transformers.models.electra.modeling_tf_electra.TFElectraMainLayer object at 0x7f07d7e9ad10>\n",
      "1 (trainable=True) : <transformers.models.electra.modeling_tf_electra.TFElectraClassificationHead object at 0x7f0854612920>\n"
     ]
    }
   ],
   "source": [
    "learner.print_layers()"
   ]
  },
  {
   "cell_type": "code",
   "execution_count": null,
   "metadata": {
    "id": "2E_lmgLpnNOw"
   },
   "outputs": [],
   "source": [
    " from sklearn.metrics import classification_report, confusion_matrix"
   ]
  },
  {
   "cell_type": "code",
   "execution_count": null,
   "metadata": {
    "colab": {
     "base_uri": "https://localhost:8080/"
    },
    "id": "34L4UF0ZpAmY",
    "outputId": "5d12e3c1-69e2-4ab0-947e-96f2048fb9f3"
   },
   "outputs": [
    {
     "data": {
      "text/plain": [
       "3026"
      ]
     },
     "execution_count": 74,
     "metadata": {},
     "output_type": "execute_result"
    }
   ],
   "source": [
    "len(X_test)"
   ]
  },
  {
   "cell_type": "code",
   "execution_count": null,
   "metadata": {
    "id": "vIPtLwHVpHYB"
   },
   "outputs": [],
   "source": [
    "y_pred=[]\n",
    "for i in range(len(X_test)):\n",
    "  k=predictor.predict(X_test.iloc[i])\n",
    "  y_pred.append(k)\n"
   ]
  },
  {
   "cell_type": "code",
   "execution_count": null,
   "metadata": {
    "id": "mmrVGMcToTh2"
   },
   "outputs": [],
   "source": [
    "y_pred=predictor.predict(X_test.iloc[2])"
   ]
  },
  {
   "cell_type": "code",
   "execution_count": null,
   "metadata": {
    "colab": {
     "base_uri": "https://localhost:8080/",
     "height": 36
    },
    "id": "ojftrSruolKZ",
    "outputId": "3747ae40-b787-48ed-d5f3-10835894cc63"
   },
   "outputs": [
    {
     "data": {
      "application/vnd.google.colaboratory.intrinsic+json": {
       "type": "string"
      },
      "text/plain": [
       "'Non-Sarcastic'"
      ]
     },
     "execution_count": 72,
     "metadata": {},
     "output_type": "execute_result"
    }
   ],
   "source": [
    "y_pred"
   ]
  },
  {
   "cell_type": "code",
   "execution_count": null,
   "metadata": {
    "colab": {
     "base_uri": "https://localhost:8080/"
    },
    "id": "wPYlDMGTo9sA",
    "outputId": "17aacdc9-34a2-48b8-bb6a-bbbefe2d8db9"
   },
   "outputs": [
    {
     "data": {
      "text/plain": [
       "['Sarcastic',\n",
       " 'Sarcastic',\n",
       " 'Non-Sarcastic',\n",
       " 'Sarcastic',\n",
       " 'Non-Sarcastic',\n",
       " 'Sarcastic',\n",
       " 'Sarcastic',\n",
       " 'Sarcastic',\n",
       " 'Non-Sarcastic',\n",
       " 'Non-Sarcastic',\n",
       " 'Sarcastic',\n",
       " 'Sarcastic',\n",
       " 'Sarcastic',\n",
       " 'Non-Sarcastic',\n",
       " 'Non-Sarcastic',\n",
       " 'Sarcastic',\n",
       " 'Non-Sarcastic',\n",
       " 'Non-Sarcastic',\n",
       " 'Non-Sarcastic',\n",
       " 'Non-Sarcastic',\n",
       " 'Non-Sarcastic',\n",
       " 'Non-Sarcastic',\n",
       " 'Non-Sarcastic',\n",
       " 'Sarcastic',\n",
       " 'Non-Sarcastic',\n",
       " 'Non-Sarcastic',\n",
       " 'Non-Sarcastic',\n",
       " 'Sarcastic',\n",
       " 'Non-Sarcastic',\n",
       " 'Non-Sarcastic',\n",
       " 'Non-Sarcastic',\n",
       " 'Sarcastic',\n",
       " 'Non-Sarcastic',\n",
       " 'Sarcastic',\n",
       " 'Sarcastic',\n",
       " 'Non-Sarcastic',\n",
       " 'Sarcastic',\n",
       " 'Sarcastic',\n",
       " 'Non-Sarcastic',\n",
       " 'Non-Sarcastic',\n",
       " 'Sarcastic',\n",
       " 'Sarcastic',\n",
       " 'Non-Sarcastic',\n",
       " 'Non-Sarcastic',\n",
       " 'Non-Sarcastic',\n",
       " 'Non-Sarcastic',\n",
       " 'Non-Sarcastic',\n",
       " 'Sarcastic',\n",
       " 'Sarcastic',\n",
       " 'Non-Sarcastic',\n",
       " 'Sarcastic',\n",
       " 'Sarcastic',\n",
       " 'Non-Sarcastic',\n",
       " 'Non-Sarcastic',\n",
       " 'Non-Sarcastic',\n",
       " 'Sarcastic',\n",
       " 'Non-Sarcastic',\n",
       " 'Sarcastic',\n",
       " 'Non-Sarcastic',\n",
       " 'Sarcastic',\n",
       " 'Sarcastic',\n",
       " 'Non-Sarcastic',\n",
       " 'Sarcastic',\n",
       " 'Sarcastic',\n",
       " 'Sarcastic',\n",
       " 'Non-Sarcastic',\n",
       " 'Non-Sarcastic',\n",
       " 'Non-Sarcastic',\n",
       " 'Sarcastic',\n",
       " 'Sarcastic',\n",
       " 'Non-Sarcastic',\n",
       " 'Sarcastic',\n",
       " 'Non-Sarcastic',\n",
       " 'Sarcastic',\n",
       " 'Non-Sarcastic',\n",
       " 'Sarcastic',\n",
       " 'Sarcastic',\n",
       " 'Non-Sarcastic',\n",
       " 'Sarcastic',\n",
       " 'Sarcastic',\n",
       " 'Non-Sarcastic',\n",
       " 'Non-Sarcastic',\n",
       " 'Non-Sarcastic',\n",
       " 'Sarcastic',\n",
       " 'Non-Sarcastic',\n",
       " 'Non-Sarcastic',\n",
       " 'Sarcastic',\n",
       " 'Sarcastic',\n",
       " 'Non-Sarcastic',\n",
       " 'Non-Sarcastic',\n",
       " 'Non-Sarcastic',\n",
       " 'Non-Sarcastic',\n",
       " 'Non-Sarcastic',\n",
       " 'Sarcastic',\n",
       " 'Non-Sarcastic',\n",
       " 'Non-Sarcastic',\n",
       " 'Sarcastic',\n",
       " 'Non-Sarcastic',\n",
       " 'Sarcastic',\n",
       " 'Sarcastic',\n",
       " 'Non-Sarcastic',\n",
       " 'Sarcastic',\n",
       " 'Non-Sarcastic',\n",
       " 'Non-Sarcastic',\n",
       " 'Non-Sarcastic',\n",
       " 'Non-Sarcastic',\n",
       " 'Sarcastic',\n",
       " 'Sarcastic',\n",
       " 'Non-Sarcastic',\n",
       " 'Sarcastic',\n",
       " 'Sarcastic',\n",
       " 'Sarcastic',\n",
       " 'Non-Sarcastic',\n",
       " 'Non-Sarcastic',\n",
       " 'Non-Sarcastic',\n",
       " 'Sarcastic',\n",
       " 'Sarcastic',\n",
       " 'Sarcastic',\n",
       " 'Non-Sarcastic',\n",
       " 'Sarcastic',\n",
       " 'Sarcastic',\n",
       " 'Non-Sarcastic',\n",
       " 'Sarcastic',\n",
       " 'Non-Sarcastic',\n",
       " 'Non-Sarcastic',\n",
       " 'Non-Sarcastic',\n",
       " 'Non-Sarcastic',\n",
       " 'Non-Sarcastic',\n",
       " 'Sarcastic',\n",
       " 'Sarcastic',\n",
       " 'Non-Sarcastic',\n",
       " 'Non-Sarcastic',\n",
       " 'Sarcastic',\n",
       " 'Non-Sarcastic',\n",
       " 'Non-Sarcastic',\n",
       " 'Sarcastic',\n",
       " 'Sarcastic',\n",
       " 'Non-Sarcastic',\n",
       " 'Non-Sarcastic',\n",
       " 'Sarcastic',\n",
       " 'Sarcastic',\n",
       " 'Sarcastic',\n",
       " 'Non-Sarcastic',\n",
       " 'Non-Sarcastic',\n",
       " 'Non-Sarcastic',\n",
       " 'Non-Sarcastic',\n",
       " 'Sarcastic',\n",
       " 'Non-Sarcastic',\n",
       " 'Sarcastic',\n",
       " 'Non-Sarcastic',\n",
       " 'Sarcastic',\n",
       " 'Non-Sarcastic',\n",
       " 'Sarcastic',\n",
       " 'Sarcastic',\n",
       " 'Sarcastic',\n",
       " 'Sarcastic',\n",
       " 'Sarcastic',\n",
       " 'Sarcastic',\n",
       " 'Sarcastic',\n",
       " 'Sarcastic',\n",
       " 'Non-Sarcastic',\n",
       " 'Non-Sarcastic',\n",
       " 'Non-Sarcastic',\n",
       " 'Non-Sarcastic',\n",
       " 'Sarcastic',\n",
       " 'Non-Sarcastic',\n",
       " 'Non-Sarcastic',\n",
       " 'Sarcastic',\n",
       " 'Non-Sarcastic',\n",
       " 'Sarcastic',\n",
       " 'Non-Sarcastic',\n",
       " 'Sarcastic',\n",
       " 'Sarcastic',\n",
       " 'Sarcastic',\n",
       " 'Sarcastic',\n",
       " 'Non-Sarcastic',\n",
       " 'Non-Sarcastic',\n",
       " 'Sarcastic',\n",
       " 'Non-Sarcastic',\n",
       " 'Sarcastic',\n",
       " 'Non-Sarcastic',\n",
       " 'Non-Sarcastic',\n",
       " 'Sarcastic',\n",
       " 'Sarcastic',\n",
       " 'Sarcastic',\n",
       " 'Non-Sarcastic',\n",
       " 'Sarcastic',\n",
       " 'Sarcastic',\n",
       " 'Non-Sarcastic',\n",
       " 'Non-Sarcastic',\n",
       " 'Non-Sarcastic',\n",
       " 'Non-Sarcastic',\n",
       " 'Non-Sarcastic',\n",
       " 'Sarcastic',\n",
       " 'Sarcastic',\n",
       " 'Non-Sarcastic',\n",
       " 'Non-Sarcastic',\n",
       " 'Sarcastic',\n",
       " 'Sarcastic',\n",
       " 'Non-Sarcastic',\n",
       " 'Sarcastic',\n",
       " 'Non-Sarcastic',\n",
       " 'Non-Sarcastic',\n",
       " 'Sarcastic',\n",
       " 'Sarcastic',\n",
       " 'Sarcastic',\n",
       " 'Non-Sarcastic',\n",
       " 'Non-Sarcastic',\n",
       " 'Non-Sarcastic',\n",
       " 'Non-Sarcastic',\n",
       " 'Sarcastic',\n",
       " 'Non-Sarcastic',\n",
       " 'Sarcastic',\n",
       " 'Non-Sarcastic',\n",
       " 'Non-Sarcastic',\n",
       " 'Non-Sarcastic',\n",
       " 'Non-Sarcastic',\n",
       " 'Sarcastic',\n",
       " 'Sarcastic',\n",
       " 'Sarcastic',\n",
       " 'Non-Sarcastic',\n",
       " 'Non-Sarcastic',\n",
       " 'Sarcastic',\n",
       " 'Sarcastic',\n",
       " 'Sarcastic',\n",
       " 'Sarcastic',\n",
       " 'Non-Sarcastic',\n",
       " 'Non-Sarcastic',\n",
       " 'Sarcastic',\n",
       " 'Sarcastic',\n",
       " 'Sarcastic',\n",
       " 'Sarcastic',\n",
       " 'Non-Sarcastic',\n",
       " 'Non-Sarcastic',\n",
       " 'Sarcastic',\n",
       " 'Sarcastic',\n",
       " 'Sarcastic',\n",
       " 'Non-Sarcastic',\n",
       " 'Non-Sarcastic',\n",
       " 'Sarcastic',\n",
       " 'Non-Sarcastic',\n",
       " 'Non-Sarcastic',\n",
       " 'Sarcastic',\n",
       " 'Sarcastic',\n",
       " 'Sarcastic',\n",
       " 'Non-Sarcastic',\n",
       " 'Sarcastic',\n",
       " 'Sarcastic',\n",
       " 'Sarcastic',\n",
       " 'Non-Sarcastic',\n",
       " 'Non-Sarcastic',\n",
       " 'Non-Sarcastic',\n",
       " 'Non-Sarcastic',\n",
       " 'Non-Sarcastic',\n",
       " 'Non-Sarcastic',\n",
       " 'Non-Sarcastic',\n",
       " 'Non-Sarcastic',\n",
       " 'Non-Sarcastic',\n",
       " 'Sarcastic',\n",
       " 'Non-Sarcastic',\n",
       " 'Non-Sarcastic',\n",
       " 'Non-Sarcastic',\n",
       " 'Non-Sarcastic',\n",
       " 'Sarcastic',\n",
       " 'Non-Sarcastic',\n",
       " 'Non-Sarcastic',\n",
       " 'Sarcastic',\n",
       " 'Sarcastic',\n",
       " 'Non-Sarcastic',\n",
       " 'Sarcastic',\n",
       " 'Sarcastic',\n",
       " 'Non-Sarcastic',\n",
       " 'Non-Sarcastic',\n",
       " 'Non-Sarcastic',\n",
       " 'Sarcastic',\n",
       " 'Sarcastic',\n",
       " 'Sarcastic',\n",
       " 'Sarcastic',\n",
       " 'Sarcastic',\n",
       " 'Non-Sarcastic',\n",
       " 'Non-Sarcastic',\n",
       " 'Sarcastic',\n",
       " 'Non-Sarcastic',\n",
       " 'Sarcastic',\n",
       " 'Non-Sarcastic',\n",
       " 'Non-Sarcastic',\n",
       " 'Non-Sarcastic',\n",
       " 'Sarcastic',\n",
       " 'Sarcastic',\n",
       " 'Non-Sarcastic',\n",
       " 'Sarcastic',\n",
       " 'Sarcastic',\n",
       " 'Non-Sarcastic',\n",
       " 'Non-Sarcastic',\n",
       " 'Non-Sarcastic',\n",
       " 'Sarcastic',\n",
       " 'Non-Sarcastic',\n",
       " 'Sarcastic',\n",
       " 'Sarcastic',\n",
       " 'Non-Sarcastic',\n",
       " 'Non-Sarcastic',\n",
       " 'Non-Sarcastic',\n",
       " 'Sarcastic',\n",
       " 'Non-Sarcastic',\n",
       " 'Sarcastic',\n",
       " 'Non-Sarcastic',\n",
       " 'Sarcastic',\n",
       " 'Non-Sarcastic',\n",
       " 'Non-Sarcastic',\n",
       " 'Sarcastic',\n",
       " 'Sarcastic',\n",
       " 'Sarcastic',\n",
       " 'Sarcastic',\n",
       " 'Sarcastic',\n",
       " 'Sarcastic',\n",
       " 'Non-Sarcastic',\n",
       " 'Non-Sarcastic',\n",
       " 'Sarcastic',\n",
       " 'Sarcastic',\n",
       " 'Sarcastic',\n",
       " 'Sarcastic',\n",
       " 'Sarcastic',\n",
       " 'Sarcastic',\n",
       " 'Sarcastic',\n",
       " 'Non-Sarcastic',\n",
       " 'Non-Sarcastic',\n",
       " 'Non-Sarcastic',\n",
       " 'Sarcastic',\n",
       " 'Non-Sarcastic',\n",
       " 'Sarcastic',\n",
       " 'Non-Sarcastic',\n",
       " 'Sarcastic',\n",
       " 'Non-Sarcastic',\n",
       " 'Sarcastic',\n",
       " 'Non-Sarcastic',\n",
       " 'Sarcastic',\n",
       " 'Non-Sarcastic',\n",
       " 'Non-Sarcastic',\n",
       " 'Non-Sarcastic',\n",
       " 'Sarcastic',\n",
       " 'Non-Sarcastic',\n",
       " 'Sarcastic',\n",
       " 'Sarcastic',\n",
       " 'Non-Sarcastic',\n",
       " 'Sarcastic',\n",
       " 'Sarcastic',\n",
       " 'Sarcastic',\n",
       " 'Non-Sarcastic',\n",
       " 'Sarcastic',\n",
       " 'Sarcastic',\n",
       " 'Sarcastic',\n",
       " 'Non-Sarcastic',\n",
       " 'Non-Sarcastic',\n",
       " 'Sarcastic',\n",
       " 'Non-Sarcastic',\n",
       " 'Non-Sarcastic',\n",
       " 'Non-Sarcastic',\n",
       " 'Non-Sarcastic',\n",
       " 'Sarcastic',\n",
       " 'Sarcastic',\n",
       " 'Non-Sarcastic',\n",
       " 'Sarcastic',\n",
       " 'Sarcastic',\n",
       " 'Sarcastic',\n",
       " 'Non-Sarcastic',\n",
       " 'Non-Sarcastic',\n",
       " 'Non-Sarcastic',\n",
       " 'Sarcastic',\n",
       " 'Sarcastic',\n",
       " 'Sarcastic',\n",
       " 'Non-Sarcastic',\n",
       " 'Sarcastic',\n",
       " 'Sarcastic',\n",
       " 'Non-Sarcastic',\n",
       " 'Sarcastic',\n",
       " 'Non-Sarcastic',\n",
       " 'Non-Sarcastic',\n",
       " 'Non-Sarcastic',\n",
       " 'Sarcastic',\n",
       " 'Sarcastic',\n",
       " 'Sarcastic',\n",
       " 'Sarcastic',\n",
       " 'Sarcastic',\n",
       " 'Non-Sarcastic',\n",
       " 'Sarcastic',\n",
       " 'Sarcastic',\n",
       " 'Non-Sarcastic',\n",
       " 'Non-Sarcastic',\n",
       " 'Non-Sarcastic',\n",
       " 'Sarcastic',\n",
       " 'Non-Sarcastic',\n",
       " 'Sarcastic',\n",
       " 'Non-Sarcastic',\n",
       " 'Sarcastic',\n",
       " 'Non-Sarcastic',\n",
       " 'Sarcastic',\n",
       " 'Non-Sarcastic',\n",
       " 'Non-Sarcastic',\n",
       " 'Sarcastic',\n",
       " 'Sarcastic',\n",
       " 'Sarcastic',\n",
       " 'Non-Sarcastic',\n",
       " 'Non-Sarcastic',\n",
       " 'Non-Sarcastic',\n",
       " 'Non-Sarcastic',\n",
       " 'Non-Sarcastic',\n",
       " 'Non-Sarcastic',\n",
       " 'Non-Sarcastic',\n",
       " 'Non-Sarcastic',\n",
       " 'Sarcastic',\n",
       " 'Sarcastic',\n",
       " 'Sarcastic',\n",
       " 'Sarcastic',\n",
       " 'Non-Sarcastic',\n",
       " 'Sarcastic',\n",
       " 'Sarcastic',\n",
       " 'Non-Sarcastic',\n",
       " 'Non-Sarcastic',\n",
       " 'Non-Sarcastic',\n",
       " 'Sarcastic',\n",
       " 'Sarcastic',\n",
       " 'Non-Sarcastic',\n",
       " 'Sarcastic',\n",
       " 'Non-Sarcastic',\n",
       " 'Sarcastic',\n",
       " 'Sarcastic',\n",
       " 'Non-Sarcastic',\n",
       " 'Sarcastic',\n",
       " 'Sarcastic',\n",
       " 'Sarcastic',\n",
       " 'Non-Sarcastic',\n",
       " 'Sarcastic',\n",
       " 'Non-Sarcastic',\n",
       " 'Non-Sarcastic',\n",
       " 'Non-Sarcastic',\n",
       " 'Non-Sarcastic',\n",
       " 'Sarcastic',\n",
       " 'Sarcastic',\n",
       " 'Sarcastic',\n",
       " 'Sarcastic',\n",
       " 'Sarcastic',\n",
       " 'Sarcastic',\n",
       " 'Sarcastic',\n",
       " 'Non-Sarcastic',\n",
       " 'Non-Sarcastic',\n",
       " 'Non-Sarcastic',\n",
       " 'Non-Sarcastic',\n",
       " 'Non-Sarcastic',\n",
       " 'Sarcastic',\n",
       " 'Non-Sarcastic',\n",
       " 'Sarcastic',\n",
       " 'Sarcastic',\n",
       " 'Non-Sarcastic',\n",
       " 'Non-Sarcastic',\n",
       " 'Sarcastic',\n",
       " 'Sarcastic',\n",
       " 'Sarcastic',\n",
       " 'Sarcastic',\n",
       " 'Sarcastic',\n",
       " 'Non-Sarcastic',\n",
       " 'Sarcastic',\n",
       " 'Non-Sarcastic',\n",
       " 'Non-Sarcastic',\n",
       " 'Non-Sarcastic',\n",
       " 'Sarcastic',\n",
       " 'Sarcastic',\n",
       " 'Non-Sarcastic',\n",
       " 'Sarcastic',\n",
       " 'Non-Sarcastic',\n",
       " 'Sarcastic',\n",
       " 'Sarcastic',\n",
       " 'Non-Sarcastic',\n",
       " 'Non-Sarcastic',\n",
       " 'Non-Sarcastic',\n",
       " 'Sarcastic',\n",
       " 'Sarcastic',\n",
       " 'Non-Sarcastic',\n",
       " 'Sarcastic',\n",
       " 'Sarcastic',\n",
       " 'Non-Sarcastic',\n",
       " 'Non-Sarcastic',\n",
       " 'Sarcastic',\n",
       " 'Sarcastic',\n",
       " 'Non-Sarcastic',\n",
       " 'Non-Sarcastic',\n",
       " 'Sarcastic',\n",
       " 'Sarcastic',\n",
       " 'Non-Sarcastic',\n",
       " 'Non-Sarcastic',\n",
       " 'Sarcastic',\n",
       " 'Non-Sarcastic',\n",
       " 'Sarcastic',\n",
       " 'Non-Sarcastic',\n",
       " 'Non-Sarcastic',\n",
       " 'Non-Sarcastic',\n",
       " 'Non-Sarcastic',\n",
       " 'Non-Sarcastic',\n",
       " 'Non-Sarcastic',\n",
       " 'Sarcastic',\n",
       " 'Non-Sarcastic',\n",
       " 'Non-Sarcastic',\n",
       " 'Non-Sarcastic',\n",
       " 'Sarcastic',\n",
       " 'Sarcastic',\n",
       " 'Sarcastic',\n",
       " 'Non-Sarcastic',\n",
       " 'Sarcastic',\n",
       " 'Sarcastic',\n",
       " 'Sarcastic',\n",
       " 'Sarcastic',\n",
       " 'Sarcastic',\n",
       " 'Sarcastic',\n",
       " 'Non-Sarcastic',\n",
       " 'Non-Sarcastic',\n",
       " 'Non-Sarcastic',\n",
       " 'Non-Sarcastic',\n",
       " 'Non-Sarcastic',\n",
       " 'Non-Sarcastic',\n",
       " 'Sarcastic',\n",
       " 'Non-Sarcastic',\n",
       " 'Sarcastic',\n",
       " 'Non-Sarcastic',\n",
       " 'Sarcastic',\n",
       " 'Non-Sarcastic',\n",
       " 'Sarcastic',\n",
       " 'Non-Sarcastic',\n",
       " 'Sarcastic',\n",
       " 'Non-Sarcastic',\n",
       " 'Sarcastic',\n",
       " 'Non-Sarcastic',\n",
       " 'Non-Sarcastic',\n",
       " 'Non-Sarcastic',\n",
       " 'Non-Sarcastic',\n",
       " 'Sarcastic',\n",
       " 'Sarcastic',\n",
       " 'Sarcastic',\n",
       " 'Non-Sarcastic',\n",
       " 'Non-Sarcastic',\n",
       " 'Non-Sarcastic',\n",
       " 'Sarcastic',\n",
       " 'Sarcastic',\n",
       " 'Sarcastic',\n",
       " 'Non-Sarcastic',\n",
       " 'Non-Sarcastic',\n",
       " 'Sarcastic',\n",
       " 'Sarcastic',\n",
       " 'Non-Sarcastic',\n",
       " 'Non-Sarcastic',\n",
       " 'Sarcastic',\n",
       " 'Non-Sarcastic',\n",
       " 'Non-Sarcastic',\n",
       " 'Sarcastic',\n",
       " 'Sarcastic',\n",
       " 'Non-Sarcastic',\n",
       " 'Sarcastic',\n",
       " 'Sarcastic',\n",
       " 'Non-Sarcastic',\n",
       " 'Non-Sarcastic',\n",
       " 'Non-Sarcastic',\n",
       " 'Sarcastic',\n",
       " 'Non-Sarcastic',\n",
       " 'Non-Sarcastic',\n",
       " 'Non-Sarcastic',\n",
       " 'Non-Sarcastic',\n",
       " 'Non-Sarcastic',\n",
       " 'Sarcastic',\n",
       " 'Sarcastic',\n",
       " 'Non-Sarcastic',\n",
       " 'Non-Sarcastic',\n",
       " 'Non-Sarcastic',\n",
       " 'Non-Sarcastic',\n",
       " 'Non-Sarcastic',\n",
       " 'Non-Sarcastic',\n",
       " 'Sarcastic',\n",
       " 'Sarcastic',\n",
       " 'Non-Sarcastic',\n",
       " 'Non-Sarcastic',\n",
       " 'Sarcastic',\n",
       " 'Non-Sarcastic',\n",
       " 'Non-Sarcastic',\n",
       " 'Non-Sarcastic',\n",
       " 'Non-Sarcastic',\n",
       " 'Sarcastic',\n",
       " 'Sarcastic',\n",
       " 'Sarcastic',\n",
       " 'Sarcastic',\n",
       " 'Non-Sarcastic',\n",
       " 'Sarcastic',\n",
       " 'Sarcastic',\n",
       " 'Sarcastic',\n",
       " 'Sarcastic',\n",
       " 'Sarcastic',\n",
       " 'Sarcastic',\n",
       " 'Sarcastic',\n",
       " 'Non-Sarcastic',\n",
       " 'Non-Sarcastic',\n",
       " 'Non-Sarcastic',\n",
       " 'Sarcastic',\n",
       " 'Non-Sarcastic',\n",
       " 'Sarcastic',\n",
       " 'Sarcastic',\n",
       " 'Sarcastic',\n",
       " 'Sarcastic',\n",
       " 'Non-Sarcastic',\n",
       " 'Non-Sarcastic',\n",
       " 'Sarcastic',\n",
       " 'Non-Sarcastic',\n",
       " 'Non-Sarcastic',\n",
       " 'Sarcastic',\n",
       " 'Non-Sarcastic',\n",
       " 'Non-Sarcastic',\n",
       " 'Sarcastic',\n",
       " 'Non-Sarcastic',\n",
       " 'Non-Sarcastic',\n",
       " 'Sarcastic',\n",
       " 'Non-Sarcastic',\n",
       " 'Non-Sarcastic',\n",
       " 'Non-Sarcastic',\n",
       " 'Sarcastic',\n",
       " 'Non-Sarcastic',\n",
       " 'Sarcastic',\n",
       " 'Non-Sarcastic',\n",
       " 'Non-Sarcastic',\n",
       " 'Non-Sarcastic',\n",
       " 'Non-Sarcastic',\n",
       " 'Non-Sarcastic',\n",
       " 'Sarcastic',\n",
       " 'Sarcastic',\n",
       " 'Sarcastic',\n",
       " 'Non-Sarcastic',\n",
       " 'Sarcastic',\n",
       " 'Non-Sarcastic',\n",
       " 'Non-Sarcastic',\n",
       " 'Sarcastic',\n",
       " 'Sarcastic',\n",
       " 'Sarcastic',\n",
       " 'Non-Sarcastic',\n",
       " 'Sarcastic',\n",
       " 'Sarcastic',\n",
       " 'Sarcastic',\n",
       " 'Non-Sarcastic',\n",
       " 'Sarcastic',\n",
       " 'Non-Sarcastic',\n",
       " 'Sarcastic',\n",
       " 'Sarcastic',\n",
       " 'Sarcastic',\n",
       " 'Sarcastic',\n",
       " 'Non-Sarcastic',\n",
       " 'Sarcastic',\n",
       " 'Non-Sarcastic',\n",
       " 'Sarcastic',\n",
       " 'Sarcastic',\n",
       " 'Non-Sarcastic',\n",
       " 'Non-Sarcastic',\n",
       " 'Sarcastic',\n",
       " 'Non-Sarcastic',\n",
       " 'Non-Sarcastic',\n",
       " 'Sarcastic',\n",
       " 'Non-Sarcastic',\n",
       " 'Non-Sarcastic',\n",
       " 'Non-Sarcastic',\n",
       " 'Sarcastic',\n",
       " 'Non-Sarcastic',\n",
       " 'Sarcastic',\n",
       " 'Sarcastic',\n",
       " 'Sarcastic',\n",
       " 'Sarcastic',\n",
       " 'Sarcastic',\n",
       " 'Sarcastic',\n",
       " 'Sarcastic',\n",
       " 'Non-Sarcastic',\n",
       " 'Non-Sarcastic',\n",
       " 'Sarcastic',\n",
       " 'Non-Sarcastic',\n",
       " 'Sarcastic',\n",
       " 'Non-Sarcastic',\n",
       " 'Non-Sarcastic',\n",
       " 'Sarcastic',\n",
       " 'Non-Sarcastic',\n",
       " 'Sarcastic',\n",
       " 'Non-Sarcastic',\n",
       " 'Sarcastic',\n",
       " 'Non-Sarcastic',\n",
       " 'Sarcastic',\n",
       " 'Sarcastic',\n",
       " 'Sarcastic',\n",
       " 'Non-Sarcastic',\n",
       " 'Non-Sarcastic',\n",
       " 'Sarcastic',\n",
       " 'Non-Sarcastic',\n",
       " 'Sarcastic',\n",
       " 'Non-Sarcastic',\n",
       " 'Non-Sarcastic',\n",
       " 'Sarcastic',\n",
       " 'Sarcastic',\n",
       " 'Non-Sarcastic',\n",
       " 'Non-Sarcastic',\n",
       " 'Non-Sarcastic',\n",
       " 'Non-Sarcastic',\n",
       " 'Non-Sarcastic',\n",
       " 'Sarcastic',\n",
       " 'Non-Sarcastic',\n",
       " 'Sarcastic',\n",
       " 'Non-Sarcastic',\n",
       " 'Non-Sarcastic',\n",
       " 'Non-Sarcastic',\n",
       " 'Non-Sarcastic',\n",
       " 'Non-Sarcastic',\n",
       " 'Non-Sarcastic',\n",
       " 'Sarcastic',\n",
       " 'Non-Sarcastic',\n",
       " 'Non-Sarcastic',\n",
       " 'Non-Sarcastic',\n",
       " 'Sarcastic',\n",
       " 'Sarcastic',\n",
       " 'Non-Sarcastic',\n",
       " 'Non-Sarcastic',\n",
       " 'Sarcastic',\n",
       " 'Sarcastic',\n",
       " 'Non-Sarcastic',\n",
       " 'Non-Sarcastic',\n",
       " 'Non-Sarcastic',\n",
       " 'Non-Sarcastic',\n",
       " 'Sarcastic',\n",
       " 'Sarcastic',\n",
       " 'Sarcastic',\n",
       " 'Sarcastic',\n",
       " 'Sarcastic',\n",
       " 'Non-Sarcastic',\n",
       " 'Non-Sarcastic',\n",
       " 'Sarcastic',\n",
       " 'Non-Sarcastic',\n",
       " 'Sarcastic',\n",
       " 'Non-Sarcastic',\n",
       " 'Non-Sarcastic',\n",
       " 'Non-Sarcastic',\n",
       " 'Non-Sarcastic',\n",
       " 'Non-Sarcastic',\n",
       " 'Non-Sarcastic',\n",
       " 'Non-Sarcastic',\n",
       " 'Sarcastic',\n",
       " 'Non-Sarcastic',\n",
       " 'Sarcastic',\n",
       " 'Non-Sarcastic',\n",
       " 'Sarcastic',\n",
       " 'Sarcastic',\n",
       " 'Sarcastic',\n",
       " 'Non-Sarcastic',\n",
       " 'Sarcastic',\n",
       " 'Non-Sarcastic',\n",
       " 'Non-Sarcastic',\n",
       " 'Sarcastic',\n",
       " 'Sarcastic',\n",
       " 'Sarcastic',\n",
       " 'Sarcastic',\n",
       " 'Sarcastic',\n",
       " 'Sarcastic',\n",
       " 'Sarcastic',\n",
       " 'Sarcastic',\n",
       " 'Sarcastic',\n",
       " 'Non-Sarcastic',\n",
       " 'Non-Sarcastic',\n",
       " 'Non-Sarcastic',\n",
       " 'Sarcastic',\n",
       " 'Sarcastic',\n",
       " 'Non-Sarcastic',\n",
       " 'Sarcastic',\n",
       " 'Sarcastic',\n",
       " 'Sarcastic',\n",
       " 'Non-Sarcastic',\n",
       " 'Sarcastic',\n",
       " 'Non-Sarcastic',\n",
       " 'Sarcastic',\n",
       " 'Non-Sarcastic',\n",
       " 'Sarcastic',\n",
       " 'Non-Sarcastic',\n",
       " 'Sarcastic',\n",
       " 'Non-Sarcastic',\n",
       " 'Sarcastic',\n",
       " 'Non-Sarcastic',\n",
       " 'Sarcastic',\n",
       " 'Sarcastic',\n",
       " 'Non-Sarcastic',\n",
       " 'Non-Sarcastic',\n",
       " 'Sarcastic',\n",
       " 'Non-Sarcastic',\n",
       " 'Non-Sarcastic',\n",
       " 'Non-Sarcastic',\n",
       " 'Sarcastic',\n",
       " 'Non-Sarcastic',\n",
       " 'Non-Sarcastic',\n",
       " 'Sarcastic',\n",
       " 'Non-Sarcastic',\n",
       " 'Non-Sarcastic',\n",
       " 'Sarcastic',\n",
       " 'Non-Sarcastic',\n",
       " 'Non-Sarcastic',\n",
       " 'Sarcastic',\n",
       " 'Sarcastic',\n",
       " 'Non-Sarcastic',\n",
       " 'Sarcastic',\n",
       " 'Sarcastic',\n",
       " 'Sarcastic',\n",
       " 'Sarcastic',\n",
       " 'Non-Sarcastic',\n",
       " 'Non-Sarcastic',\n",
       " 'Sarcastic',\n",
       " 'Sarcastic',\n",
       " 'Sarcastic',\n",
       " 'Sarcastic',\n",
       " 'Sarcastic',\n",
       " 'Non-Sarcastic',\n",
       " 'Non-Sarcastic',\n",
       " 'Sarcastic',\n",
       " 'Sarcastic',\n",
       " 'Sarcastic',\n",
       " 'Non-Sarcastic',\n",
       " 'Non-Sarcastic',\n",
       " 'Non-Sarcastic',\n",
       " 'Sarcastic',\n",
       " 'Non-Sarcastic',\n",
       " 'Non-Sarcastic',\n",
       " 'Non-Sarcastic',\n",
       " 'Non-Sarcastic',\n",
       " 'Sarcastic',\n",
       " 'Sarcastic',\n",
       " 'Sarcastic',\n",
       " 'Non-Sarcastic',\n",
       " 'Sarcastic',\n",
       " 'Non-Sarcastic',\n",
       " 'Non-Sarcastic',\n",
       " 'Sarcastic',\n",
       " 'Sarcastic',\n",
       " 'Non-Sarcastic',\n",
       " 'Sarcastic',\n",
       " 'Sarcastic',\n",
       " 'Non-Sarcastic',\n",
       " 'Sarcastic',\n",
       " 'Non-Sarcastic',\n",
       " 'Non-Sarcastic',\n",
       " 'Non-Sarcastic',\n",
       " 'Sarcastic',\n",
       " 'Non-Sarcastic',\n",
       " 'Sarcastic',\n",
       " 'Sarcastic',\n",
       " 'Non-Sarcastic',\n",
       " 'Sarcastic',\n",
       " 'Sarcastic',\n",
       " 'Non-Sarcastic',\n",
       " 'Sarcastic',\n",
       " 'Non-Sarcastic',\n",
       " 'Non-Sarcastic',\n",
       " 'Sarcastic',\n",
       " 'Non-Sarcastic',\n",
       " 'Sarcastic',\n",
       " 'Non-Sarcastic',\n",
       " 'Sarcastic',\n",
       " 'Sarcastic',\n",
       " 'Non-Sarcastic',\n",
       " 'Non-Sarcastic',\n",
       " 'Non-Sarcastic',\n",
       " 'Non-Sarcastic',\n",
       " 'Non-Sarcastic',\n",
       " 'Sarcastic',\n",
       " 'Non-Sarcastic',\n",
       " 'Non-Sarcastic',\n",
       " 'Non-Sarcastic',\n",
       " 'Sarcastic',\n",
       " 'Non-Sarcastic',\n",
       " 'Sarcastic',\n",
       " 'Sarcastic',\n",
       " 'Sarcastic',\n",
       " 'Non-Sarcastic',\n",
       " 'Non-Sarcastic',\n",
       " 'Sarcastic',\n",
       " 'Non-Sarcastic',\n",
       " 'Non-Sarcastic',\n",
       " 'Sarcastic',\n",
       " 'Sarcastic',\n",
       " 'Non-Sarcastic',\n",
       " 'Non-Sarcastic',\n",
       " 'Non-Sarcastic',\n",
       " 'Sarcastic',\n",
       " 'Sarcastic',\n",
       " 'Sarcastic',\n",
       " 'Non-Sarcastic',\n",
       " 'Sarcastic',\n",
       " 'Sarcastic',\n",
       " 'Sarcastic',\n",
       " 'Sarcastic',\n",
       " 'Non-Sarcastic',\n",
       " 'Non-Sarcastic',\n",
       " 'Sarcastic',\n",
       " 'Sarcastic',\n",
       " 'Sarcastic',\n",
       " 'Non-Sarcastic',\n",
       " 'Non-Sarcastic',\n",
       " 'Non-Sarcastic',\n",
       " 'Non-Sarcastic',\n",
       " 'Non-Sarcastic',\n",
       " 'Sarcastic',\n",
       " 'Sarcastic',\n",
       " 'Non-Sarcastic',\n",
       " 'Sarcastic',\n",
       " 'Sarcastic',\n",
       " 'Non-Sarcastic',\n",
       " 'Non-Sarcastic',\n",
       " 'Sarcastic',\n",
       " 'Sarcastic',\n",
       " 'Sarcastic',\n",
       " 'Non-Sarcastic',\n",
       " 'Sarcastic',\n",
       " 'Sarcastic',\n",
       " 'Sarcastic',\n",
       " 'Sarcastic',\n",
       " 'Non-Sarcastic',\n",
       " 'Sarcastic',\n",
       " 'Non-Sarcastic',\n",
       " 'Non-Sarcastic',\n",
       " 'Sarcastic',\n",
       " 'Non-Sarcastic',\n",
       " 'Sarcastic',\n",
       " 'Sarcastic',\n",
       " 'Non-Sarcastic',\n",
       " 'Non-Sarcastic',\n",
       " 'Sarcastic',\n",
       " 'Non-Sarcastic',\n",
       " 'Non-Sarcastic',\n",
       " 'Sarcastic',\n",
       " 'Non-Sarcastic',\n",
       " 'Sarcastic',\n",
       " 'Sarcastic',\n",
       " 'Sarcastic',\n",
       " 'Non-Sarcastic',\n",
       " 'Sarcastic',\n",
       " 'Sarcastic',\n",
       " 'Non-Sarcastic',\n",
       " 'Sarcastic',\n",
       " 'Non-Sarcastic',\n",
       " 'Non-Sarcastic',\n",
       " 'Sarcastic',\n",
       " 'Non-Sarcastic',\n",
       " 'Non-Sarcastic',\n",
       " 'Non-Sarcastic',\n",
       " 'Sarcastic',\n",
       " 'Sarcastic',\n",
       " 'Non-Sarcastic',\n",
       " 'Non-Sarcastic',\n",
       " 'Non-Sarcastic',\n",
       " 'Non-Sarcastic',\n",
       " 'Sarcastic',\n",
       " 'Non-Sarcastic',\n",
       " 'Non-Sarcastic',\n",
       " 'Non-Sarcastic',\n",
       " 'Sarcastic',\n",
       " 'Sarcastic',\n",
       " 'Non-Sarcastic',\n",
       " 'Sarcastic',\n",
       " 'Sarcastic',\n",
       " 'Non-Sarcastic',\n",
       " 'Sarcastic',\n",
       " 'Sarcastic',\n",
       " 'Sarcastic',\n",
       " 'Sarcastic',\n",
       " 'Sarcastic',\n",
       " 'Non-Sarcastic',\n",
       " 'Non-Sarcastic',\n",
       " 'Non-Sarcastic',\n",
       " 'Sarcastic',\n",
       " 'Non-Sarcastic',\n",
       " 'Non-Sarcastic',\n",
       " 'Non-Sarcastic',\n",
       " 'Sarcastic',\n",
       " 'Sarcastic',\n",
       " 'Non-Sarcastic',\n",
       " 'Non-Sarcastic',\n",
       " 'Non-Sarcastic',\n",
       " 'Non-Sarcastic',\n",
       " 'Sarcastic',\n",
       " 'Sarcastic',\n",
       " 'Sarcastic',\n",
       " 'Non-Sarcastic',\n",
       " 'Non-Sarcastic',\n",
       " 'Non-Sarcastic',\n",
       " 'Non-Sarcastic',\n",
       " 'Sarcastic',\n",
       " 'Non-Sarcastic',\n",
       " 'Non-Sarcastic',\n",
       " 'Non-Sarcastic',\n",
       " 'Non-Sarcastic',\n",
       " 'Sarcastic',\n",
       " 'Sarcastic',\n",
       " 'Sarcastic',\n",
       " 'Non-Sarcastic',\n",
       " 'Sarcastic',\n",
       " 'Sarcastic',\n",
       " 'Sarcastic',\n",
       " 'Non-Sarcastic',\n",
       " 'Sarcastic',\n",
       " 'Non-Sarcastic',\n",
       " ...]"
      ]
     },
     "execution_count": 76,
     "metadata": {},
     "output_type": "execute_result"
    }
   ],
   "source": [
    "y_pred"
   ]
  },
  {
   "cell_type": "code",
   "execution_count": null,
   "metadata": {
    "colab": {
     "base_uri": "https://localhost:8080/"
    },
    "id": "4QKyHqk8pVAN",
    "outputId": "b3f3e822-f879-4bce-ab84-1e8b7a8b6af2"
   },
   "outputs": [
    {
     "data": {
      "text/plain": [
       "5525        Sarcastic\n",
       "948         Sarcastic\n",
       "3553    Non-Sarcastic\n",
       "3687        Sarcastic\n",
       "3500    Non-Sarcastic\n",
       "            ...      \n",
       "5996        Sarcastic\n",
       "2715        Sarcastic\n",
       "674     Non-Sarcastic\n",
       "5925    Non-Sarcastic\n",
       "2625        Sarcastic\n",
       "Name: Label, Length: 3026, dtype: object"
      ]
     },
     "execution_count": 81,
     "metadata": {},
     "output_type": "execute_result"
    }
   ],
   "source": [
    "y_test"
   ]
  },
  {
   "cell_type": "code",
   "execution_count": null,
   "metadata": {
    "id": "pcreyxjYpo7s"
   },
   "outputs": [],
   "source": [
    "y_pred = pd.Series(y_pred)"
   ]
  },
  {
   "cell_type": "code",
   "execution_count": null,
   "metadata": {
    "colab": {
     "base_uri": "https://localhost:8080/"
    },
    "id": "unNF6m5eq6Bb",
    "outputId": "ffdbf3de-b576-4bad-d78f-ea0f30eb0df7"
   },
   "outputs": [
    {
     "data": {
      "text/plain": [
       "0           Sarcastic\n",
       "1           Sarcastic\n",
       "2       Non-Sarcastic\n",
       "3           Sarcastic\n",
       "4       Non-Sarcastic\n",
       "            ...      \n",
       "3021        Sarcastic\n",
       "3022        Sarcastic\n",
       "3023    Non-Sarcastic\n",
       "3024    Non-Sarcastic\n",
       "3025        Sarcastic\n",
       "Length: 3026, dtype: object"
      ]
     },
     "execution_count": 80,
     "metadata": {},
     "output_type": "execute_result"
    }
   ],
   "source": [
    "y_pred"
   ]
  },
  {
   "cell_type": "code",
   "execution_count": null,
   "metadata": {
    "id": "ckMAdM5Qq7Qg"
   },
   "outputs": [],
   "source": [
    "from sklearn.preprocessing import LabelEncoder\n",
    "label_encoder = LabelEncoder()\n",
    "y_test = label_encoder.fit_transform(y_test)\n",
    "label_encoder2 = LabelEncoder()\n",
    "y_pred = label_encoder2.fit_transform(y_pred)\n"
   ]
  },
  {
   "cell_type": "code",
   "execution_count": null,
   "metadata": {
    "colab": {
     "base_uri": "https://localhost:8080/"
    },
    "id": "Nxzvgcb4rhKu",
    "outputId": "3ad531d4-d6f0-44d1-ac83-d05d75846e3d"
   },
   "outputs": [
    {
     "name": "stdout",
     "output_type": "stream",
     "text": [
      "              precision    recall  f1-score   support\n",
      "\n",
      "           0       1.00      1.00      1.00      1512\n",
      "           1       1.00      1.00      1.00      1514\n",
      "\n",
      "    accuracy                           1.00      3026\n",
      "   macro avg       1.00      1.00      1.00      3026\n",
      "weighted avg       1.00      1.00      1.00      3026\n",
      "\n"
     ]
    }
   ],
   "source": [
    "print(classification_report(y_test, y_pred))"
   ]
  },
  {
   "cell_type": "code",
   "execution_count": null,
   "metadata": {
    "id": "j7a59Mtfrs7z"
   },
   "outputs": [],
   "source": [
    "from sklearn.metrics import confusion_matrix, ConfusionMatrixDisplay"
   ]
  },
  {
   "cell_type": "code",
   "execution_count": null,
   "metadata": {
    "colab": {
     "base_uri": "https://localhost:8080/",
     "height": 466
    },
    "id": "GE62HCwTr3-L",
    "outputId": "b7f726f1-427a-4f62-a56f-5ef622b2d78b"
   },
   "outputs": [
    {
     "data": {
      "text/plain": [
       "<sklearn.metrics._plot.confusion_matrix.ConfusionMatrixDisplay at 0x7f07d150beb0>"
      ]
     },
     "execution_count": 88,
     "metadata": {},
     "output_type": "execute_result"
    },
    {
     "data": {
      "image/png": "[encoded data removed]",
      "text/plain": [
       "<Figure size 640x480 with 2 Axes>"
      ]
     },
     "metadata": {},
     "output_type": "display_data"
    }
   ],
   "source": [
    "cm = confusion_matrix(y_test, y_pred, labels=[0,1])\n",
    "disp = ConfusionMatrixDisplay(confusion_matrix=cm,\n",
    "                              display_labels=[0,1])\n",
    "disp.plot()\n",
    "\n"
   ]
  }
 ],
 "metadata": {
  "accelerator": "GPU",
  "colab": {
   "gpuType": "T4",
   "provenance": []
  },
  "gpuClass": "standard",
  "kernelspec": {
   "display_name": "Python 3 (ipykernel)",
   "language": "python",
   "name": "python3"
  },
  "language_info": {
   "codemirror_mode": {
    "name": "ipython",
    "version": 3
   },
   "file_extension": ".py",
   "mimetype": "text/x-python",
   "name": "python",
   "nbconvert_exporter": "python",
   "pygments_lexer": "ipython3",
   "version": "3.10.4"
  },
  "widgets": {
   "application/vnd.jupyter.widget-state+json": {
    "00e0dc193eb34944895131b37ca4864f": {
     "model_module": "@jupyter-widgets/controls",
     "model_module_version": "1.5.0",
     "model_name": "ProgressStyleModel",
     "state": {
      "_model_module": "@jupyter-widgets/controls",
      "_model_module_version": "1.5.0",
      "_model_name": "ProgressStyleModel",
      "_view_count": null,
      "_view_module": "@jupyter-widgets/base",
      "_view_module_version": "1.2.0",
      "_view_name": "StyleView",
      "bar_color": null,
      "description_width": ""
     }
    },
    "048f4de8bfe143c5929adf0020440393": {
     "model_module": "@jupyter-widgets/controls",
     "model_module_version": "1.5.0",
     "model_name": "FloatProgressModel",
     "state": {
      "_dom_classes": [],
      "_model_module": "@jupyter-widgets/controls",
      "_model_module_version": "1.5.0",
      "_model_name": "FloatProgressModel",
      "_view_count": null,
      "_view_module": "@jupyter-widgets/controls",
      "_view_module_version": "1.5.0",
      "_view_name": "ProgressView",
      "bar_style": "success",
      "description": "",
      "description_tooltip": null,
      "layout": "IPY_MODEL_d2524c2fd7de4b4b888cccb00215470b",
      "max": 59128236,
      "min": 0,
      "orientation": "horizontal",
      "style": "IPY_MODEL_d1fd8f7db5c341cdbc1abd0014761194",
      "value": 59128236
     }
    },
    "0589def72f544e2eb69e714c4de3dc2f": {
     "model_module": "@jupyter-widgets/base",
     "model_module_version": "1.2.0",
     "model_name": "LayoutModel",
     "state": {
      "_model_module": "@jupyter-widgets/base",
      "_model_module_version": "1.2.0",
      "_model_name": "LayoutModel",
      "_view_count": null,
      "_view_module": "@jupyter-widgets/base",
      "_view_module_version": "1.2.0",
      "_view_name": "LayoutView",
      "align_content": null,
      "align_items": null,
      "align_self": null,
      "border": null,
      "bottom": null,
      "display": null,
      "flex": null,
      "flex_flow": null,
      "grid_area": null,
      "grid_auto_columns": null,
      "grid_auto_flow": null,
      "grid_auto_rows": null,
      "grid_column": null,
      "grid_gap": null,
      "grid_row": null,
      "grid_template_areas": null,
      "grid_template_columns": null,
      "grid_template_rows": null,
      "height": null,
      "justify_content": null,
      "justify_items": null,
      "left": null,
      "margin": null,
      "max_height": null,
      "max_width": null,
      "min_height": null,
      "min_width": null,
      "object_fit": null,
      "object_position": null,
      "order": null,
      "overflow": null,
      "overflow_x": null,
      "overflow_y": null,
      "padding": null,
      "right": null,
      "top": null,
      "visibility": null,
      "width": null
     }
    },
    "0662a7bf86d5499883f45ad1c5d45500": {
     "model_module": "@jupyter-widgets/base",
     "model_module_version": "1.2.0",
     "model_name": "LayoutModel",
     "state": {
      "_model_module": "@jupyter-widgets/base",
      "_model_module_version": "1.2.0",
      "_model_name": "LayoutModel",
      "_view_count": null,
      "_view_module": "@jupyter-widgets/base",
      "_view_module_version": "1.2.0",
      "_view_name": "LayoutView",
      "align_content": null,
      "align_items": null,
      "align_self": null,
      "border": null,
      "bottom": null,
      "display": null,
      "flex": null,
      "flex_flow": null,
      "grid_area": null,
      "grid_auto_columns": null,
      "grid_auto_flow": null,
      "grid_auto_rows": null,
      "grid_column": null,
      "grid_gap": null,
      "grid_row": null,
      "grid_template_areas": null,
      "grid_template_columns": null,
      "grid_template_rows": null,
      "height": null,
      "justify_content": null,
      "justify_items": null,
      "left": null,
      "margin": null,
      "max_height": null,
      "max_width": null,
      "min_height": null,
      "min_width": null,
      "object_fit": null,
      "object_position": null,
      "order": null,
      "overflow": null,
      "overflow_x": null,
      "overflow_y": null,
      "padding": null,
      "right": null,
      "top": null,
      "visibility": null,
      "width": null
     }
    },
    "0a895db0ff154567888ae3418138c198": {
     "model_module": "@jupyter-widgets/controls",
     "model_module_version": "1.5.0",
     "model_name": "HBoxModel",
     "state": {
      "_dom_classes": [],
      "_model_module": "@jupyter-widgets/controls",
      "_model_module_version": "1.5.0",
      "_model_name": "HBoxModel",
      "_view_count": null,
      "_view_module": "@jupyter-widgets/controls",
      "_view_module_version": "1.5.0",
      "_view_name": "HBoxView",
      "box_style": "",
      "children": [
       "IPY_MODEL_b2ec0e7ae2c747d884f4c3ace871e7cd",
       "IPY_MODEL_048f4de8bfe143c5929adf0020440393",
       "IPY_MODEL_b7304f35ce0949b89fbe2e249cfda52c"
      ],
      "layout": "IPY_MODEL_a555d26c618447a18c68d0ccdcd93474"
     }
    },
    "0e3382a142e044a686a6fea13f179b5f": {
     "model_module": "@jupyter-widgets/base",
     "model_module_version": "1.2.0",
     "model_name": "LayoutModel",
     "state": {
      "_model_module": "@jupyter-widgets/base",
      "_model_module_version": "1.2.0",
      "_model_name": "LayoutModel",
      "_view_count": null,
      "_view_module": "@jupyter-widgets/base",
      "_view_module_version": "1.2.0",
      "_view_name": "LayoutView",
      "align_content": null,
      "align_items": null,
      "align_self": null,
      "border": null,
      "bottom": null,
      "display": null,
      "flex": null,
      "flex_flow": null,
      "grid_area": null,
      "grid_auto_columns": null,
      "grid_auto_flow": null,
      "grid_auto_rows": null,
      "grid_column": null,
      "grid_gap": null,
      "grid_row": null,
      "grid_template_areas": null,
      "grid_template_columns": null,
      "grid_template_rows": null,
      "height": null,
      "justify_content": null,
      "justify_items": null,
      "left": null,
      "margin": null,
      "max_height": null,
      "max_width": null,
      "min_height": null,
      "min_width": null,
      "object_fit": null,
      "object_position": null,
      "order": null,
      "overflow": null,
      "overflow_x": null,
      "overflow_y": null,
      "padding": null,
      "right": null,
      "top": null,
      "visibility": null,
      "width": null
     }
    },
    "1b9c8e8d839f4eccbc565414651b9f91": {
     "model_module": "@jupyter-widgets/base",
     "model_module_version": "1.2.0",
     "model_name": "LayoutModel",
     "state": {
      "_model_module": "@jupyter-widgets/base",
      "_model_module_version": "1.2.0",
      "_model_name": "LayoutModel",
      "_view_count": null,
      "_view_module": "@jupyter-widgets/base",
      "_view_module_version": "1.2.0",
      "_view_name": "LayoutView",
      "align_content": null,
      "align_items": null,
      "align_self": null,
      "border": null,
      "bottom": null,
      "display": null,
      "flex": null,
      "flex_flow": null,
      "grid_area": null,
      "grid_auto_columns": null,
      "grid_auto_flow": null,
      "grid_auto_rows": null,
      "grid_column": null,
      "grid_gap": null,
      "grid_row": null,
      "grid_template_areas": null,
      "grid_template_columns": null,
      "grid_template_rows": null,
      "height": null,
      "justify_content": null,
      "justify_items": null,
      "left": null,
      "margin": null,
      "max_height": null,
      "max_width": null,
      "min_height": null,
      "min_width": null,
      "object_fit": null,
      "object_position": null,
      "order": null,
      "overflow": null,
      "overflow_x": null,
      "overflow_y": null,
      "padding": null,
      "right": null,
      "top": null,
      "visibility": null,
      "width": null
     }
    },
    "1f5bd5447f624cf29112c51d96534f89": {
     "model_module": "@jupyter-widgets/controls",
     "model_module_version": "1.5.0",
     "model_name": "HTMLModel",
     "state": {
      "_dom_classes": [],
      "_model_module": "@jupyter-widgets/controls",
      "_model_module_version": "1.5.0",
      "_model_name": "HTMLModel",
      "_view_count": null,
      "_view_module": "@jupyter-widgets/controls",
      "_view_module_version": "1.5.0",
      "_view_name": "HTMLView",
      "description": "",
      "description_tooltip": null,
      "layout": "IPY_MODEL_8786d7e4e9094aa08fdf3cfcdc6dadf6",
      "placeholder": "​",
      "style": "IPY_MODEL_3f8fa14c8ec54e40b12be97089935e32",
      "value": " 181/181 [00:00&lt;00:00, 12.6kB/s]"
     }
    },
    "28279c6bc9c94d14a3ac744f7961f77f": {
     "model_module": "@jupyter-widgets/controls",
     "model_module_version": "1.5.0",
     "model_name": "HTMLModel",
     "state": {
      "_dom_classes": [],
      "_model_module": "@jupyter-widgets/controls",
      "_model_module_version": "1.5.0",
      "_model_name": "HTMLModel",
      "_view_count": null,
      "_view_module": "@jupyter-widgets/controls",
      "_view_module_version": "1.5.0",
      "_view_name": "HTMLView",
      "description": "",
      "description_tooltip": null,
      "layout": "IPY_MODEL_8c2eb2fea0d245bb985a80ca4ab22d6e",
      "placeholder": "​",
      "style": "IPY_MODEL_7031ace5e83e4e419f2744ab26d108ec",
      "value": " 572/572 [00:00&lt;00:00, 24.4kB/s]"
     }
    },
    "2c5baafaedbf45148e3bad0899d81e59": {
     "model_module": "@jupyter-widgets/base",
     "model_module_version": "1.2.0",
     "model_name": "LayoutModel",
     "state": {
      "_model_module": "@jupyter-widgets/base",
      "_model_module_version": "1.2.0",
      "_model_name": "LayoutModel",
      "_view_count": null,
      "_view_module": "@jupyter-widgets/base",
      "_view_module_version": "1.2.0",
      "_view_name": "LayoutView",
      "align_content": null,
      "align_items": null,
      "align_self": null,
      "border": null,
      "bottom": null,
      "display": null,
      "flex": null,
      "flex_flow": null,
      "grid_area": null,
      "grid_auto_columns": null,
      "grid_auto_flow": null,
      "grid_auto_rows": null,
      "grid_column": null,
      "grid_gap": null,
      "grid_row": null,
      "grid_template_areas": null,
      "grid_template_columns": null,
      "grid_template_rows": null,
      "height": null,
      "justify_content": null,
      "justify_items": null,
      "left": null,
      "margin": null,
      "max_height": null,
      "max_width": null,
      "min_height": null,
      "min_width": null,
      "object_fit": null,
      "object_position": null,
      "order": null,
      "overflow": null,
      "overflow_x": null,
      "overflow_y": null,
      "padding": null,
      "right": null,
      "top": null,
      "visibility": null,
      "width": null
     }
    },
    "3073518f5984462db4e50740c8a4c80b": {
     "model_module": "@jupyter-widgets/base",
     "model_module_version": "1.2.0",
     "model_name": "LayoutModel",
     "state": {
      "_model_module": "@jupyter-widgets/base",
      "_model_module_version": "1.2.0",
      "_model_name": "LayoutModel",
      "_view_count": null,
      "_view_module": "@jupyter-widgets/base",
      "_view_module_version": "1.2.0",
      "_view_name": "LayoutView",
      "align_content": null,
      "align_items": null,
      "align_self": null,
      "border": null,
      "bottom": null,
      "display": null,
      "flex": null,
      "flex_flow": null,
      "grid_area": null,
      "grid_auto_columns": null,
      "grid_auto_flow": null,
      "grid_auto_rows": null,
      "grid_column": null,
      "grid_gap": null,
      "grid_row": null,
      "grid_template_areas": null,
      "grid_template_columns": null,
      "grid_template_rows": null,
      "height": null,
      "justify_content": null,
      "justify_items": null,
      "left": null,
      "margin": null,
      "max_height": null,
      "max_width": null,
      "min_height": null,
      "min_width": null,
      "object_fit": null,
      "object_position": null,
      "order": null,
      "overflow": null,
      "overflow_x": null,
      "overflow_y": null,
      "padding": null,
      "right": null,
      "top": null,
      "visibility": null,
      "width": null
     }
    },
    "39dda062c1af41da8480db6044c7adec": {
     "model_module": "@jupyter-widgets/base",
     "model_module_version": "1.2.0",
     "model_name": "LayoutModel",
     "state": {
      "_model_module": "@jupyter-widgets/base",
      "_model_module_version": "1.2.0",
      "_model_name": "LayoutModel",
      "_view_count": null,
      "_view_module": "@jupyter-widgets/base",
      "_view_module_version": "1.2.0",
      "_view_name": "LayoutView",
      "align_content": null,
      "align_items": null,
      "align_self": null,
      "border": null,
      "bottom": null,
      "display": null,
      "flex": null,
      "flex_flow": null,
      "grid_area": null,
      "grid_auto_columns": null,
      "grid_auto_flow": null,
      "grid_auto_rows": null,
      "grid_column": null,
      "grid_gap": null,
      "grid_row": null,
      "grid_template_areas": null,
      "grid_template_columns": null,
      "grid_template_rows": null,
      "height": null,
      "justify_content": null,
      "justify_items": null,
      "left": null,
      "margin": null,
      "max_height": null,
      "max_width": null,
      "min_height": null,
      "min_width": null,
      "object_fit": null,
      "object_position": null,
      "order": null,
      "overflow": null,
      "overflow_x": null,
      "overflow_y": null,
      "padding": null,
      "right": null,
      "top": null,
      "visibility": null,
      "width": null
     }
    },
    "3f8fa14c8ec54e40b12be97089935e32": {
     "model_module": "@jupyter-widgets/controls",
     "model_module_version": "1.5.0",
     "model_name": "DescriptionStyleModel",
     "state": {
      "_model_module": "@jupyter-widgets/controls",
      "_model_module_version": "1.5.0",
      "_model_name": "DescriptionStyleModel",
      "_view_count": null,
      "_view_module": "@jupyter-widgets/base",
      "_view_module_version": "1.2.0",
      "_view_name": "StyleView",
      "description_width": ""
     }
    },
    "423e1dca19274226b6adebc5808f3390": {
     "model_module": "@jupyter-widgets/controls",
     "model_module_version": "1.5.0",
     "model_name": "HTMLModel",
     "state": {
      "_dom_classes": [],
      "_model_module": "@jupyter-widgets/controls",
      "_model_module_version": "1.5.0",
      "_model_name": "HTMLModel",
      "_view_count": null,
      "_view_module": "@jupyter-widgets/controls",
      "_view_module_version": "1.5.0",
      "_view_name": "HTMLView",
      "description": "",
      "description_tooltip": null,
      "layout": "IPY_MODEL_c586e9a58dd345479c94e379f37121df",
      "placeholder": "​",
      "style": "IPY_MODEL_e67c517336144c8faa3f073056b821b7",
      "value": " 112/112 [00:00&lt;00:00, 6.58kB/s]"
     }
    },
    "4800ef53050e4b3ca608ee4dbcd9a655": {
     "model_module": "@jupyter-widgets/controls",
     "model_module_version": "1.5.0",
     "model_name": "HBoxModel",
     "state": {
      "_dom_classes": [],
      "_model_module": "@jupyter-widgets/controls",
      "_model_module_version": "1.5.0",
      "_model_name": "HBoxModel",
      "_view_count": null,
      "_view_module": "@jupyter-widgets/controls",
      "_view_module_version": "1.5.0",
      "_view_name": "HBoxView",
      "box_style": "",
      "children": [
       "IPY_MODEL_4f7c0060763a4263b115b4b48c52152e",
       "IPY_MODEL_aa00ab8e54ca4fbb87142f9d58a496ca",
       "IPY_MODEL_edbdd4e3531b4421bbdb290a637dc42e"
      ],
      "layout": "IPY_MODEL_0662a7bf86d5499883f45ad1c5d45500"
     }
    },
    "4a8992e5bb3c4bc78e35e4e9a8f5e699": {
     "model_module": "@jupyter-widgets/base",
     "model_module_version": "1.2.0",
     "model_name": "LayoutModel",
     "state": {
      "_model_module": "@jupyter-widgets/base",
      "_model_module_version": "1.2.0",
      "_model_name": "LayoutModel",
      "_view_count": null,
      "_view_module": "@jupyter-widgets/base",
      "_view_module_version": "1.2.0",
      "_view_name": "LayoutView",
      "align_content": null,
      "align_items": null,
      "align_self": null,
      "border": null,
      "bottom": null,
      "display": null,
      "flex": null,
      "flex_flow": null,
      "grid_area": null,
      "grid_auto_columns": null,
      "grid_auto_flow": null,
      "grid_auto_rows": null,
      "grid_column": null,
      "grid_gap": null,
      "grid_row": null,
      "grid_template_areas": null,
      "grid_template_columns": null,
      "grid_template_rows": null,
      "height": null,
      "justify_content": null,
      "justify_items": null,
      "left": null,
      "margin": null,
      "max_height": null,
      "max_width": null,
      "min_height": null,
      "min_width": null,
      "object_fit": null,
      "object_position": null,
      "order": null,
      "overflow": null,
      "overflow_x": null,
      "overflow_y": null,
      "padding": null,
      "right": null,
      "top": null,
      "visibility": null,
      "width": null
     }
    },
    "4bd8d9c8fff8474eb1a47eddf380d373": {
     "model_module": "@jupyter-widgets/controls",
     "model_module_version": "1.5.0",
     "model_name": "HTMLModel",
     "state": {
      "_dom_classes": [],
      "_model_module": "@jupyter-widgets/controls",
      "_model_module_version": "1.5.0",
      "_model_name": "HTMLModel",
      "_view_count": null,
      "_view_module": "@jupyter-widgets/controls",
      "_view_module_version": "1.5.0",
      "_view_name": "HTMLView",
      "description": "",
      "description_tooltip": null,
      "layout": "IPY_MODEL_0e3382a142e044a686a6fea13f179b5f",
      "placeholder": "​",
      "style": "IPY_MODEL_eb8b8be6e3ce4228a2ef1634021c306b",
      "value": "Downloading (…)cial_tokens_map.json: 100%"
     }
    },
    "4f7c0060763a4263b115b4b48c52152e": {
     "model_module": "@jupyter-widgets/controls",
     "model_module_version": "1.5.0",
     "model_name": "HTMLModel",
     "state": {
      "_dom_classes": [],
      "_model_module": "@jupyter-widgets/controls",
      "_model_module_version": "1.5.0",
      "_model_name": "HTMLModel",
      "_view_count": null,
      "_view_module": "@jupyter-widgets/controls",
      "_view_module_version": "1.5.0",
      "_view_name": "HTMLView",
      "description": "",
      "description_tooltip": null,
      "layout": "IPY_MODEL_880e1acc4b2c4e248b4667020025e750",
      "placeholder": "​",
      "style": "IPY_MODEL_7ba374bc90e74a6b94e9879188679d42",
      "value": "Downloading (…)solve/main/vocab.txt: 100%"
     }
    },
    "6557f308b04b428c82f79da1beb74502": {
     "model_module": "@jupyter-widgets/controls",
     "model_module_version": "1.5.0",
     "model_name": "FloatProgressModel",
     "state": {
      "_dom_classes": [],
      "_model_module": "@jupyter-widgets/controls",
      "_model_module_version": "1.5.0",
      "_model_name": "FloatProgressModel",
      "_view_count": null,
      "_view_module": "@jupyter-widgets/controls",
      "_view_module_version": "1.5.0",
      "_view_name": "ProgressView",
      "bar_style": "success",
      "description": "",
      "description_tooltip": null,
      "layout": "IPY_MODEL_3073518f5984462db4e50740c8a4c80b",
      "max": 572,
      "min": 0,
      "orientation": "horizontal",
      "style": "IPY_MODEL_e88e19eae2684fc89e2a152777677fd9",
      "value": 572
     }
    },
    "6c171fea35944ed7aa165295a46c5d13": {
     "model_module": "@jupyter-widgets/controls",
     "model_module_version": "1.5.0",
     "model_name": "HTMLModel",
     "state": {
      "_dom_classes": [],
      "_model_module": "@jupyter-widgets/controls",
      "_model_module_version": "1.5.0",
      "_model_name": "HTMLModel",
      "_view_count": null,
      "_view_module": "@jupyter-widgets/controls",
      "_view_module_version": "1.5.0",
      "_view_name": "HTMLView",
      "description": "",
      "description_tooltip": null,
      "layout": "IPY_MODEL_a2c380cf38314d4aa4d474a38682d145",
      "placeholder": "​",
      "style": "IPY_MODEL_9dff313bef854917b43c642ddd0c7c48",
      "value": "Downloading (…)okenizer_config.json: 100%"
     }
    },
    "6ee0fd2930ab44cf87bd5d580ed2fc8c": {
     "model_module": "@jupyter-widgets/base",
     "model_module_version": "1.2.0",
     "model_name": "LayoutModel",
     "state": {
      "_model_module": "@jupyter-widgets/base",
      "_model_module_version": "1.2.0",
      "_model_name": "LayoutModel",
      "_view_count": null,
      "_view_module": "@jupyter-widgets/base",
      "_view_module_version": "1.2.0",
      "_view_name": "LayoutView",
      "align_content": null,
      "align_items": null,
      "align_self": null,
      "border": null,
      "bottom": null,
      "display": null,
      "flex": null,
      "flex_flow": null,
      "grid_area": null,
      "grid_auto_columns": null,
      "grid_auto_flow": null,
      "grid_auto_rows": null,
      "grid_column": null,
      "grid_gap": null,
      "grid_row": null,
      "grid_template_areas": null,
      "grid_template_columns": null,
      "grid_template_rows": null,
      "height": null,
      "justify_content": null,
      "justify_items": null,
      "left": null,
      "margin": null,
      "max_height": null,
      "max_width": null,
      "min_height": null,
      "min_width": null,
      "object_fit": null,
      "object_position": null,
      "order": null,
      "overflow": null,
      "overflow_x": null,
      "overflow_y": null,
      "padding": null,
      "right": null,
      "top": null,
      "visibility": null,
      "width": null
     }
    },
    "7031ace5e83e4e419f2744ab26d108ec": {
     "model_module": "@jupyter-widgets/controls",
     "model_module_version": "1.5.0",
     "model_name": "DescriptionStyleModel",
     "state": {
      "_model_module": "@jupyter-widgets/controls",
      "_model_module_version": "1.5.0",
      "_model_name": "DescriptionStyleModel",
      "_view_count": null,
      "_view_module": "@jupyter-widgets/base",
      "_view_module_version": "1.2.0",
      "_view_name": "StyleView",
      "description_width": ""
     }
    },
    "7332f1c612a044fb969c1033aeced30c": {
     "model_module": "@jupyter-widgets/controls",
     "model_module_version": "1.5.0",
     "model_name": "HBoxModel",
     "state": {
      "_dom_classes": [],
      "_model_module": "@jupyter-widgets/controls",
      "_model_module_version": "1.5.0",
      "_model_name": "HBoxModel",
      "_view_count": null,
      "_view_module": "@jupyter-widgets/controls",
      "_view_module_version": "1.5.0",
      "_view_name": "HBoxView",
      "box_style": "",
      "children": [
       "IPY_MODEL_4bd8d9c8fff8474eb1a47eddf380d373",
       "IPY_MODEL_99e65ec22772481da4c1468ef574a6af",
       "IPY_MODEL_423e1dca19274226b6adebc5808f3390"
      ],
      "layout": "IPY_MODEL_2c5baafaedbf45148e3bad0899d81e59"
     }
    },
    "7ba374bc90e74a6b94e9879188679d42": {
     "model_module": "@jupyter-widgets/controls",
     "model_module_version": "1.5.0",
     "model_name": "DescriptionStyleModel",
     "state": {
      "_model_module": "@jupyter-widgets/controls",
      "_model_module_version": "1.5.0",
      "_model_name": "DescriptionStyleModel",
      "_view_count": null,
      "_view_module": "@jupyter-widgets/base",
      "_view_module_version": "1.2.0",
      "_view_name": "StyleView",
      "description_width": ""
     }
    },
    "8786d7e4e9094aa08fdf3cfcdc6dadf6": {
     "model_module": "@jupyter-widgets/base",
     "model_module_version": "1.2.0",
     "model_name": "LayoutModel",
     "state": {
      "_model_module": "@jupyter-widgets/base",
      "_model_module_version": "1.2.0",
      "_model_name": "LayoutModel",
      "_view_count": null,
      "_view_module": "@jupyter-widgets/base",
      "_view_module_version": "1.2.0",
      "_view_name": "LayoutView",
      "align_content": null,
      "align_items": null,
      "align_self": null,
      "border": null,
      "bottom": null,
      "display": null,
      "flex": null,
      "flex_flow": null,
      "grid_area": null,
      "grid_auto_columns": null,
      "grid_auto_flow": null,
      "grid_auto_rows": null,
      "grid_column": null,
      "grid_gap": null,
      "grid_row": null,
      "grid_template_areas": null,
      "grid_template_columns": null,
      "grid_template_rows": null,
      "height": null,
      "justify_content": null,
      "justify_items": null,
      "left": null,
      "margin": null,
      "max_height": null,
      "max_width": null,
      "min_height": null,
      "min_width": null,
      "object_fit": null,
      "object_position": null,
      "order": null,
      "overflow": null,
      "overflow_x": null,
      "overflow_y": null,
      "padding": null,
      "right": null,
      "top": null,
      "visibility": null,
      "width": null
     }
    },
    "880e1acc4b2c4e248b4667020025e750": {
     "model_module": "@jupyter-widgets/base",
     "model_module_version": "1.2.0",
     "model_name": "LayoutModel",
     "state": {
      "_model_module": "@jupyter-widgets/base",
      "_model_module_version": "1.2.0",
      "_model_name": "LayoutModel",
      "_view_count": null,
      "_view_module": "@jupyter-widgets/base",
      "_view_module_version": "1.2.0",
      "_view_name": "LayoutView",
      "align_content": null,
      "align_items": null,
      "align_self": null,
      "border": null,
      "bottom": null,
      "display": null,
      "flex": null,
      "flex_flow": null,
      "grid_area": null,
      "grid_auto_columns": null,
      "grid_auto_flow": null,
      "grid_auto_rows": null,
      "grid_column": null,
      "grid_gap": null,
      "grid_row": null,
      "grid_template_areas": null,
      "grid_template_columns": null,
      "grid_template_rows": null,
      "height": null,
      "justify_content": null,
      "justify_items": null,
      "left": null,
      "margin": null,
      "max_height": null,
      "max_width": null,
      "min_height": null,
      "min_width": null,
      "object_fit": null,
      "object_position": null,
      "order": null,
      "overflow": null,
      "overflow_x": null,
      "overflow_y": null,
      "padding": null,
      "right": null,
      "top": null,
      "visibility": null,
      "width": null
     }
    },
    "8c2eb2fea0d245bb985a80ca4ab22d6e": {
     "model_module": "@jupyter-widgets/base",
     "model_module_version": "1.2.0",
     "model_name": "LayoutModel",
     "state": {
      "_model_module": "@jupyter-widgets/base",
      "_model_module_version": "1.2.0",
      "_model_name": "LayoutModel",
      "_view_count": null,
      "_view_module": "@jupyter-widgets/base",
      "_view_module_version": "1.2.0",
      "_view_name": "LayoutView",
      "align_content": null,
      "align_items": null,
      "align_self": null,
      "border": null,
      "bottom": null,
      "display": null,
      "flex": null,
      "flex_flow": null,
      "grid_area": null,
      "grid_auto_columns": null,
      "grid_auto_flow": null,
      "grid_auto_rows": null,
      "grid_column": null,
      "grid_gap": null,
      "grid_row": null,
      "grid_template_areas": null,
      "grid_template_columns": null,
      "grid_template_rows": null,
      "height": null,
      "justify_content": null,
      "justify_items": null,
      "left": null,
      "margin": null,
      "max_height": null,
      "max_width": null,
      "min_height": null,
      "min_width": null,
      "object_fit": null,
      "object_position": null,
      "order": null,
      "overflow": null,
      "overflow_x": null,
      "overflow_y": null,
      "padding": null,
      "right": null,
      "top": null,
      "visibility": null,
      "width": null
     }
    },
    "914de2879a0946e7b0ed42522032b0c9": {
     "model_module": "@jupyter-widgets/controls",
     "model_module_version": "1.5.0",
     "model_name": "FloatProgressModel",
     "state": {
      "_dom_classes": [],
      "_model_module": "@jupyter-widgets/controls",
      "_model_module_version": "1.5.0",
      "_model_name": "FloatProgressModel",
      "_view_count": null,
      "_view_module": "@jupyter-widgets/controls",
      "_view_module_version": "1.5.0",
      "_view_name": "ProgressView",
      "bar_style": "success",
      "description": "",
      "description_tooltip": null,
      "layout": "IPY_MODEL_92531bef55474317a405646f673d62c1",
      "max": 181,
      "min": 0,
      "orientation": "horizontal",
      "style": "IPY_MODEL_00e0dc193eb34944895131b37ca4864f",
      "value": 181
     }
    },
    "91e3d049c3cf4362a3d83d22b4f88c06": {
     "model_module": "@jupyter-widgets/controls",
     "model_module_version": "1.5.0",
     "model_name": "HBoxModel",
     "state": {
      "_dom_classes": [],
      "_model_module": "@jupyter-widgets/controls",
      "_model_module_version": "1.5.0",
      "_model_name": "HBoxModel",
      "_view_count": null,
      "_view_module": "@jupyter-widgets/controls",
      "_view_module_version": "1.5.0",
      "_view_name": "HBoxView",
      "box_style": "",
      "children": [
       "IPY_MODEL_efc674c6c14a4b41a7ea0da82e19080f",
       "IPY_MODEL_6557f308b04b428c82f79da1beb74502",
       "IPY_MODEL_28279c6bc9c94d14a3ac744f7961f77f"
      ],
      "layout": "IPY_MODEL_c0104c532d4348849fd7a50afd47ba09"
     }
    },
    "92531bef55474317a405646f673d62c1": {
     "model_module": "@jupyter-widgets/base",
     "model_module_version": "1.2.0",
     "model_name": "LayoutModel",
     "state": {
      "_model_module": "@jupyter-widgets/base",
      "_model_module_version": "1.2.0",
      "_model_name": "LayoutModel",
      "_view_count": null,
      "_view_module": "@jupyter-widgets/base",
      "_view_module_version": "1.2.0",
      "_view_name": "LayoutView",
      "align_content": null,
      "align_items": null,
      "align_self": null,
      "border": null,
      "bottom": null,
      "display": null,
      "flex": null,
      "flex_flow": null,
      "grid_area": null,
      "grid_auto_columns": null,
      "grid_auto_flow": null,
      "grid_auto_rows": null,
      "grid_column": null,
      "grid_gap": null,
      "grid_row": null,
      "grid_template_areas": null,
      "grid_template_columns": null,
      "grid_template_rows": null,
      "height": null,
      "justify_content": null,
      "justify_items": null,
      "left": null,
      "margin": null,
      "max_height": null,
      "max_width": null,
      "min_height": null,
      "min_width": null,
      "object_fit": null,
      "object_position": null,
      "order": null,
      "overflow": null,
      "overflow_x": null,
      "overflow_y": null,
      "padding": null,
      "right": null,
      "top": null,
      "visibility": null,
      "width": null
     }
    },
    "93bb0a07444d46f59810afd1acd51fea": {
     "model_module": "@jupyter-widgets/controls",
     "model_module_version": "1.5.0",
     "model_name": "DescriptionStyleModel",
     "state": {
      "_model_module": "@jupyter-widgets/controls",
      "_model_module_version": "1.5.0",
      "_model_name": "DescriptionStyleModel",
      "_view_count": null,
      "_view_module": "@jupyter-widgets/base",
      "_view_module_version": "1.2.0",
      "_view_name": "StyleView",
      "description_width": ""
     }
    },
    "99e65ec22772481da4c1468ef574a6af": {
     "model_module": "@jupyter-widgets/controls",
     "model_module_version": "1.5.0",
     "model_name": "FloatProgressModel",
     "state": {
      "_dom_classes": [],
      "_model_module": "@jupyter-widgets/controls",
      "_model_module_version": "1.5.0",
      "_model_name": "FloatProgressModel",
      "_view_count": null,
      "_view_module": "@jupyter-widgets/controls",
      "_view_module_version": "1.5.0",
      "_view_name": "ProgressView",
      "bar_style": "success",
      "description": "",
      "description_tooltip": null,
      "layout": "IPY_MODEL_1b9c8e8d839f4eccbc565414651b9f91",
      "max": 112,
      "min": 0,
      "orientation": "horizontal",
      "style": "IPY_MODEL_e6981020480b42f089c699aebdb956c1",
      "value": 112
     }
    },
    "9dff313bef854917b43c642ddd0c7c48": {
     "model_module": "@jupyter-widgets/controls",
     "model_module_version": "1.5.0",
     "model_name": "DescriptionStyleModel",
     "state": {
      "_model_module": "@jupyter-widgets/controls",
      "_model_module_version": "1.5.0",
      "_model_name": "DescriptionStyleModel",
      "_view_count": null,
      "_view_module": "@jupyter-widgets/base",
      "_view_module_version": "1.2.0",
      "_view_name": "StyleView",
      "description_width": ""
     }
    },
    "a2c380cf38314d4aa4d474a38682d145": {
     "model_module": "@jupyter-widgets/base",
     "model_module_version": "1.2.0",
     "model_name": "LayoutModel",
     "state": {
      "_model_module": "@jupyter-widgets/base",
      "_model_module_version": "1.2.0",
      "_model_name": "LayoutModel",
      "_view_count": null,
      "_view_module": "@jupyter-widgets/base",
      "_view_module_version": "1.2.0",
      "_view_name": "LayoutView",
      "align_content": null,
      "align_items": null,
      "align_self": null,
      "border": null,
      "bottom": null,
      "display": null,
      "flex": null,
      "flex_flow": null,
      "grid_area": null,
      "grid_auto_columns": null,
      "grid_auto_flow": null,
      "grid_auto_rows": null,
      "grid_column": null,
      "grid_gap": null,
      "grid_row": null,
      "grid_template_areas": null,
      "grid_template_columns": null,
      "grid_template_rows": null,
      "height": null,
      "justify_content": null,
      "justify_items": null,
      "left": null,
      "margin": null,
      "max_height": null,
      "max_width": null,
      "min_height": null,
      "min_width": null,
      "object_fit": null,
      "object_position": null,
      "order": null,
      "overflow": null,
      "overflow_x": null,
      "overflow_y": null,
      "padding": null,
      "right": null,
      "top": null,
      "visibility": null,
      "width": null
     }
    },
    "a555d26c618447a18c68d0ccdcd93474": {
     "model_module": "@jupyter-widgets/base",
     "model_module_version": "1.2.0",
     "model_name": "LayoutModel",
     "state": {
      "_model_module": "@jupyter-widgets/base",
      "_model_module_version": "1.2.0",
      "_model_name": "LayoutModel",
      "_view_count": null,
      "_view_module": "@jupyter-widgets/base",
      "_view_module_version": "1.2.0",
      "_view_name": "LayoutView",
      "align_content": null,
      "align_items": null,
      "align_self": null,
      "border": null,
      "bottom": null,
      "display": null,
      "flex": null,
      "flex_flow": null,
      "grid_area": null,
      "grid_auto_columns": null,
      "grid_auto_flow": null,
      "grid_auto_rows": null,
      "grid_column": null,
      "grid_gap": null,
      "grid_row": null,
      "grid_template_areas": null,
      "grid_template_columns": null,
      "grid_template_rows": null,
      "height": null,
      "justify_content": null,
      "justify_items": null,
      "left": null,
      "margin": null,
      "max_height": null,
      "max_width": null,
      "min_height": null,
      "min_width": null,
      "object_fit": null,
      "object_position": null,
      "order": null,
      "overflow": null,
      "overflow_x": null,
      "overflow_y": null,
      "padding": null,
      "right": null,
      "top": null,
      "visibility": null,
      "width": null
     }
    },
    "aa00ab8e54ca4fbb87142f9d58a496ca": {
     "model_module": "@jupyter-widgets/controls",
     "model_module_version": "1.5.0",
     "model_name": "FloatProgressModel",
     "state": {
      "_dom_classes": [],
      "_model_module": "@jupyter-widgets/controls",
      "_model_module_version": "1.5.0",
      "_model_name": "FloatProgressModel",
      "_view_count": null,
      "_view_module": "@jupyter-widgets/controls",
      "_view_module_version": "1.5.0",
      "_view_name": "ProgressView",
      "bar_style": "success",
      "description": "",
      "description_tooltip": null,
      "layout": "IPY_MODEL_4a8992e5bb3c4bc78e35e4e9a8f5e699",
      "max": 606915,
      "min": 0,
      "orientation": "horizontal",
      "style": "IPY_MODEL_e1a453582b27423e82f476b101eaffcc",
      "value": 606915
     }
    },
    "b2ec0e7ae2c747d884f4c3ace871e7cd": {
     "model_module": "@jupyter-widgets/controls",
     "model_module_version": "1.5.0",
     "model_name": "HTMLModel",
     "state": {
      "_dom_classes": [],
      "_model_module": "@jupyter-widgets/controls",
      "_model_module_version": "1.5.0",
      "_model_name": "HTMLModel",
      "_view_count": null,
      "_view_module": "@jupyter-widgets/controls",
      "_view_module_version": "1.5.0",
      "_view_name": "HTMLView",
      "description": "",
      "description_tooltip": null,
      "layout": "IPY_MODEL_d3464f386dde4be28e65d92fd9cc1d37",
      "placeholder": "​",
      "style": "IPY_MODEL_bee2507b29b44e8d9301f9fe564c1650",
      "value": "Downloading tf_model.h5: 100%"
     }
    },
    "b53bccc3199e42db844d13f20725bd6e": {
     "model_module": "@jupyter-widgets/base",
     "model_module_version": "1.2.0",
     "model_name": "LayoutModel",
     "state": {
      "_model_module": "@jupyter-widgets/base",
      "_model_module_version": "1.2.0",
      "_model_name": "LayoutModel",
      "_view_count": null,
      "_view_module": "@jupyter-widgets/base",
      "_view_module_version": "1.2.0",
      "_view_name": "LayoutView",
      "align_content": null,
      "align_items": null,
      "align_self": null,
      "border": null,
      "bottom": null,
      "display": null,
      "flex": null,
      "flex_flow": null,
      "grid_area": null,
      "grid_auto_columns": null,
      "grid_auto_flow": null,
      "grid_auto_rows": null,
      "grid_column": null,
      "grid_gap": null,
      "grid_row": null,
      "grid_template_areas": null,
      "grid_template_columns": null,
      "grid_template_rows": null,
      "height": null,
      "justify_content": null,
      "justify_items": null,
      "left": null,
      "margin": null,
      "max_height": null,
      "max_width": null,
      "min_height": null,
      "min_width": null,
      "object_fit": null,
      "object_position": null,
      "order": null,
      "overflow": null,
      "overflow_x": null,
      "overflow_y": null,
      "padding": null,
      "right": null,
      "top": null,
      "visibility": null,
      "width": null
     }
    },
    "b6e10005b4a641358e6218af8589211a": {
     "model_module": "@jupyter-widgets/controls",
     "model_module_version": "1.5.0",
     "model_name": "HBoxModel",
     "state": {
      "_dom_classes": [],
      "_model_module": "@jupyter-widgets/controls",
      "_model_module_version": "1.5.0",
      "_model_name": "HBoxModel",
      "_view_count": null,
      "_view_module": "@jupyter-widgets/controls",
      "_view_module_version": "1.5.0",
      "_view_name": "HBoxView",
      "box_style": "",
      "children": [
       "IPY_MODEL_6c171fea35944ed7aa165295a46c5d13",
       "IPY_MODEL_914de2879a0946e7b0ed42522032b0c9",
       "IPY_MODEL_1f5bd5447f624cf29112c51d96534f89"
      ],
      "layout": "IPY_MODEL_0589def72f544e2eb69e714c4de3dc2f"
     }
    },
    "b7304f35ce0949b89fbe2e249cfda52c": {
     "model_module": "@jupyter-widgets/controls",
     "model_module_version": "1.5.0",
     "model_name": "HTMLModel",
     "state": {
      "_dom_classes": [],
      "_model_module": "@jupyter-widgets/controls",
      "_model_module_version": "1.5.0",
      "_model_name": "HTMLModel",
      "_view_count": null,
      "_view_module": "@jupyter-widgets/controls",
      "_view_module_version": "1.5.0",
      "_view_name": "HTMLView",
      "description": "",
      "description_tooltip": null,
      "layout": "IPY_MODEL_b53bccc3199e42db844d13f20725bd6e",
      "placeholder": "​",
      "style": "IPY_MODEL_e117fb520fce4bb095f1be96b1eef1da",
      "value": " 59.1M/59.1M [00:26&lt;00:00, 3.63MB/s]"
     }
    },
    "bee2507b29b44e8d9301f9fe564c1650": {
     "model_module": "@jupyter-widgets/controls",
     "model_module_version": "1.5.0",
     "model_name": "DescriptionStyleModel",
     "state": {
      "_model_module": "@jupyter-widgets/controls",
      "_model_module_version": "1.5.0",
      "_model_name": "DescriptionStyleModel",
      "_view_count": null,
      "_view_module": "@jupyter-widgets/base",
      "_view_module_version": "1.2.0",
      "_view_name": "StyleView",
      "description_width": ""
     }
    },
    "c0104c532d4348849fd7a50afd47ba09": {
     "model_module": "@jupyter-widgets/base",
     "model_module_version": "1.2.0",
     "model_name": "LayoutModel",
     "state": {
      "_model_module": "@jupyter-widgets/base",
      "_model_module_version": "1.2.0",
      "_model_name": "LayoutModel",
      "_view_count": null,
      "_view_module": "@jupyter-widgets/base",
      "_view_module_version": "1.2.0",
      "_view_name": "LayoutView",
      "align_content": null,
      "align_items": null,
      "align_self": null,
      "border": null,
      "bottom": null,
      "display": null,
      "flex": null,
      "flex_flow": null,
      "grid_area": null,
      "grid_auto_columns": null,
      "grid_auto_flow": null,
      "grid_auto_rows": null,
      "grid_column": null,
      "grid_gap": null,
      "grid_row": null,
      "grid_template_areas": null,
      "grid_template_columns": null,
      "grid_template_rows": null,
      "height": null,
      "justify_content": null,
      "justify_items": null,
      "left": null,
      "margin": null,
      "max_height": null,
      "max_width": null,
      "min_height": null,
      "min_width": null,
      "object_fit": null,
      "object_position": null,
      "order": null,
      "overflow": null,
      "overflow_x": null,
      "overflow_y": null,
      "padding": null,
      "right": null,
      "top": null,
      "visibility": null,
      "width": null
     }
    },
    "c586e9a58dd345479c94e379f37121df": {
     "model_module": "@jupyter-widgets/base",
     "model_module_version": "1.2.0",
     "model_name": "LayoutModel",
     "state": {
      "_model_module": "@jupyter-widgets/base",
      "_model_module_version": "1.2.0",
      "_model_name": "LayoutModel",
      "_view_count": null,
      "_view_module": "@jupyter-widgets/base",
      "_view_module_version": "1.2.0",
      "_view_name": "LayoutView",
      "align_content": null,
      "align_items": null,
      "align_self": null,
      "border": null,
      "bottom": null,
      "display": null,
      "flex": null,
      "flex_flow": null,
      "grid_area": null,
      "grid_auto_columns": null,
      "grid_auto_flow": null,
      "grid_auto_rows": null,
      "grid_column": null,
      "grid_gap": null,
      "grid_row": null,
      "grid_template_areas": null,
      "grid_template_columns": null,
      "grid_template_rows": null,
      "height": null,
      "justify_content": null,
      "justify_items": null,
      "left": null,
      "margin": null,
      "max_height": null,
      "max_width": null,
      "min_height": null,
      "min_width": null,
      "object_fit": null,
      "object_position": null,
      "order": null,
      "overflow": null,
      "overflow_x": null,
      "overflow_y": null,
      "padding": null,
      "right": null,
      "top": null,
      "visibility": null,
      "width": null
     }
    },
    "d1fd8f7db5c341cdbc1abd0014761194": {
     "model_module": "@jupyter-widgets/controls",
     "model_module_version": "1.5.0",
     "model_name": "ProgressStyleModel",
     "state": {
      "_model_module": "@jupyter-widgets/controls",
      "_model_module_version": "1.5.0",
      "_model_name": "ProgressStyleModel",
      "_view_count": null,
      "_view_module": "@jupyter-widgets/base",
      "_view_module_version": "1.2.0",
      "_view_name": "StyleView",
      "bar_color": null,
      "description_width": ""
     }
    },
    "d2524c2fd7de4b4b888cccb00215470b": {
     "model_module": "@jupyter-widgets/base",
     "model_module_version": "1.2.0",
     "model_name": "LayoutModel",
     "state": {
      "_model_module": "@jupyter-widgets/base",
      "_model_module_version": "1.2.0",
      "_model_name": "LayoutModel",
      "_view_count": null,
      "_view_module": "@jupyter-widgets/base",
      "_view_module_version": "1.2.0",
      "_view_name": "LayoutView",
      "align_content": null,
      "align_items": null,
      "align_self": null,
      "border": null,
      "bottom": null,
      "display": null,
      "flex": null,
      "flex_flow": null,
      "grid_area": null,
      "grid_auto_columns": null,
      "grid_auto_flow": null,
      "grid_auto_rows": null,
      "grid_column": null,
      "grid_gap": null,
      "grid_row": null,
      "grid_template_areas": null,
      "grid_template_columns": null,
      "grid_template_rows": null,
      "height": null,
      "justify_content": null,
      "justify_items": null,
      "left": null,
      "margin": null,
      "max_height": null,
      "max_width": null,
      "min_height": null,
      "min_width": null,
      "object_fit": null,
      "object_position": null,
      "order": null,
      "overflow": null,
      "overflow_x": null,
      "overflow_y": null,
      "padding": null,
      "right": null,
      "top": null,
      "visibility": null,
      "width": null
     }
    },
    "d3464f386dde4be28e65d92fd9cc1d37": {
     "model_module": "@jupyter-widgets/base",
     "model_module_version": "1.2.0",
     "model_name": "LayoutModel",
     "state": {
      "_model_module": "@jupyter-widgets/base",
      "_model_module_version": "1.2.0",
      "_model_name": "LayoutModel",
      "_view_count": null,
      "_view_module": "@jupyter-widgets/base",
      "_view_module_version": "1.2.0",
      "_view_name": "LayoutView",
      "align_content": null,
      "align_items": null,
      "align_self": null,
      "border": null,
      "bottom": null,
      "display": null,
      "flex": null,
      "flex_flow": null,
      "grid_area": null,
      "grid_auto_columns": null,
      "grid_auto_flow": null,
      "grid_auto_rows": null,
      "grid_column": null,
      "grid_gap": null,
      "grid_row": null,
      "grid_template_areas": null,
      "grid_template_columns": null,
      "grid_template_rows": null,
      "height": null,
      "justify_content": null,
      "justify_items": null,
      "left": null,
      "margin": null,
      "max_height": null,
      "max_width": null,
      "min_height": null,
      "min_width": null,
      "object_fit": null,
      "object_position": null,
      "order": null,
      "overflow": null,
      "overflow_x": null,
      "overflow_y": null,
      "padding": null,
      "right": null,
      "top": null,
      "visibility": null,
      "width": null
     }
    },
    "e117fb520fce4bb095f1be96b1eef1da": {
     "model_module": "@jupyter-widgets/controls",
     "model_module_version": "1.5.0",
     "model_name": "DescriptionStyleModel",
     "state": {
      "_model_module": "@jupyter-widgets/controls",
      "_model_module_version": "1.5.0",
      "_model_name": "DescriptionStyleModel",
      "_view_count": null,
      "_view_module": "@jupyter-widgets/base",
      "_view_module_version": "1.2.0",
      "_view_name": "StyleView",
      "description_width": ""
     }
    },
    "e1a453582b27423e82f476b101eaffcc": {
     "model_module": "@jupyter-widgets/controls",
     "model_module_version": "1.5.0",
     "model_name": "ProgressStyleModel",
     "state": {
      "_model_module": "@jupyter-widgets/controls",
      "_model_module_version": "1.5.0",
      "_model_name": "ProgressStyleModel",
      "_view_count": null,
      "_view_module": "@jupyter-widgets/base",
      "_view_module_version": "1.2.0",
      "_view_name": "StyleView",
      "bar_color": null,
      "description_width": ""
     }
    },
    "e67c517336144c8faa3f073056b821b7": {
     "model_module": "@jupyter-widgets/controls",
     "model_module_version": "1.5.0",
     "model_name": "DescriptionStyleModel",
     "state": {
      "_model_module": "@jupyter-widgets/controls",
      "_model_module_version": "1.5.0",
      "_model_name": "DescriptionStyleModel",
      "_view_count": null,
      "_view_module": "@jupyter-widgets/base",
      "_view_module_version": "1.2.0",
      "_view_name": "StyleView",
      "description_width": ""
     }
    },
    "e6981020480b42f089c699aebdb956c1": {
     "model_module": "@jupyter-widgets/controls",
     "model_module_version": "1.5.0",
     "model_name": "ProgressStyleModel",
     "state": {
      "_model_module": "@jupyter-widgets/controls",
      "_model_module_version": "1.5.0",
      "_model_name": "ProgressStyleModel",
      "_view_count": null,
      "_view_module": "@jupyter-widgets/base",
      "_view_module_version": "1.2.0",
      "_view_name": "StyleView",
      "bar_color": null,
      "description_width": ""
     }
    },
    "e88e19eae2684fc89e2a152777677fd9": {
     "model_module": "@jupyter-widgets/controls",
     "model_module_version": "1.5.0",
     "model_name": "ProgressStyleModel",
     "state": {
      "_model_module": "@jupyter-widgets/controls",
      "_model_module_version": "1.5.0",
      "_model_name": "ProgressStyleModel",
      "_view_count": null,
      "_view_module": "@jupyter-widgets/base",
      "_view_module_version": "1.2.0",
      "_view_name": "StyleView",
      "bar_color": null,
      "description_width": ""
     }
    },
    "eb8b8be6e3ce4228a2ef1634021c306b": {
     "model_module": "@jupyter-widgets/controls",
     "model_module_version": "1.5.0",
     "model_name": "DescriptionStyleModel",
     "state": {
      "_model_module": "@jupyter-widgets/controls",
      "_model_module_version": "1.5.0",
      "_model_name": "DescriptionStyleModel",
      "_view_count": null,
      "_view_module": "@jupyter-widgets/base",
      "_view_module_version": "1.2.0",
      "_view_name": "StyleView",
      "description_width": ""
     }
    },
    "edbdd4e3531b4421bbdb290a637dc42e": {
     "model_module": "@jupyter-widgets/controls",
     "model_module_version": "1.5.0",
     "model_name": "HTMLModel",
     "state": {
      "_dom_classes": [],
      "_model_module": "@jupyter-widgets/controls",
      "_model_module_version": "1.5.0",
      "_model_name": "HTMLModel",
      "_view_count": null,
      "_view_module": "@jupyter-widgets/controls",
      "_view_module_version": "1.5.0",
      "_view_name": "HTMLView",
      "description": "",
      "description_tooltip": null,
      "layout": "IPY_MODEL_39dda062c1af41da8480db6044c7adec",
      "placeholder": "​",
      "style": "IPY_MODEL_f8e515756d3b4fc3840bf776bba4437f",
      "value": " 607k/607k [00:00&lt;00:00, 23.4MB/s]"
     }
    },
    "efc674c6c14a4b41a7ea0da82e19080f": {
     "model_module": "@jupyter-widgets/controls",
     "model_module_version": "1.5.0",
     "model_name": "HTMLModel",
     "state": {
      "_dom_classes": [],
      "_model_module": "@jupyter-widgets/controls",
      "_model_module_version": "1.5.0",
      "_model_name": "HTMLModel",
      "_view_count": null,
      "_view_module": "@jupyter-widgets/controls",
      "_view_module_version": "1.5.0",
      "_view_name": "HTMLView",
      "description": "",
      "description_tooltip": null,
      "layout": "IPY_MODEL_6ee0fd2930ab44cf87bd5d580ed2fc8c",
      "placeholder": "​",
      "style": "IPY_MODEL_93bb0a07444d46f59810afd1acd51fea",
      "value": "Downloading (…)lve/main/config.json: 100%"
     }
    },
    "f8e515756d3b4fc3840bf776bba4437f": {
     "model_module": "@jupyter-widgets/controls",
     "model_module_version": "1.5.0",
     "model_name": "DescriptionStyleModel",
     "state": {
      "_model_module": "@jupyter-widgets/controls",
      "_model_module_version": "1.5.0",
      "_model_name": "DescriptionStyleModel",
      "_view_count": null,
      "_view_module": "@jupyter-widgets/base",
      "_view_module_version": "1.2.0",
      "_view_name": "StyleView",
      "description_width": ""
     }
    }
   }
  }
 },
 "nbformat": 4,
 "nbformat_minor": 1
}
